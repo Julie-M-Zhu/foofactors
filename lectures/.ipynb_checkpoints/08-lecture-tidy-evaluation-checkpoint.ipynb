{
 "cells": [
  {
   "cell_type": "markdown",
   "metadata": {
    "slideshow": {
     "slide_type": "slide"
    }
   },
   "source": [
    "# Lecture 8: Tidy evaluation"
   ]
  },
  {
   "cell_type": "markdown",
   "metadata": {
    "slideshow": {
     "slide_type": "slide"
    }
   },
   "source": [
    "### Lecture learning objectives:\n",
    "\n",
    "By then end of this lecture & worksheet 8, students should be able to:\n",
    "* Describe data masking as it relates to the `dplyr` functions. Explain the problems it solves for interactive programming and the problems it creates for programming in a non-interactive setting\n",
    "* Explain what the `enquo()` function and the `!!` operator do in R in the context of data masking as it relates to the `dplyr` functions\n",
    "* Use the `{{` (read: curly curly) operator (abstracts quote-and-unquote into a single interpolation step), the `:=` (read: walrus) operatpr in R, and `...` (read: pass the dots) to write functions which wrap the `dplyr` functions\n"
   ]
  },
  {
   "cell_type": "code",
   "execution_count": 43,
   "metadata": {
    "slideshow": {
     "slide_type": "slide"
    }
   },
   "outputs": [],
   "source": [
    "library(gapminder)\n",
    "library(tidyverse)\n",
    "options(repr.matrix.max.rows = 5)"
   ]
  },
  {
   "cell_type": "markdown",
   "metadata": {
    "slideshow": {
     "slide_type": "slide"
    }
   },
   "source": [
    "### What Metaprogramming lets you do in R\n",
    "\n",
    "- write `library(purrr)` instead of `library(\"purrr\")`\n",
    "- enable `plot(x, sin(x))` to automatically label the axes with `x` and `sin(x)`\n",
    "- create a model object via `lm(y ~ x1 + x2, data = df)`\n",
    "- and much much more (that you will see in Data Wrangling as we explore the tidyverse)"
   ]
  },
  {
   "cell_type": "markdown",
   "metadata": {
    "slideshow": {
     "slide_type": "slide"
    }
   },
   "source": [
    "#### What is metaprogramming?\n",
    "\n",
    "Code that writes code/code that mutates code."
   ]
  },
  {
   "cell_type": "markdown",
   "metadata": {
    "slideshow": {
     "slide_type": "fragment"
    }
   },
   "source": [
    "#### Our narrow focus on metaprogramming for this course:\n",
    "\n",
    "Tidy evaluation"
   ]
  },
  {
   "cell_type": "markdown",
   "metadata": {
    "slideshow": {
     "slide_type": "slide"
    }
   },
   "source": [
    "#### Why focus on tidy evaluation\n",
    "\n",
    "In the rest of MDS you will be relying on functions from the tidyverse to do a lot of:\n",
    "- data wrangling\n",
    "- statistics\n",
    "- data visualization"
   ]
  },
  {
   "cell_type": "markdown",
   "metadata": {
    "slideshow": {
     "slide_type": "slide"
    }
   },
   "source": [
    "## Tidy evaluation\n",
    "\n",
    "The functions from the tidyverse are beautiful to use interactively."
   ]
  },
  {
   "cell_type": "code",
   "execution_count": 42,
   "metadata": {
    "slideshow": {
     "slide_type": "slide"
    }
   },
   "outputs": [
    {
     "data": {
      "text/html": [
       "<table>\n",
       "<caption>A tibble: 1704 × 6</caption>\n",
       "<thead>\n",
       "\t<tr><th scope=col>country</th><th scope=col>continent</th><th scope=col>year</th><th scope=col>lifeExp</th><th scope=col>pop</th><th scope=col>gdpPercap</th></tr>\n",
       "\t<tr><th scope=col>&lt;fct&gt;</th><th scope=col>&lt;fct&gt;</th><th scope=col>&lt;int&gt;</th><th scope=col>&lt;dbl&gt;</th><th scope=col>&lt;int&gt;</th><th scope=col>&lt;dbl&gt;</th></tr>\n",
       "</thead>\n",
       "<tbody>\n",
       "\t<tr><td>Afghanistan</td><td>Asia</td><td>1952</td><td>28.801</td><td> 8425333</td><td>779.4453</td></tr>\n",
       "\t<tr><td>Afghanistan</td><td>Asia</td><td>1957</td><td>30.332</td><td> 9240934</td><td>820.8530</td></tr>\n",
       "\t<tr><td>Afghanistan</td><td>Asia</td><td>1962</td><td>31.997</td><td>10267083</td><td>853.1007</td></tr>\n",
       "\t<tr><td>Afghanistan</td><td>Asia</td><td>1967</td><td>34.020</td><td>11537966</td><td>836.1971</td></tr>\n",
       "\t<tr><td>Afghanistan</td><td>Asia</td><td>1972</td><td>36.088</td><td>13079460</td><td>739.9811</td></tr>\n",
       "\t<tr><td>⋮</td><td>⋮</td><td>⋮</td><td>⋮</td><td>⋮</td><td>⋮</td></tr>\n",
       "\t<tr><td>Zimbabwe</td><td>Africa</td><td>1987</td><td>62.351</td><td> 9216418</td><td>706.1573</td></tr>\n",
       "\t<tr><td>Zimbabwe</td><td>Africa</td><td>1992</td><td>60.377</td><td>10704340</td><td>693.4208</td></tr>\n",
       "\t<tr><td>Zimbabwe</td><td>Africa</td><td>1997</td><td>46.809</td><td>11404948</td><td>792.4500</td></tr>\n",
       "\t<tr><td>Zimbabwe</td><td>Africa</td><td>2002</td><td>39.989</td><td>11926563</td><td>672.0386</td></tr>\n",
       "\t<tr><td>Zimbabwe</td><td>Africa</td><td>2007</td><td>43.487</td><td>12311143</td><td>469.7093</td></tr>\n",
       "</tbody>\n",
       "</table>\n"
      ],
      "text/latex": [
       "A tibble: 1704 × 6\n",
       "\\begin{tabular}{llllll}\n",
       " country & continent & year & lifeExp & pop & gdpPercap\\\\\n",
       " <fct> & <fct> & <int> & <dbl> & <int> & <dbl>\\\\\n",
       "\\hline\n",
       "\t Afghanistan & Asia & 1952 & 28.801 &  8425333 & 779.4453\\\\\n",
       "\t Afghanistan & Asia & 1957 & 30.332 &  9240934 & 820.8530\\\\\n",
       "\t Afghanistan & Asia & 1962 & 31.997 & 10267083 & 853.1007\\\\\n",
       "\t Afghanistan & Asia & 1967 & 34.020 & 11537966 & 836.1971\\\\\n",
       "\t Afghanistan & Asia & 1972 & 36.088 & 13079460 & 739.9811\\\\\n",
       "\t ⋮ & ⋮ & ⋮ & ⋮ & ⋮ & ⋮\\\\\n",
       "\t Zimbabwe & Africa & 1987 & 62.351 &  9216418 & 706.1573\\\\\n",
       "\t Zimbabwe & Africa & 1992 & 60.377 & 10704340 & 693.4208\\\\\n",
       "\t Zimbabwe & Africa & 1997 & 46.809 & 11404948 & 792.4500\\\\\n",
       "\t Zimbabwe & Africa & 2002 & 39.989 & 11926563 & 672.0386\\\\\n",
       "\t Zimbabwe & Africa & 2007 & 43.487 & 12311143 & 469.7093\\\\\n",
       "\\end{tabular}\n"
      ],
      "text/markdown": [
       "\n",
       "A tibble: 1704 × 6\n",
       "\n",
       "| country &lt;fct&gt; | continent &lt;fct&gt; | year &lt;int&gt; | lifeExp &lt;dbl&gt; | pop &lt;int&gt; | gdpPercap &lt;dbl&gt; |\n",
       "|---|---|---|---|---|---|\n",
       "| Afghanistan | Asia | 1952 | 28.801 |  8425333 | 779.4453 |\n",
       "| Afghanistan | Asia | 1957 | 30.332 |  9240934 | 820.8530 |\n",
       "| Afghanistan | Asia | 1962 | 31.997 | 10267083 | 853.1007 |\n",
       "| Afghanistan | Asia | 1967 | 34.020 | 11537966 | 836.1971 |\n",
       "| Afghanistan | Asia | 1972 | 36.088 | 13079460 | 739.9811 |\n",
       "| ⋮ | ⋮ | ⋮ | ⋮ | ⋮ | ⋮ |\n",
       "| Zimbabwe | Africa | 1987 | 62.351 |  9216418 | 706.1573 |\n",
       "| Zimbabwe | Africa | 1992 | 60.377 | 10704340 | 693.4208 |\n",
       "| Zimbabwe | Africa | 1997 | 46.809 | 11404948 | 792.4500 |\n",
       "| Zimbabwe | Africa | 2002 | 39.989 | 11926563 | 672.0386 |\n",
       "| Zimbabwe | Africa | 2007 | 43.487 | 12311143 | 469.7093 |\n",
       "\n"
      ],
      "text/plain": [
       "     country     continent year lifeExp pop      gdpPercap\n",
       "1    Afghanistan Asia      1952 28.801   8425333 779.4453 \n",
       "2    Afghanistan Asia      1957 30.332   9240934 820.8530 \n",
       "3    Afghanistan Asia      1962 31.997  10267083 853.1007 \n",
       "4    Afghanistan Asia      1967 34.020  11537966 836.1971 \n",
       "5    Afghanistan Asia      1972 36.088  13079460 739.9811 \n",
       "⋮    ⋮           ⋮         ⋮    ⋮       ⋮        ⋮        \n",
       "1700 Zimbabwe    Africa    1987 62.351   9216418 706.1573 \n",
       "1701 Zimbabwe    Africa    1992 60.377  10704340 693.4208 \n",
       "1702 Zimbabwe    Africa    1997 46.809  11404948 792.4500 \n",
       "1703 Zimbabwe    Africa    2002 39.989  11926563 672.0386 \n",
       "1704 Zimbabwe    Africa    2007 43.487  12311143 469.7093 "
      ]
     },
     "metadata": {},
     "output_type": "display_data"
    }
   ],
   "source": [
    "gapminder"
   ]
  },
  {
   "cell_type": "markdown",
   "metadata": {
    "slideshow": {
     "slide_type": "slide"
    }
   },
   "source": [
    "with base r:"
   ]
  },
  {
   "cell_type": "code",
   "execution_count": 3,
   "metadata": {
    "slideshow": {
     "slide_type": "fragment"
    }
   },
   "outputs": [
    {
     "data": {
      "text/html": [
       "<table>\n",
       "<caption>A tibble: 1 × 6</caption>\n",
       "<thead>\n",
       "\t<tr><th scope=col>country</th><th scope=col>continent</th><th scope=col>year</th><th scope=col>lifeExp</th><th scope=col>pop</th><th scope=col>gdpPercap</th></tr>\n",
       "\t<tr><th scope=col>&lt;fct&gt;</th><th scope=col>&lt;fct&gt;</th><th scope=col>&lt;int&gt;</th><th scope=col>&lt;dbl&gt;</th><th scope=col>&lt;int&gt;</th><th scope=col>&lt;dbl&gt;</th></tr>\n",
       "</thead>\n",
       "<tbody>\n",
       "\t<tr><td>Canada</td><td>Americas</td><td>1952</td><td>68.75</td><td>14785584</td><td>11367.16</td></tr>\n",
       "</tbody>\n",
       "</table>\n"
      ],
      "text/latex": [
       "A tibble: 1 × 6\n",
       "\\begin{tabular}{llllll}\n",
       " country & continent & year & lifeExp & pop & gdpPercap\\\\\n",
       " <fct> & <fct> & <int> & <dbl> & <int> & <dbl>\\\\\n",
       "\\hline\n",
       "\t Canada & Americas & 1952 & 68.75 & 14785584 & 11367.16\\\\\n",
       "\\end{tabular}\n"
      ],
      "text/markdown": [
       "\n",
       "A tibble: 1 × 6\n",
       "\n",
       "| country &lt;fct&gt; | continent &lt;fct&gt; | year &lt;int&gt; | lifeExp &lt;dbl&gt; | pop &lt;int&gt; | gdpPercap &lt;dbl&gt; |\n",
       "|---|---|---|---|---|---|\n",
       "| Canada | Americas | 1952 | 68.75 | 14785584 | 11367.16 |\n",
       "\n"
      ],
      "text/plain": [
       "  country continent year lifeExp pop      gdpPercap\n",
       "1 Canada  Americas  1952 68.75   14785584 11367.16 "
      ]
     },
     "metadata": {},
     "output_type": "display_data"
    }
   ],
   "source": [
    "gapminder[gapminder$country == \"Canada\" & gapminder$year == 1952, ]"
   ]
  },
  {
   "cell_type": "markdown",
   "metadata": {
    "slideshow": {
     "slide_type": "fragment"
    }
   },
   "source": [
    "In the tidyverse:"
   ]
  },
  {
   "cell_type": "code",
   "execution_count": 4,
   "metadata": {
    "slideshow": {
     "slide_type": "fragment"
    }
   },
   "outputs": [
    {
     "data": {
      "text/html": [
       "<table>\n",
       "<caption>A tibble: 1 × 6</caption>\n",
       "<thead>\n",
       "\t<tr><th scope=col>country</th><th scope=col>continent</th><th scope=col>year</th><th scope=col>lifeExp</th><th scope=col>pop</th><th scope=col>gdpPercap</th></tr>\n",
       "\t<tr><th scope=col>&lt;fct&gt;</th><th scope=col>&lt;fct&gt;</th><th scope=col>&lt;int&gt;</th><th scope=col>&lt;dbl&gt;</th><th scope=col>&lt;int&gt;</th><th scope=col>&lt;dbl&gt;</th></tr>\n",
       "</thead>\n",
       "<tbody>\n",
       "\t<tr><td>Canada</td><td>Americas</td><td>1952</td><td>68.75</td><td>14785584</td><td>11367.16</td></tr>\n",
       "</tbody>\n",
       "</table>\n"
      ],
      "text/latex": [
       "A tibble: 1 × 6\n",
       "\\begin{tabular}{llllll}\n",
       " country & continent & year & lifeExp & pop & gdpPercap\\\\\n",
       " <fct> & <fct> & <int> & <dbl> & <int> & <dbl>\\\\\n",
       "\\hline\n",
       "\t Canada & Americas & 1952 & 68.75 & 14785584 & 11367.16\\\\\n",
       "\\end{tabular}\n"
      ],
      "text/markdown": [
       "\n",
       "A tibble: 1 × 6\n",
       "\n",
       "| country &lt;fct&gt; | continent &lt;fct&gt; | year &lt;int&gt; | lifeExp &lt;dbl&gt; | pop &lt;int&gt; | gdpPercap &lt;dbl&gt; |\n",
       "|---|---|---|---|---|---|\n",
       "| Canada | Americas | 1952 | 68.75 | 14785584 | 11367.16 |\n",
       "\n"
      ],
      "text/plain": [
       "  country continent year lifeExp pop      gdpPercap\n",
       "1 Canada  Americas  1952 68.75   14785584 11367.16 "
      ]
     },
     "metadata": {},
     "output_type": "display_data"
    }
   ],
   "source": [
    "filter(gapminder, country == \"Canada\", year == 1952)"
   ]
  },
  {
   "cell_type": "markdown",
   "metadata": {
    "slideshow": {
     "slide_type": "slide"
    }
   },
   "source": [
    "#### How does that even work?"
   ]
  },
  {
   "cell_type": "markdown",
   "metadata": {
    "slideshow": {
     "slide_type": "fragment"
    }
   },
   "source": [
    "- When functions like `filter` are called, there is a delay in evaluation and the data frame is temporarily promoted as first class objects, we say the data masks the workspace"
   ]
  },
  {
   "cell_type": "markdown",
   "metadata": {
    "slideshow": {
     "slide_type": "fragment"
    }
   },
   "source": [
    "- This is to allow the promotion of the data frame, such that it masks the workspace (global environment) "
   ]
  },
  {
   "cell_type": "markdown",
   "metadata": {
    "slideshow": {
     "slide_type": "fragment"
    }
   },
   "source": [
    "- When this happens, R can then find the relevant columns for the computation"
   ]
  },
  {
   "cell_type": "markdown",
   "metadata": {
    "slideshow": {
     "slide_type": "fragment"
    }
   },
   "source": [
    "*This is referred to as data masking*"
   ]
  },
  {
   "cell_type": "markdown",
   "metadata": {
    "slideshow": {
     "slide_type": "slide"
    }
   },
   "source": [
    "#### Back to our example:\n",
    "\n",
    "What is going on here?\n",
    "\n",
    "- code evaluation is delayed \n",
    "- the `filter` function quotes columns `country` and `year`\n",
    "- the `filter` function then creates a data mask (to mingle variables from the environment and the data frame)\n",
    "- the columns `country` and `year` and unquoted and evaluated within the data mask"
   ]
  },
  {
   "cell_type": "code",
   "execution_count": 5,
   "metadata": {
    "slideshow": {
     "slide_type": "fragment"
    }
   },
   "outputs": [
    {
     "data": {
      "text/html": [
       "<table>\n",
       "<caption>A tibble: 1 × 6</caption>\n",
       "<thead>\n",
       "\t<tr><th scope=col>country</th><th scope=col>continent</th><th scope=col>year</th><th scope=col>lifeExp</th><th scope=col>pop</th><th scope=col>gdpPercap</th></tr>\n",
       "\t<tr><th scope=col>&lt;fct&gt;</th><th scope=col>&lt;fct&gt;</th><th scope=col>&lt;int&gt;</th><th scope=col>&lt;dbl&gt;</th><th scope=col>&lt;int&gt;</th><th scope=col>&lt;dbl&gt;</th></tr>\n",
       "</thead>\n",
       "<tbody>\n",
       "\t<tr><td>Canada</td><td>Americas</td><td>1952</td><td>68.75</td><td>14785584</td><td>11367.16</td></tr>\n",
       "</tbody>\n",
       "</table>\n"
      ],
      "text/latex": [
       "A tibble: 1 × 6\n",
       "\\begin{tabular}{llllll}\n",
       " country & continent & year & lifeExp & pop & gdpPercap\\\\\n",
       " <fct> & <fct> & <int> & <dbl> & <int> & <dbl>\\\\\n",
       "\\hline\n",
       "\t Canada & Americas & 1952 & 68.75 & 14785584 & 11367.16\\\\\n",
       "\\end{tabular}\n"
      ],
      "text/markdown": [
       "\n",
       "A tibble: 1 × 6\n",
       "\n",
       "| country &lt;fct&gt; | continent &lt;fct&gt; | year &lt;int&gt; | lifeExp &lt;dbl&gt; | pop &lt;int&gt; | gdpPercap &lt;dbl&gt; |\n",
       "|---|---|---|---|---|---|\n",
       "| Canada | Americas | 1952 | 68.75 | 14785584 | 11367.16 |\n",
       "\n"
      ],
      "text/plain": [
       "  country continent year lifeExp pop      gdpPercap\n",
       "1 Canada  Americas  1952 68.75   14785584 11367.16 "
      ]
     },
     "metadata": {},
     "output_type": "display_data"
    }
   ],
   "source": [
    "filter(gapminder, country == \"Canada\", year == 1952)"
   ]
  },
  {
   "cell_type": "markdown",
   "metadata": {
    "slideshow": {
     "slide_type": "slide"
    }
   },
   "source": [
    "#### Trade off of lovely interactivity of tidyverse functions...\n",
    "\n",
    "#### programming with them can be more challenging.\n",
    "\n",
    "Let's try writing a function which wraps filter for gapminder:"
   ]
  },
  {
   "cell_type": "markdown",
   "metadata": {
    "slideshow": {
     "slide_type": "fragment"
    }
   },
   "source": [
    "```\n",
    "filter_gap <- function(col, val) {\n",
    "    filter(gapminder, col == val)\n",
    "}\n",
    "\n",
    "filter_gap(country, \"Canada\")\n",
    "```"
   ]
  },
  {
   "cell_type": "markdown",
   "metadata": {
    "slideshow": {
     "slide_type": "fragment"
    }
   },
   "source": [
    "```\n",
    "Error: object 'country' not found\n",
    "Traceback:\n",
    "\n",
    "1. filter_gap(country, \"Canada\")\n",
    "2. filter(gapminder, col == val)   # at line 4 of file <text>\n",
    "3. filter.tbl_df(gapminder, col == val)\n",
    "4. filter_impl(.data, quo)\n",
    "\n",
    "```"
   ]
  },
  {
   "cell_type": "markdown",
   "metadata": {
    "slideshow": {
     "slide_type": "fragment"
    }
   },
   "source": [
    "Why does `filter` work with non-quoted variable names, but our function `filter_gap` fail?"
   ]
  },
  {
   "cell_type": "markdown",
   "metadata": {
    "slideshow": {
     "slide_type": "slide"
    }
   },
   "source": [
    "### Defining functions using tidy eval's `enquo` and `!!`:\n",
    "\n",
    "Use `enquo` to quote the column names, and then `!!` to unquote them in context."
   ]
  },
  {
   "cell_type": "code",
   "execution_count": 6,
   "metadata": {
    "slideshow": {
     "slide_type": "fragment"
    }
   },
   "outputs": [
    {
     "data": {
      "text/html": [
       "<table>\n",
       "<caption>A tibble: 12 × 6</caption>\n",
       "<thead>\n",
       "\t<tr><th scope=col>country</th><th scope=col>continent</th><th scope=col>year</th><th scope=col>lifeExp</th><th scope=col>pop</th><th scope=col>gdpPercap</th></tr>\n",
       "\t<tr><th scope=col>&lt;fct&gt;</th><th scope=col>&lt;fct&gt;</th><th scope=col>&lt;int&gt;</th><th scope=col>&lt;dbl&gt;</th><th scope=col>&lt;int&gt;</th><th scope=col>&lt;dbl&gt;</th></tr>\n",
       "</thead>\n",
       "<tbody>\n",
       "\t<tr><td>Canada</td><td>Americas</td><td>1952</td><td>68.75</td><td>14785584</td><td>11367.16</td></tr>\n",
       "\t<tr><td>Canada</td><td>Americas</td><td>1957</td><td>69.96</td><td>17010154</td><td>12489.95</td></tr>\n",
       "\t<tr><td>Canada</td><td>Americas</td><td>1962</td><td>71.30</td><td>18985849</td><td>13462.49</td></tr>\n",
       "\t<tr><td>Canada</td><td>Americas</td><td>1967</td><td>72.13</td><td>20819767</td><td>16076.59</td></tr>\n",
       "\t<tr><td>Canada</td><td>Americas</td><td>1972</td><td>72.88</td><td>22284500</td><td>18970.57</td></tr>\n",
       "\t<tr><td>⋮</td><td>⋮</td><td>⋮</td><td>⋮</td><td>⋮</td><td>⋮</td></tr>\n",
       "\t<tr><td>Canada</td><td>Americas</td><td>1987</td><td>76.860</td><td>26549700</td><td>26626.52</td></tr>\n",
       "\t<tr><td>Canada</td><td>Americas</td><td>1992</td><td>77.950</td><td>28523502</td><td>26342.88</td></tr>\n",
       "\t<tr><td>Canada</td><td>Americas</td><td>1997</td><td>78.610</td><td>30305843</td><td>28954.93</td></tr>\n",
       "\t<tr><td>Canada</td><td>Americas</td><td>2002</td><td>79.770</td><td>31902268</td><td>33328.97</td></tr>\n",
       "\t<tr><td>Canada</td><td>Americas</td><td>2007</td><td>80.653</td><td>33390141</td><td>36319.24</td></tr>\n",
       "</tbody>\n",
       "</table>\n"
      ],
      "text/latex": [
       "A tibble: 12 × 6\n",
       "\\begin{tabular}{llllll}\n",
       " country & continent & year & lifeExp & pop & gdpPercap\\\\\n",
       " <fct> & <fct> & <int> & <dbl> & <int> & <dbl>\\\\\n",
       "\\hline\n",
       "\t Canada & Americas & 1952 & 68.75 & 14785584 & 11367.16\\\\\n",
       "\t Canada & Americas & 1957 & 69.96 & 17010154 & 12489.95\\\\\n",
       "\t Canada & Americas & 1962 & 71.30 & 18985849 & 13462.49\\\\\n",
       "\t Canada & Americas & 1967 & 72.13 & 20819767 & 16076.59\\\\\n",
       "\t Canada & Americas & 1972 & 72.88 & 22284500 & 18970.57\\\\\n",
       "\t ⋮ & ⋮ & ⋮ & ⋮ & ⋮ & ⋮\\\\\n",
       "\t Canada & Americas & 1987 & 76.860 & 26549700 & 26626.52\\\\\n",
       "\t Canada & Americas & 1992 & 77.950 & 28523502 & 26342.88\\\\\n",
       "\t Canada & Americas & 1997 & 78.610 & 30305843 & 28954.93\\\\\n",
       "\t Canada & Americas & 2002 & 79.770 & 31902268 & 33328.97\\\\\n",
       "\t Canada & Americas & 2007 & 80.653 & 33390141 & 36319.24\\\\\n",
       "\\end{tabular}\n"
      ],
      "text/markdown": [
       "\n",
       "A tibble: 12 × 6\n",
       "\n",
       "| country &lt;fct&gt; | continent &lt;fct&gt; | year &lt;int&gt; | lifeExp &lt;dbl&gt; | pop &lt;int&gt; | gdpPercap &lt;dbl&gt; |\n",
       "|---|---|---|---|---|---|\n",
       "| Canada | Americas | 1952 | 68.75 | 14785584 | 11367.16 |\n",
       "| Canada | Americas | 1957 | 69.96 | 17010154 | 12489.95 |\n",
       "| Canada | Americas | 1962 | 71.30 | 18985849 | 13462.49 |\n",
       "| Canada | Americas | 1967 | 72.13 | 20819767 | 16076.59 |\n",
       "| Canada | Americas | 1972 | 72.88 | 22284500 | 18970.57 |\n",
       "| ⋮ | ⋮ | ⋮ | ⋮ | ⋮ | ⋮ |\n",
       "| Canada | Americas | 1987 | 76.860 | 26549700 | 26626.52 |\n",
       "| Canada | Americas | 1992 | 77.950 | 28523502 | 26342.88 |\n",
       "| Canada | Americas | 1997 | 78.610 | 30305843 | 28954.93 |\n",
       "| Canada | Americas | 2002 | 79.770 | 31902268 | 33328.97 |\n",
       "| Canada | Americas | 2007 | 80.653 | 33390141 | 36319.24 |\n",
       "\n"
      ],
      "text/plain": [
       "   country continent year lifeExp pop      gdpPercap\n",
       "1  Canada  Americas  1952 68.75   14785584 11367.16 \n",
       "2  Canada  Americas  1957 69.96   17010154 12489.95 \n",
       "3  Canada  Americas  1962 71.30   18985849 13462.49 \n",
       "4  Canada  Americas  1967 72.13   20819767 16076.59 \n",
       "5  Canada  Americas  1972 72.88   22284500 18970.57 \n",
       "⋮  ⋮       ⋮         ⋮    ⋮       ⋮        ⋮        \n",
       "8  Canada  Americas  1987 76.860  26549700 26626.52 \n",
       "9  Canada  Americas  1992 77.950  28523502 26342.88 \n",
       "10 Canada  Americas  1997 78.610  30305843 28954.93 \n",
       "11 Canada  Americas  2002 79.770  31902268 33328.97 \n",
       "12 Canada  Americas  2007 80.653  33390141 36319.24 "
      ]
     },
     "metadata": {},
     "output_type": "display_data"
    }
   ],
   "source": [
    "filter_gap <- function(col, val) {\n",
    "    col <- enquo(col)\n",
    "    filter(gapminder, !!col == val)\n",
    "}\n",
    "\n",
    "filter_gap(country, \"Canada\")"
   ]
  },
  {
   "cell_type": "markdown",
   "metadata": {
    "slideshow": {
     "slide_type": "slide"
    }
   },
   "source": [
    "### Defining functions by embracing column names: `{{ }}`\n",
    "\n",
    "- In the newest release of `rlang`, there has been the introduction of the `{{` (pronounced \"curly curly\") operator.\n",
    "\n",
    "- Does the same thing as `enguo` and `!!` but (hopefully) easier to use."
   ]
  },
  {
   "cell_type": "code",
   "execution_count": 7,
   "metadata": {
    "slideshow": {
     "slide_type": "fragment"
    }
   },
   "outputs": [
    {
     "data": {
      "text/html": [
       "<table>\n",
       "<caption>A tibble: 12 × 6</caption>\n",
       "<thead>\n",
       "\t<tr><th scope=col>country</th><th scope=col>continent</th><th scope=col>year</th><th scope=col>lifeExp</th><th scope=col>pop</th><th scope=col>gdpPercap</th></tr>\n",
       "\t<tr><th scope=col>&lt;fct&gt;</th><th scope=col>&lt;fct&gt;</th><th scope=col>&lt;int&gt;</th><th scope=col>&lt;dbl&gt;</th><th scope=col>&lt;int&gt;</th><th scope=col>&lt;dbl&gt;</th></tr>\n",
       "</thead>\n",
       "<tbody>\n",
       "\t<tr><td>Canada</td><td>Americas</td><td>1952</td><td>68.75</td><td>14785584</td><td>11367.16</td></tr>\n",
       "\t<tr><td>Canada</td><td>Americas</td><td>1957</td><td>69.96</td><td>17010154</td><td>12489.95</td></tr>\n",
       "\t<tr><td>Canada</td><td>Americas</td><td>1962</td><td>71.30</td><td>18985849</td><td>13462.49</td></tr>\n",
       "\t<tr><td>Canada</td><td>Americas</td><td>1967</td><td>72.13</td><td>20819767</td><td>16076.59</td></tr>\n",
       "\t<tr><td>Canada</td><td>Americas</td><td>1972</td><td>72.88</td><td>22284500</td><td>18970.57</td></tr>\n",
       "\t<tr><td>⋮</td><td>⋮</td><td>⋮</td><td>⋮</td><td>⋮</td><td>⋮</td></tr>\n",
       "\t<tr><td>Canada</td><td>Americas</td><td>1987</td><td>76.860</td><td>26549700</td><td>26626.52</td></tr>\n",
       "\t<tr><td>Canada</td><td>Americas</td><td>1992</td><td>77.950</td><td>28523502</td><td>26342.88</td></tr>\n",
       "\t<tr><td>Canada</td><td>Americas</td><td>1997</td><td>78.610</td><td>30305843</td><td>28954.93</td></tr>\n",
       "\t<tr><td>Canada</td><td>Americas</td><td>2002</td><td>79.770</td><td>31902268</td><td>33328.97</td></tr>\n",
       "\t<tr><td>Canada</td><td>Americas</td><td>2007</td><td>80.653</td><td>33390141</td><td>36319.24</td></tr>\n",
       "</tbody>\n",
       "</table>\n"
      ],
      "text/latex": [
       "A tibble: 12 × 6\n",
       "\\begin{tabular}{llllll}\n",
       " country & continent & year & lifeExp & pop & gdpPercap\\\\\n",
       " <fct> & <fct> & <int> & <dbl> & <int> & <dbl>\\\\\n",
       "\\hline\n",
       "\t Canada & Americas & 1952 & 68.75 & 14785584 & 11367.16\\\\\n",
       "\t Canada & Americas & 1957 & 69.96 & 17010154 & 12489.95\\\\\n",
       "\t Canada & Americas & 1962 & 71.30 & 18985849 & 13462.49\\\\\n",
       "\t Canada & Americas & 1967 & 72.13 & 20819767 & 16076.59\\\\\n",
       "\t Canada & Americas & 1972 & 72.88 & 22284500 & 18970.57\\\\\n",
       "\t ⋮ & ⋮ & ⋮ & ⋮ & ⋮ & ⋮\\\\\n",
       "\t Canada & Americas & 1987 & 76.860 & 26549700 & 26626.52\\\\\n",
       "\t Canada & Americas & 1992 & 77.950 & 28523502 & 26342.88\\\\\n",
       "\t Canada & Americas & 1997 & 78.610 & 30305843 & 28954.93\\\\\n",
       "\t Canada & Americas & 2002 & 79.770 & 31902268 & 33328.97\\\\\n",
       "\t Canada & Americas & 2007 & 80.653 & 33390141 & 36319.24\\\\\n",
       "\\end{tabular}\n"
      ],
      "text/markdown": [
       "\n",
       "A tibble: 12 × 6\n",
       "\n",
       "| country &lt;fct&gt; | continent &lt;fct&gt; | year &lt;int&gt; | lifeExp &lt;dbl&gt; | pop &lt;int&gt; | gdpPercap &lt;dbl&gt; |\n",
       "|---|---|---|---|---|---|\n",
       "| Canada | Americas | 1952 | 68.75 | 14785584 | 11367.16 |\n",
       "| Canada | Americas | 1957 | 69.96 | 17010154 | 12489.95 |\n",
       "| Canada | Americas | 1962 | 71.30 | 18985849 | 13462.49 |\n",
       "| Canada | Americas | 1967 | 72.13 | 20819767 | 16076.59 |\n",
       "| Canada | Americas | 1972 | 72.88 | 22284500 | 18970.57 |\n",
       "| ⋮ | ⋮ | ⋮ | ⋮ | ⋮ | ⋮ |\n",
       "| Canada | Americas | 1987 | 76.860 | 26549700 | 26626.52 |\n",
       "| Canada | Americas | 1992 | 77.950 | 28523502 | 26342.88 |\n",
       "| Canada | Americas | 1997 | 78.610 | 30305843 | 28954.93 |\n",
       "| Canada | Americas | 2002 | 79.770 | 31902268 | 33328.97 |\n",
       "| Canada | Americas | 2007 | 80.653 | 33390141 | 36319.24 |\n",
       "\n"
      ],
      "text/plain": [
       "   country continent year lifeExp pop      gdpPercap\n",
       "1  Canada  Americas  1952 68.75   14785584 11367.16 \n",
       "2  Canada  Americas  1957 69.96   17010154 12489.95 \n",
       "3  Canada  Americas  1962 71.30   18985849 13462.49 \n",
       "4  Canada  Americas  1967 72.13   20819767 16076.59 \n",
       "5  Canada  Americas  1972 72.88   22284500 18970.57 \n",
       "⋮  ⋮       ⋮         ⋮    ⋮       ⋮        ⋮        \n",
       "8  Canada  Americas  1987 76.860  26549700 26626.52 \n",
       "9  Canada  Americas  1992 77.950  28523502 26342.88 \n",
       "10 Canada  Americas  1997 78.610  30305843 28954.93 \n",
       "11 Canada  Americas  2002 79.770  31902268 33328.97 \n",
       "12 Canada  Americas  2007 80.653  33390141 36319.24 "
      ]
     },
     "metadata": {},
     "output_type": "display_data"
    }
   ],
   "source": [
    "filter_gap <- function(col, val) {\n",
    "    filter(gapminder, {{col}} == val)\n",
    "}\n",
    "\n",
    "filter_gap(country, \"Canada\")"
   ]
  },
  {
   "cell_type": "markdown",
   "metadata": {
    "slideshow": {
     "slide_type": "notes"
    }
   },
   "source": [
    "### (Optional) Creating functions that handle column names as strings:\n",
    "\n",
    "Sometimes you want to pass a column name into a function as a string (often useful when you are programming and have the column names as a character vector).\n",
    "\n",
    "You can do this by using symbols + unquoting with `sym` + `!!` :"
   ]
  },
  {
   "cell_type": "code",
   "execution_count": 9,
   "metadata": {
    "slideshow": {
     "slide_type": "notes"
    }
   },
   "outputs": [
    {
     "data": {
      "text/html": [
       "<table>\n",
       "<caption>A tibble: 12 × 6</caption>\n",
       "<thead>\n",
       "\t<tr><th scope=col>country</th><th scope=col>continent</th><th scope=col>year</th><th scope=col>lifeExp</th><th scope=col>pop</th><th scope=col>gdpPercap</th></tr>\n",
       "\t<tr><th scope=col>&lt;fct&gt;</th><th scope=col>&lt;fct&gt;</th><th scope=col>&lt;int&gt;</th><th scope=col>&lt;dbl&gt;</th><th scope=col>&lt;int&gt;</th><th scope=col>&lt;dbl&gt;</th></tr>\n",
       "</thead>\n",
       "<tbody>\n",
       "\t<tr><td>Canada</td><td>Americas</td><td>1952</td><td>68.75</td><td>14785584</td><td>11367.16</td></tr>\n",
       "\t<tr><td>Canada</td><td>Americas</td><td>1957</td><td>69.96</td><td>17010154</td><td>12489.95</td></tr>\n",
       "\t<tr><td>Canada</td><td>Americas</td><td>1962</td><td>71.30</td><td>18985849</td><td>13462.49</td></tr>\n",
       "\t<tr><td>Canada</td><td>Americas</td><td>1967</td><td>72.13</td><td>20819767</td><td>16076.59</td></tr>\n",
       "\t<tr><td>Canada</td><td>Americas</td><td>1972</td><td>72.88</td><td>22284500</td><td>18970.57</td></tr>\n",
       "\t<tr><td>⋮</td><td>⋮</td><td>⋮</td><td>⋮</td><td>⋮</td><td>⋮</td></tr>\n",
       "\t<tr><td>Canada</td><td>Americas</td><td>1987</td><td>76.860</td><td>26549700</td><td>26626.52</td></tr>\n",
       "\t<tr><td>Canada</td><td>Americas</td><td>1992</td><td>77.950</td><td>28523502</td><td>26342.88</td></tr>\n",
       "\t<tr><td>Canada</td><td>Americas</td><td>1997</td><td>78.610</td><td>30305843</td><td>28954.93</td></tr>\n",
       "\t<tr><td>Canada</td><td>Americas</td><td>2002</td><td>79.770</td><td>31902268</td><td>33328.97</td></tr>\n",
       "\t<tr><td>Canada</td><td>Americas</td><td>2007</td><td>80.653</td><td>33390141</td><td>36319.24</td></tr>\n",
       "</tbody>\n",
       "</table>\n"
      ],
      "text/latex": [
       "A tibble: 12 × 6\n",
       "\\begin{tabular}{llllll}\n",
       " country & continent & year & lifeExp & pop & gdpPercap\\\\\n",
       " <fct> & <fct> & <int> & <dbl> & <int> & <dbl>\\\\\n",
       "\\hline\n",
       "\t Canada & Americas & 1952 & 68.75 & 14785584 & 11367.16\\\\\n",
       "\t Canada & Americas & 1957 & 69.96 & 17010154 & 12489.95\\\\\n",
       "\t Canada & Americas & 1962 & 71.30 & 18985849 & 13462.49\\\\\n",
       "\t Canada & Americas & 1967 & 72.13 & 20819767 & 16076.59\\\\\n",
       "\t Canada & Americas & 1972 & 72.88 & 22284500 & 18970.57\\\\\n",
       "\t ⋮ & ⋮ & ⋮ & ⋮ & ⋮ & ⋮\\\\\n",
       "\t Canada & Americas & 1987 & 76.860 & 26549700 & 26626.52\\\\\n",
       "\t Canada & Americas & 1992 & 77.950 & 28523502 & 26342.88\\\\\n",
       "\t Canada & Americas & 1997 & 78.610 & 30305843 & 28954.93\\\\\n",
       "\t Canada & Americas & 2002 & 79.770 & 31902268 & 33328.97\\\\\n",
       "\t Canada & Americas & 2007 & 80.653 & 33390141 & 36319.24\\\\\n",
       "\\end{tabular}\n"
      ],
      "text/markdown": [
       "\n",
       "A tibble: 12 × 6\n",
       "\n",
       "| country &lt;fct&gt; | continent &lt;fct&gt; | year &lt;int&gt; | lifeExp &lt;dbl&gt; | pop &lt;int&gt; | gdpPercap &lt;dbl&gt; |\n",
       "|---|---|---|---|---|---|\n",
       "| Canada | Americas | 1952 | 68.75 | 14785584 | 11367.16 |\n",
       "| Canada | Americas | 1957 | 69.96 | 17010154 | 12489.95 |\n",
       "| Canada | Americas | 1962 | 71.30 | 18985849 | 13462.49 |\n",
       "| Canada | Americas | 1967 | 72.13 | 20819767 | 16076.59 |\n",
       "| Canada | Americas | 1972 | 72.88 | 22284500 | 18970.57 |\n",
       "| ⋮ | ⋮ | ⋮ | ⋮ | ⋮ | ⋮ |\n",
       "| Canada | Americas | 1987 | 76.860 | 26549700 | 26626.52 |\n",
       "| Canada | Americas | 1992 | 77.950 | 28523502 | 26342.88 |\n",
       "| Canada | Americas | 1997 | 78.610 | 30305843 | 28954.93 |\n",
       "| Canada | Americas | 2002 | 79.770 | 31902268 | 33328.97 |\n",
       "| Canada | Americas | 2007 | 80.653 | 33390141 | 36319.24 |\n",
       "\n"
      ],
      "text/plain": [
       "   country continent year lifeExp pop      gdpPercap\n",
       "1  Canada  Americas  1952 68.75   14785584 11367.16 \n",
       "2  Canada  Americas  1957 69.96   17010154 12489.95 \n",
       "3  Canada  Americas  1962 71.30   18985849 13462.49 \n",
       "4  Canada  Americas  1967 72.13   20819767 16076.59 \n",
       "5  Canada  Americas  1972 72.88   22284500 18970.57 \n",
       "⋮  ⋮       ⋮         ⋮    ⋮       ⋮        ⋮        \n",
       "8  Canada  Americas  1987 76.860  26549700 26626.52 \n",
       "9  Canada  Americas  1992 77.950  28523502 26342.88 \n",
       "10 Canada  Americas  1997 78.610  30305843 28954.93 \n",
       "11 Canada  Americas  2002 79.770  31902268 33328.97 \n",
       "12 Canada  Americas  2007 80.653  33390141 36319.24 "
      ]
     },
     "metadata": {},
     "output_type": "display_data"
    }
   ],
   "source": [
    "# example of what we want to wrap: filter(gapminder, country == \"Canada\")\n",
    "filter_gap <- function(col, val) {\n",
    "    col <- sym(col)\n",
    "    filter(gapminder, !!col == val)\n",
    "}\n",
    "\n",
    "filter_gap(\"country\", \"Canada\")"
   ]
  },
  {
   "cell_type": "markdown",
   "metadata": {
    "slideshow": {
     "slide_type": "slide"
    }
   },
   "source": [
    "### The walrus operator `:=` is needed when assigning values\n",
    "- `:=` is needed when addinging values with tidyevaluation"
   ]
  },
  {
   "cell_type": "code",
   "execution_count": 20,
   "metadata": {
    "slideshow": {
     "slide_type": "fragment"
    }
   },
   "outputs": [
    {
     "name": "stderr",
     "output_type": "stream",
     "text": [
      "`summarise()` ungrouping output (override with `.groups` argument)\n",
      "\n"
     ]
    },
    {
     "data": {
      "text/html": [
       "<table>\n",
       "<caption>A tibble: 5 × 2</caption>\n",
       "<thead>\n",
       "\t<tr><th scope=col>continent</th><th scope=col>gdpPercap</th></tr>\n",
       "\t<tr><th scope=col>&lt;fct&gt;</th><th scope=col>&lt;dbl&gt;</th></tr>\n",
       "</thead>\n",
       "<tbody>\n",
       "\t<tr><td>Africa  </td><td> 2193.755</td></tr>\n",
       "\t<tr><td>Americas</td><td> 7136.110</td></tr>\n",
       "\t<tr><td>Asia    </td><td> 7902.150</td></tr>\n",
       "\t<tr><td>Europe  </td><td>14469.476</td></tr>\n",
       "\t<tr><td>Oceania </td><td>18621.609</td></tr>\n",
       "</tbody>\n",
       "</table>\n"
      ],
      "text/latex": [
       "A tibble: 5 × 2\n",
       "\\begin{tabular}{ll}\n",
       " continent & gdpPercap\\\\\n",
       " <fct> & <dbl>\\\\\n",
       "\\hline\n",
       "\t Africa   &  2193.755\\\\\n",
       "\t Americas &  7136.110\\\\\n",
       "\t Asia     &  7902.150\\\\\n",
       "\t Europe   & 14469.476\\\\\n",
       "\t Oceania  & 18621.609\\\\\n",
       "\\end{tabular}\n"
      ],
      "text/markdown": [
       "\n",
       "A tibble: 5 × 2\n",
       "\n",
       "| continent &lt;fct&gt; | gdpPercap &lt;dbl&gt; |\n",
       "|---|---|\n",
       "| Africa   |  2193.755 |\n",
       "| Americas |  7136.110 |\n",
       "| Asia     |  7902.150 |\n",
       "| Europe   | 14469.476 |\n",
       "| Oceania  | 18621.609 |\n",
       "\n"
      ],
      "text/plain": [
       "  continent gdpPercap\n",
       "1 Africa     2193.755\n",
       "2 Americas   7136.110\n",
       "3 Asia       7902.150\n",
       "4 Europe    14469.476\n",
       "5 Oceania   18621.609"
      ]
     },
     "metadata": {},
     "output_type": "display_data"
    }
   ],
   "source": [
    "group_summary <- function(data, group, col, fun) {\n",
    "    data %>% \n",
    "        group_by({{ group }}) %>% \n",
    "        summarise( {{ col }} := fun({{ col }}))\n",
    "}\n",
    "\n",
    "group_summary(gapminder, continent, gdpPercap, mean)"
   ]
  },
  {
   "cell_type": "markdown",
   "metadata": {
    "slideshow": {
     "slide_type": "slide"
    }
   },
   "source": [
    "### Pass the dots when you can\n",
    "\n",
    "If you are only passing on variable to a tidyverse function, and that variable is not used in logical comparisons, or in variable assignment, you can get away with passing the dots:"
   ]
  },
  {
   "cell_type": "code",
   "execution_count": 26,
   "metadata": {
    "scrolled": true,
    "slideshow": {
     "slide_type": "fragment"
    }
   },
   "outputs": [
    {
     "data": {
      "text/html": [
       "<table>\n",
       "<caption>A tibble: 1704 × 6</caption>\n",
       "<thead>\n",
       "\t<tr><th scope=col>country</th><th scope=col>continent</th><th scope=col>year</th><th scope=col>lifeExp</th><th scope=col>pop</th><th scope=col>gdpPercap</th></tr>\n",
       "\t<tr><th scope=col>&lt;fct&gt;</th><th scope=col>&lt;fct&gt;</th><th scope=col>&lt;int&gt;</th><th scope=col>&lt;dbl&gt;</th><th scope=col>&lt;int&gt;</th><th scope=col>&lt;dbl&gt;</th></tr>\n",
       "</thead>\n",
       "<tbody>\n",
       "\t<tr><td>Afghanistan</td><td>Asia    </td><td>1952</td><td>28.801</td><td> 8425333</td><td> 779.4453</td></tr>\n",
       "\t<tr><td>Albania    </td><td>Europe  </td><td>1952</td><td>55.230</td><td> 1282697</td><td>1601.0561</td></tr>\n",
       "\t<tr><td>Algeria    </td><td>Africa  </td><td>1952</td><td>43.077</td><td> 9279525</td><td>2449.0082</td></tr>\n",
       "\t<tr><td>Angola     </td><td>Africa  </td><td>1952</td><td>30.015</td><td> 4232095</td><td>3520.6103</td></tr>\n",
       "\t<tr><td>Argentina  </td><td>Americas</td><td>1952</td><td>62.485</td><td>17876956</td><td>5911.3151</td></tr>\n",
       "\t<tr><td>⋮</td><td>⋮</td><td>⋮</td><td>⋮</td><td>⋮</td><td>⋮</td></tr>\n",
       "\t<tr><td>Vietnam           </td><td>Asia  </td><td>2007</td><td>74.249</td><td>85262356</td><td>2441.5764</td></tr>\n",
       "\t<tr><td>West Bank and Gaza</td><td>Asia  </td><td>2007</td><td>73.422</td><td> 4018332</td><td>3025.3498</td></tr>\n",
       "\t<tr><td>Yemen, Rep.       </td><td>Asia  </td><td>2007</td><td>62.698</td><td>22211743</td><td>2280.7699</td></tr>\n",
       "\t<tr><td>Zambia            </td><td>Africa</td><td>2007</td><td>42.384</td><td>11746035</td><td>1271.2116</td></tr>\n",
       "\t<tr><td>Zimbabwe          </td><td>Africa</td><td>2007</td><td>43.487</td><td>12311143</td><td> 469.7093</td></tr>\n",
       "</tbody>\n",
       "</table>\n"
      ],
      "text/latex": [
       "A tibble: 1704 × 6\n",
       "\\begin{tabular}{llllll}\n",
       " country & continent & year & lifeExp & pop & gdpPercap\\\\\n",
       " <fct> & <fct> & <int> & <dbl> & <int> & <dbl>\\\\\n",
       "\\hline\n",
       "\t Afghanistan & Asia     & 1952 & 28.801 &  8425333 &  779.4453\\\\\n",
       "\t Albania     & Europe   & 1952 & 55.230 &  1282697 & 1601.0561\\\\\n",
       "\t Algeria     & Africa   & 1952 & 43.077 &  9279525 & 2449.0082\\\\\n",
       "\t Angola      & Africa   & 1952 & 30.015 &  4232095 & 3520.6103\\\\\n",
       "\t Argentina   & Americas & 1952 & 62.485 & 17876956 & 5911.3151\\\\\n",
       "\t ⋮ & ⋮ & ⋮ & ⋮ & ⋮ & ⋮\\\\\n",
       "\t Vietnam            & Asia   & 2007 & 74.249 & 85262356 & 2441.5764\\\\\n",
       "\t West Bank and Gaza & Asia   & 2007 & 73.422 &  4018332 & 3025.3498\\\\\n",
       "\t Yemen, Rep.        & Asia   & 2007 & 62.698 & 22211743 & 2280.7699\\\\\n",
       "\t Zambia             & Africa & 2007 & 42.384 & 11746035 & 1271.2116\\\\\n",
       "\t Zimbabwe           & Africa & 2007 & 43.487 & 12311143 &  469.7093\\\\\n",
       "\\end{tabular}\n"
      ],
      "text/markdown": [
       "\n",
       "A tibble: 1704 × 6\n",
       "\n",
       "| country &lt;fct&gt; | continent &lt;fct&gt; | year &lt;int&gt; | lifeExp &lt;dbl&gt; | pop &lt;int&gt; | gdpPercap &lt;dbl&gt; |\n",
       "|---|---|---|---|---|---|\n",
       "| Afghanistan | Asia     | 1952 | 28.801 |  8425333 |  779.4453 |\n",
       "| Albania     | Europe   | 1952 | 55.230 |  1282697 | 1601.0561 |\n",
       "| Algeria     | Africa   | 1952 | 43.077 |  9279525 | 2449.0082 |\n",
       "| Angola      | Africa   | 1952 | 30.015 |  4232095 | 3520.6103 |\n",
       "| Argentina   | Americas | 1952 | 62.485 | 17876956 | 5911.3151 |\n",
       "| ⋮ | ⋮ | ⋮ | ⋮ | ⋮ | ⋮ |\n",
       "| Vietnam            | Asia   | 2007 | 74.249 | 85262356 | 2441.5764 |\n",
       "| West Bank and Gaza | Asia   | 2007 | 73.422 |  4018332 | 3025.3498 |\n",
       "| Yemen, Rep.        | Asia   | 2007 | 62.698 | 22211743 | 2280.7699 |\n",
       "| Zambia             | Africa | 2007 | 42.384 | 11746035 | 1271.2116 |\n",
       "| Zimbabwe           | Africa | 2007 | 43.487 | 12311143 |  469.7093 |\n",
       "\n"
      ],
      "text/plain": [
       "     country            continent year lifeExp pop      gdpPercap\n",
       "1    Afghanistan        Asia      1952 28.801   8425333  779.4453\n",
       "2    Albania            Europe    1952 55.230   1282697 1601.0561\n",
       "3    Algeria            Africa    1952 43.077   9279525 2449.0082\n",
       "4    Angola             Africa    1952 30.015   4232095 3520.6103\n",
       "5    Argentina          Americas  1952 62.485  17876956 5911.3151\n",
       "⋮    ⋮                  ⋮         ⋮    ⋮       ⋮        ⋮        \n",
       "1700 Vietnam            Asia      2007 74.249  85262356 2441.5764\n",
       "1701 West Bank and Gaza Asia      2007 73.422   4018332 3025.3498\n",
       "1702 Yemen, Rep.        Asia      2007 62.698  22211743 2280.7699\n",
       "1703 Zambia             Africa    2007 42.384  11746035 1271.2116\n",
       "1704 Zimbabwe           Africa    2007 43.487  12311143  469.7093"
      ]
     },
     "metadata": {},
     "output_type": "display_data"
    }
   ],
   "source": [
    "sort_gap <- function(...) {\n",
    "    arrange(gapminder, ...)\n",
    "}\n",
    "\n",
    "sort_gap(year)"
   ]
  },
  {
   "cell_type": "markdown",
   "metadata": {
    "slideshow": {
     "slide_type": "slide"
    }
   },
   "source": [
    "#### Notes on passing the dots\n",
    "\n",
    "- the dots should be the last function argument (or you will not be able to use positional arguments)\n",
    "- they are useful because you can add multiple arguments"
   ]
  },
  {
   "cell_type": "markdown",
   "metadata": {
    "slideshow": {
     "slide_type": "slide"
    }
   },
   "source": [
    "For example:"
   ]
  },
  {
   "cell_type": "markdown",
   "metadata": {
    "slideshow": {
     "slide_type": "fragment"
    }
   },
   "source": [
    "```\n",
    "sort_gap <- function(..., x) {\n",
    "    print(x + 1)\n",
    "    arrange(gapminder, ...)\n",
    "}\n",
    "\n",
    "sort_gap(year, continent, country, 2)\n",
    "```"
   ]
  },
  {
   "cell_type": "markdown",
   "metadata": {
    "slideshow": {
     "slide_type": "fragment"
    }
   },
   "source": [
    "```\n",
    "Error in print(x + 1): argument \"x\" is missing, with no default\n",
    "Traceback:\n",
    "\n",
    "1. sort_gap(year, continent, country, 2)\n",
    "2. print(x + 1)   # at line 2 of file <text>\n",
    "```"
   ]
  },
  {
   "cell_type": "code",
   "execution_count": null,
   "metadata": {
    "slideshow": {
     "slide_type": "slide"
    }
   },
   "outputs": [],
   "source": [
    "sort_gap <- function(x, ...) {\n",
    "    print(x + 1)\n",
    "    arrange(gapminder, ...)\n",
    "}\n",
    "\n",
    "sort_gap(1, year, continent, country)"
   ]
  },
  {
   "cell_type": "markdown",
   "metadata": {
    "slideshow": {
     "slide_type": "slide"
    }
   },
   "source": [
    "#### Pass the dots is not always the solution..."
   ]
  },
  {
   "cell_type": "markdown",
   "metadata": {
    "slideshow": {
     "slide_type": "fragment"
    }
   },
   "source": [
    "```\n",
    "square_diff_n_select <- function(data, ...) {\n",
    "    data %>% \n",
    "        mutate(... := (... - mean(...))^2) %>% \n",
    "        select(...)\n",
    "}\n",
    "\n",
    "square_diff_n_select(mtcars, mpg, mpg:hp)\n",
    "```"
   ]
  },
  {
   "cell_type": "markdown",
   "metadata": {
    "slideshow": {
     "slide_type": "fragment"
    }
   },
   "source": [
    "```\n",
    "Error: Problem with `mutate()` input `...`.\n",
    "✖ object 'hp' not found\n",
    "ℹ Input `...` is `(... - mean(...))^2`.\n",
    "Traceback:\n",
    "\n",
    "1. square_diff_n_select(mtcars, mpg, mpg:hp)\n",
    "2. data %>% mutate(`:=`(..., (... - mean(...))^2)) %>% select(...)   # at line 2-4 of file <text>\n",
    "3. withVisible(eval(quote(`_fseq`(`_lhs`)), env, env))\n",
    "4. eval(quote(`_fseq`(`_lhs`)), env, env)\n",
    "5. eval(quote(`_fseq`(`_lhs`)), env, env)\n",
    "6. `_fseq`(`_lhs`)\n",
    "7. freduce(value, `_function_list`)\n",
    "8. function_list[[i]](value)\n",
    "9. mutate(., `:=`(..., (... - mean(...))^2))\n",
    "10. mutate.data.frame(., `:=`(..., (... - mean(...))^2))\n",
    "11. mutate_cols(.data, ...)\n",
    "12. withCallingHandlers({\n",
    "  .     for (i in seq_along(dots)) {\n",
    "  .         not_named <- (is.null(dots_names) || dots_names[i] == \n",
    "  .             \"\")\n",
    "  ...\n",
    "\n",
    " ```"
   ]
  },
  {
   "cell_type": "markdown",
   "metadata": {
    "slideshow": {
     "slide_type": "slide"
    }
   },
   "source": [
    "### When passing in different column names to different functions, embrace mutliple column names"
   ]
  },
  {
   "cell_type": "code",
   "execution_count": 39,
   "metadata": {
    "slideshow": {
     "slide_type": "fragment"
    }
   },
   "outputs": [
    {
     "data": {
      "text/html": [
       "<table>\n",
       "<caption>A data.frame: 32 × 4</caption>\n",
       "<thead>\n",
       "\t<tr><th scope=col>mpg</th><th scope=col>cyl</th><th scope=col>disp</th><th scope=col>hp</th></tr>\n",
       "\t<tr><th scope=col>&lt;dbl&gt;</th><th scope=col>&lt;dbl&gt;</th><th scope=col>&lt;dbl&gt;</th><th scope=col>&lt;dbl&gt;</th></tr>\n",
       "</thead>\n",
       "<tbody>\n",
       "\t<tr><td>0.8269629</td><td>6</td><td>160</td><td>110</td></tr>\n",
       "\t<tr><td>0.8269629</td><td>6</td><td>160</td><td>110</td></tr>\n",
       "\t<tr><td>7.3407129</td><td>4</td><td>108</td><td> 93</td></tr>\n",
       "\t<tr><td>1.7144629</td><td>6</td><td>258</td><td>110</td></tr>\n",
       "\t<tr><td>1.9338379</td><td>8</td><td>360</td><td>175</td></tr>\n",
       "\t<tr><td>⋮</td><td>⋮</td><td>⋮</td><td>⋮</td></tr>\n",
       "\t<tr><td>106.2832129</td><td>4</td><td> 95.1</td><td>113</td></tr>\n",
       "\t<tr><td> 18.4094629</td><td>8</td><td>351.0</td><td>264</td></tr>\n",
       "\t<tr><td>  0.1525879</td><td>6</td><td>145.0</td><td>175</td></tr>\n",
       "\t<tr><td> 25.9144629</td><td>8</td><td>301.0</td><td>335</td></tr>\n",
       "\t<tr><td>  1.7144629</td><td>4</td><td>121.0</td><td>109</td></tr>\n",
       "</tbody>\n",
       "</table>\n"
      ],
      "text/latex": [
       "A data.frame: 32 × 4\n",
       "\\begin{tabular}{llll}\n",
       " mpg & cyl & disp & hp\\\\\n",
       " <dbl> & <dbl> & <dbl> & <dbl>\\\\\n",
       "\\hline\n",
       "\t 0.8269629 & 6 & 160 & 110\\\\\n",
       "\t 0.8269629 & 6 & 160 & 110\\\\\n",
       "\t 7.3407129 & 4 & 108 &  93\\\\\n",
       "\t 1.7144629 & 6 & 258 & 110\\\\\n",
       "\t 1.9338379 & 8 & 360 & 175\\\\\n",
       "\t ⋮ & ⋮ & ⋮ & ⋮\\\\\n",
       "\t 106.2832129 & 4 &  95.1 & 113\\\\\n",
       "\t  18.4094629 & 8 & 351.0 & 264\\\\\n",
       "\t   0.1525879 & 6 & 145.0 & 175\\\\\n",
       "\t  25.9144629 & 8 & 301.0 & 335\\\\\n",
       "\t   1.7144629 & 4 & 121.0 & 109\\\\\n",
       "\\end{tabular}\n"
      ],
      "text/markdown": [
       "\n",
       "A data.frame: 32 × 4\n",
       "\n",
       "| mpg &lt;dbl&gt; | cyl &lt;dbl&gt; | disp &lt;dbl&gt; | hp &lt;dbl&gt; |\n",
       "|---|---|---|---|\n",
       "| 0.8269629 | 6 | 160 | 110 |\n",
       "| 0.8269629 | 6 | 160 | 110 |\n",
       "| 7.3407129 | 4 | 108 |  93 |\n",
       "| 1.7144629 | 6 | 258 | 110 |\n",
       "| 1.9338379 | 8 | 360 | 175 |\n",
       "| ⋮ | ⋮ | ⋮ | ⋮ |\n",
       "| 106.2832129 | 4 |  95.1 | 113 |\n",
       "|  18.4094629 | 8 | 351.0 | 264 |\n",
       "|   0.1525879 | 6 | 145.0 | 175 |\n",
       "|  25.9144629 | 8 | 301.0 | 335 |\n",
       "|   1.7144629 | 4 | 121.0 | 109 |\n",
       "\n"
      ],
      "text/plain": [
       "   mpg         cyl disp  hp \n",
       "1  0.8269629   6   160   110\n",
       "2  0.8269629   6   160   110\n",
       "3  7.3407129   4   108    93\n",
       "4  1.7144629   6   258   110\n",
       "5  1.9338379   8   360   175\n",
       "⋮  ⋮           ⋮   ⋮     ⋮  \n",
       "28 106.2832129 4    95.1 113\n",
       "29  18.4094629 8   351.0 264\n",
       "30   0.1525879 6   145.0 175\n",
       "31  25.9144629 8   301.0 335\n",
       "32   1.7144629 4   121.0 109"
      ]
     },
     "metadata": {},
     "output_type": "display_data"
    }
   ],
   "source": [
    "square_diff_n_select <- function(data, col_to_change, col_range) {\n",
    "    data %>% \n",
    "        mutate({{ col_to_change }} := ({{ col_to_change }} - mean({{ col_to_change }}))^2) %>% \n",
    "        select({{col_range}})\n",
    "}\n",
    "\n",
    "square_diff_n_select(mtcars, mpg, mpg:hp)"
   ]
  },
  {
   "cell_type": "markdown",
   "metadata": {
    "slideshow": {
     "slide_type": "slide"
    }
   },
   "source": [
    "#### Combining embracing with pass the dots:"
   ]
  },
  {
   "cell_type": "code",
   "execution_count": 38,
   "metadata": {
    "slideshow": {
     "slide_type": "fragment"
    }
   },
   "outputs": [
    {
     "data": {
      "text/html": [
       "<table>\n",
       "<caption>A data.frame: 32 × 3</caption>\n",
       "<thead>\n",
       "\t<tr><th scope=col>mpg</th><th scope=col>drat</th><th scope=col>carb</th></tr>\n",
       "\t<tr><th scope=col>&lt;dbl&gt;</th><th scope=col>&lt;dbl&gt;</th><th scope=col>&lt;dbl&gt;</th></tr>\n",
       "</thead>\n",
       "<tbody>\n",
       "\t<tr><td>0.8269629</td><td>3.90</td><td>4</td></tr>\n",
       "\t<tr><td>0.8269629</td><td>3.90</td><td>4</td></tr>\n",
       "\t<tr><td>7.3407129</td><td>3.85</td><td>1</td></tr>\n",
       "\t<tr><td>1.7144629</td><td>3.08</td><td>1</td></tr>\n",
       "\t<tr><td>1.9338379</td><td>3.15</td><td>2</td></tr>\n",
       "\t<tr><td>⋮</td><td>⋮</td><td>⋮</td></tr>\n",
       "\t<tr><td>106.2832129</td><td>3.77</td><td>2</td></tr>\n",
       "\t<tr><td> 18.4094629</td><td>4.22</td><td>4</td></tr>\n",
       "\t<tr><td>  0.1525879</td><td>3.62</td><td>6</td></tr>\n",
       "\t<tr><td> 25.9144629</td><td>3.54</td><td>8</td></tr>\n",
       "\t<tr><td>  1.7144629</td><td>4.11</td><td>2</td></tr>\n",
       "</tbody>\n",
       "</table>\n"
      ],
      "text/latex": [
       "A data.frame: 32 × 3\n",
       "\\begin{tabular}{lll}\n",
       " mpg & drat & carb\\\\\n",
       " <dbl> & <dbl> & <dbl>\\\\\n",
       "\\hline\n",
       "\t 0.8269629 & 3.90 & 4\\\\\n",
       "\t 0.8269629 & 3.90 & 4\\\\\n",
       "\t 7.3407129 & 3.85 & 1\\\\\n",
       "\t 1.7144629 & 3.08 & 1\\\\\n",
       "\t 1.9338379 & 3.15 & 2\\\\\n",
       "\t ⋮ & ⋮ & ⋮\\\\\n",
       "\t 106.2832129 & 3.77 & 2\\\\\n",
       "\t  18.4094629 & 4.22 & 4\\\\\n",
       "\t   0.1525879 & 3.62 & 6\\\\\n",
       "\t  25.9144629 & 3.54 & 8\\\\\n",
       "\t   1.7144629 & 4.11 & 2\\\\\n",
       "\\end{tabular}\n"
      ],
      "text/markdown": [
       "\n",
       "A data.frame: 32 × 3\n",
       "\n",
       "| mpg &lt;dbl&gt; | drat &lt;dbl&gt; | carb &lt;dbl&gt; |\n",
       "|---|---|---|\n",
       "| 0.8269629 | 3.90 | 4 |\n",
       "| 0.8269629 | 3.90 | 4 |\n",
       "| 7.3407129 | 3.85 | 1 |\n",
       "| 1.7144629 | 3.08 | 1 |\n",
       "| 1.9338379 | 3.15 | 2 |\n",
       "| ⋮ | ⋮ | ⋮ |\n",
       "| 106.2832129 | 3.77 | 2 |\n",
       "|  18.4094629 | 4.22 | 4 |\n",
       "|   0.1525879 | 3.62 | 6 |\n",
       "|  25.9144629 | 3.54 | 8 |\n",
       "|   1.7144629 | 4.11 | 2 |\n",
       "\n"
      ],
      "text/plain": [
       "   mpg         drat carb\n",
       "1  0.8269629   3.90 4   \n",
       "2  0.8269629   3.90 4   \n",
       "3  7.3407129   3.85 1   \n",
       "4  1.7144629   3.08 1   \n",
       "5  1.9338379   3.15 2   \n",
       "⋮  ⋮           ⋮    ⋮   \n",
       "28 106.2832129 3.77 2   \n",
       "29  18.4094629 4.22 4   \n",
       "30   0.1525879 3.62 6   \n",
       "31  25.9144629 3.54 8   \n",
       "32   1.7144629 4.11 2   "
      ]
     },
     "metadata": {},
     "output_type": "display_data"
    }
   ],
   "source": [
    "square_diff_n_select <- function(data, col_to_change, ...) {\n",
    "    data %>% \n",
    "        mutate({{ col_to_change }} := ({{ col_to_change }} - mean({{ col_to_change }}))^2) %>% \n",
    "        select(..., {{ col_to_change }})\n",
    "}\n",
    "\n",
    "square_diff_n_select(mtcars, mpg, drat, carb)"
   ]
  },
  {
   "cell_type": "markdown",
   "metadata": {
    "slideshow": {
     "slide_type": "slide"
    }
   },
   "source": [
    "## Programming defensively with tidy evaluation\n",
    "\n",
    "You can embrace `{{` the column names in an `if` + `stop` statement to check user input when unquoted column names are used as function arguments.\n",
    "\n",
    "First, we demonstrate how to check if a column is numeric using `DATA_FRAME  %>% pull({{ COLUMN_NAME }})` to access the column:"
   ]
  },
  {
   "cell_type": "code",
   "execution_count": 56,
   "metadata": {
    "slideshow": {
     "slide_type": "fragment"
    }
   },
   "outputs": [
    {
     "name": "stdout",
     "output_type": "stream",
     "text": [
      "[1] TRUE\n"
     ]
    }
   ],
   "source": [
    "check_if_numeric <- function(data, col) {\n",
    "    is.numeric(data %>% pull({{ col }}))\n",
    "}\n",
    "\n",
    "check_if_numeric(gapminder, pop)"
   ]
  },
  {
   "cell_type": "markdown",
   "metadata": {
    "slideshow": {
     "slide_type": "slide"
    }
   },
   "source": [
    "Next, we add a `if` + `stop` to this, to throw an error in our `square_diff_n_select` function when the column type is not what our function is designed to handle. Here our function works, as the `lifeExp` column in the `gapminder` data set is numeric."
   ]
  },
  {
   "cell_type": "code",
   "execution_count": 117,
   "metadata": {
    "slideshow": {
     "slide_type": "fragment"
    }
   },
   "outputs": [
    {
     "data": {
      "text/html": [
       "<table>\n",
       "<caption>A tibble: 1704 × 3</caption>\n",
       "<thead>\n",
       "\t<tr><th scope=col>country</th><th scope=col>year</th><th scope=col>lifeExp</th></tr>\n",
       "\t<tr><th scope=col>&lt;fct&gt;</th><th scope=col>&lt;int&gt;</th><th scope=col>&lt;dbl&gt;</th></tr>\n",
       "</thead>\n",
       "<tbody>\n",
       "\t<tr><td>Afghanistan</td><td>1952</td><td>940.8599</td></tr>\n",
       "\t<tr><td>Afghanistan</td><td>1957</td><td>849.2818</td></tr>\n",
       "\t<tr><td>Afghanistan</td><td>1962</td><td>755.0097</td></tr>\n",
       "\t<tr><td>⋮</td><td>⋮</td><td>⋮</td></tr>\n",
       "\t<tr><td>Zimbabwe</td><td>2002</td><td>379.6823</td></tr>\n",
       "\t<tr><td>Zimbabwe</td><td>2007</td><td>255.5982</td></tr>\n",
       "</tbody>\n",
       "</table>\n"
      ],
      "text/latex": [
       "A tibble: 1704 × 3\n",
       "\\begin{tabular}{lll}\n",
       " country & year & lifeExp\\\\\n",
       " <fct> & <int> & <dbl>\\\\\n",
       "\\hline\n",
       "\t Afghanistan & 1952 & 940.8599\\\\\n",
       "\t Afghanistan & 1957 & 849.2818\\\\\n",
       "\t Afghanistan & 1962 & 755.0097\\\\\n",
       "\t ⋮ & ⋮ & ⋮\\\\\n",
       "\t Zimbabwe & 2002 & 379.6823\\\\\n",
       "\t Zimbabwe & 2007 & 255.5982\\\\\n",
       "\\end{tabular}\n"
      ],
      "text/markdown": [
       "\n",
       "A tibble: 1704 × 3\n",
       "\n",
       "| country &lt;fct&gt; | year &lt;int&gt; | lifeExp &lt;dbl&gt; |\n",
       "|---|---|---|\n",
       "| Afghanistan | 1952 | 940.8599 |\n",
       "| Afghanistan | 1957 | 849.2818 |\n",
       "| Afghanistan | 1962 | 755.0097 |\n",
       "| ⋮ | ⋮ | ⋮ |\n",
       "| Zimbabwe | 2002 | 379.6823 |\n",
       "| Zimbabwe | 2007 | 255.5982 |\n",
       "\n"
      ],
      "text/plain": [
       "     country     year lifeExp \n",
       "1    Afghanistan 1952 940.8599\n",
       "2    Afghanistan 1957 849.2818\n",
       "3    Afghanistan 1962 755.0097\n",
       "⋮    ⋮           ⋮    ⋮       \n",
       "1703 Zimbabwe    2002 379.6823\n",
       "1704 Zimbabwe    2007 255.5982"
      ]
     },
     "metadata": {},
     "output_type": "display_data"
    }
   ],
   "source": [
    "square_diff_n_select <- function(data, col_to_change, ...) {\n",
    "    if (!is.numeric(data %>% pull({{ col_to_change }}))) {\n",
    "        stop('col_to_change must be numeric')\n",
    "    }\n",
    "    \n",
    "    data %>% \n",
    "        mutate({{ col_to_change }} := ({{ col_to_change }} - mean({{ col_to_change }}))^2) %>% \n",
    "        select(..., {{ col_to_change }})\n",
    "}\n",
    "\n",
    "square_diff_n_select(gapminder, lifeExp, country, year)"
   ]
  },
  {
   "cell_type": "markdown",
   "metadata": {
    "slideshow": {
     "slide_type": "slide"
    }
   },
   "source": [
    " Here our function throws an error, as the `continent` column in the `gapminder` data set is **not** numeric."
   ]
  },
  {
   "cell_type": "markdown",
   "metadata": {
    "slideshow": {
     "slide_type": "fragment"
    }
   },
   "source": [
    "```\n",
    "square_diff_n_select(gapminder, continent, country, year)\n",
    "```"
   ]
  },
  {
   "cell_type": "markdown",
   "metadata": {
    "slideshow": {
     "slide_type": "fragment"
    }
   },
   "source": [
    "```\n",
    "Error in square_diff_n_select(gapminder, continent, country, year): col_to_change must be numeric\n",
    "Traceback:\n",
    "\n",
    "1. square_diff_n_select(gapminder, continent, country, year)\n",
    "2. stop(\"col_to_change must be numeric\")   # at line 3 of file <text>\n",
    "```"
   ]
  },
  {
   "cell_type": "markdown",
   "metadata": {
    "slideshow": {
     "slide_type": "slide"
    }
   },
   "source": [
    "## What did we learn?\n",
    "- data masking and its role in tidy evaluation\n",
    "- programming with tidy-evaluated functions by embracing column names `{{ }}`\n",
    "- the walrus `:=` operator for assignment when programming with tidy-evaluated functions\n",
    "- more useful examples of pass the dots `...`"
   ]
  },
  {
   "cell_type": "markdown",
   "metadata": {
    "slideshow": {
     "slide_type": "slide"
    }
   },
   "source": [
    "## Attribution:\n",
    "\n",
    "- [Tidy evaluation](https://tidyeval.tidyverse.org/) by Lionel Henry & Hadley Wickham\n",
    "- [Tidy eval in context](https://speakerdeck.com/jennybc/tidy-eval-in-context)  talk by Jenny Bryan\n",
    "- [Programming in the tidyverse](https://dplyr.tidyverse.org/articles/programming.html) \n",
    "- [Advanced R](https://adv-r.hadley.nz/) by Hadley Wickham"
   ]
  }
 ],
 "metadata": {
  "celltoolbar": "Slideshow",
  "kernelspec": {
   "display_name": "R",
   "language": "R",
   "name": "ir"
  },
  "language_info": {
   "codemirror_mode": "r",
   "file_extension": ".r",
   "mimetype": "text/x-r-source",
   "name": "R",
   "pygments_lexer": "r",
   "version": "4.0.2"
  }
 },
 "nbformat": 4,
 "nbformat_minor": 4
}
