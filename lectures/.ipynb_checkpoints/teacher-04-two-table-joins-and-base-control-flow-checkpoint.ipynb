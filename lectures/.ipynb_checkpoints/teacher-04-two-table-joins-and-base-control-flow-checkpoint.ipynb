{
 "cells": [
  {
   "cell_type": "markdown",
   "metadata": {
    "slideshow": {
     "slide_type": "slide"
    }
   },
   "source": [
    "# Lecture 4 -  Combinging data frames (binds and joins) & base R control flow"
   ]
  },
  {
   "cell_type": "markdown",
   "metadata": {
    "slideshow": {
     "slide_type": "slide"
    }
   },
   "source": [
    "### Lecture learning objectives:\n",
    "By the end of this lecture and worksheet 4, students should be able to:\n",
    "\n",
    "* Compare and contrast mutating joins, filtering joins and set operations\n",
    "* Choose the appropriate two table `dplyr` function based on the type of join desired between two data frames, and use it in R to obtained the desired data frame from joining two tables\n",
    "* Write conditional statements in R with `if`, `else if` and `else` to run different code depending on the input\n",
    "* Write for loops in R to repeatedly run code"
   ]
  },
  {
   "cell_type": "code",
   "execution_count": null,
   "metadata": {
    "scrolled": true,
    "slideshow": {
     "slide_type": "slide"
    }
   },
   "outputs": [],
   "source": [
    "library(tidyverse)\n",
    "library(gapminder)\n",
    "options(repr.matrix.max.rows = 10)"
   ]
  },
  {
   "cell_type": "markdown",
   "metadata": {
    "slideshow": {
     "slide_type": "slide"
    }
   },
   "source": [
    "## Combining two data tables\n",
    "\n",
    "We will talk about two different ways of combining data tables in R:\n",
    "\n",
    "- binds\n",
    "\n",
    "- joins"
   ]
  },
  {
   "cell_type": "markdown",
   "metadata": {
    "slideshow": {
     "slide_type": "slide"
    }
   },
   "source": [
    "### Binds\n",
    "\n",
    "This is basically smashing rocks tibbles together. You can smash things together row-wise (“row binding”) or column-wise (“column binding”). \n",
    "\n",
    "Why do I characterize this as rock-smashing? They’re often fairly crude operations, with lots of responsibility falling on the analyst for making sure that the whole enterprise even makes sense."
   ]
  },
  {
   "cell_type": "markdown",
   "metadata": {
    "slideshow": {
     "slide_type": "slide"
    }
   },
   "source": [
    "#### Row binding\n",
    "\n",
    "When row binding, you need to consider the variables in the two tibbles. Do the same variables exist in each? Are they of the same type? Different approaches for row binding have different combinations of flexibility vs rigidity around these matters."
   ]
  },
  {
   "cell_type": "markdown",
   "metadata": {
    "slideshow": {
     "slide_type": "slide"
    }
   },
   "source": [
    "Let's bind 3 data frames together vertically (row binding):"
   ]
  },
  {
   "cell_type": "code",
   "execution_count": null,
   "metadata": {
    "slideshow": {
     "slide_type": "fragment"
    }
   },
   "outputs": [],
   "source": [
    "fship <- tribble(\n",
    "                         ~Film,    ~Race, ~Female, ~Male,\n",
    "  \"The Fellowship Of The Ring\",    \"Elf\",    1229,   971,\n",
    "  \"The Fellowship Of The Ring\", \"Hobbit\",      14,  3644,\n",
    "  \"The Fellowship Of The Ring\",    \"Man\",       0,  1995\n",
    ")\n",
    "rking <- tribble(\n",
    "                         ~Film,    ~Race, ~Female, ~Male,\n",
    "      \"The Return Of The King\",    \"Elf\",     183,   510,\n",
    "      \"The Return Of The King\", \"Hobbit\",       2,  2673,\n",
    "      \"The Return Of The King\",    \"Man\",     268,  2459\n",
    ")\n",
    "ttow <- tribble(\n",
    "                         ~Film,    ~Race, ~Female, ~Male,\n",
    "              \"The Two Towers\",    \"Elf\",     331,   513,\n",
    "              \"The Two Towers\", \"Hobbit\",       0,  2463,\n",
    "              \"The Two Towers\",    \"Man\",     401,  3589\n",
    ")"
   ]
  },
  {
   "cell_type": "code",
   "execution_count": null,
   "metadata": {
    "slideshow": {
     "slide_type": "slide"
    }
   },
   "outputs": [],
   "source": [
    "fship\n",
    "rking\n",
    "ttow"
   ]
  },
  {
   "cell_type": "markdown",
   "metadata": {
    "slideshow": {
     "slide_type": "notes"
    }
   },
   "source": [
    "> `tribble` is another function that you can use to make tibbles, but let's you write the data in a more human readable form."
   ]
  },
  {
   "cell_type": "code",
   "execution_count": null,
   "metadata": {
    "slideshow": {
     "slide_type": "slide"
    }
   },
   "outputs": [],
   "source": [
    "# bind the rows\n"
   ]
  },
  {
   "cell_type": "markdown",
   "metadata": {
    "slideshow": {
     "slide_type": "slide"
    }
   },
   "source": [
    "#### Column binding\n",
    "\n",
    "When column binding, the onus is entirely on the analyst to make sure that the rows are aligned. I would avoid column binding whenever possible. If you can introduce new variables through any other, safer means, do so! By safer, I mean: use a mechanism where the row alignment is correct by definition. A proper join is the gold standard. In addition to joins, functions like dplyr::mutate() and tidyr::separate() can be very useful for forcing yourself to work inside the constraint of a tibble.\n",
    "\n",
    "Let's bind 3 columns onto a data frame:"
   ]
  },
  {
   "cell_type": "code",
   "execution_count": null,
   "metadata": {
    "slideshow": {
     "slide_type": "slide"
    }
   },
   "outputs": [],
   "source": [
    "fship <- tribble(\n",
    "                         ~Film,    \n",
    "  \"The Fellowship Of The Ring\",\n",
    "  \"The Fellowship Of The Ring\", \n",
    "  \"The Fellowship Of The Ring\"\n",
    ")\n",
    "\n",
    "fship_data <- tribble(\n",
    "  ~Race, ~Female, ~Male,\n",
    "  \"Elf\",    1229,   971,\n",
    "  \"Hobbit\",      14,  3644,\n",
    "  \"Man\",       0,  1995\n",
    ")"
   ]
  },
  {
   "cell_type": "code",
   "execution_count": null,
   "metadata": {
    "slideshow": {
     "slide_type": "slide"
    }
   },
   "outputs": [],
   "source": [
    "fship\n",
    "fship_data"
   ]
  },
  {
   "cell_type": "code",
   "execution_count": null,
   "metadata": {
    "slideshow": {
     "slide_type": "slide"
    }
   },
   "outputs": [],
   "source": [
    "# bind the columns\n"
   ]
  },
  {
   "cell_type": "markdown",
   "metadata": {
    "slideshow": {
     "slide_type": "slide"
    }
   },
   "source": [
    "### Joins\n",
    "\n",
    "Here you designate a variable (or a combination of variables) as a key. A row in one data frame gets matched with a row in another data frame because they have the same key. You can then bring information from variables in a secondary data frame into a primary data frame based on this key-based lookup. That description is incredibly oversimplified, but that’s the basic idea.\n",
    "\n",
    "A variety of row- and column-wise operations fit into this framework, which implies there are many different flavors of join. The concepts and vocabulary around joins come from the database world. The relevant functions in `dplyr` follow this convention and all mention `join`. "
   ]
  },
  {
   "cell_type": "markdown",
   "metadata": {
    "slideshow": {
     "slide_type": "fragment"
    }
   },
   "source": [
    "Your best cheatsheet: https://stat545.com/join-cheatsheet.html\n",
    "\n",
    "Compliments of Jenny Bryan!"
   ]
  },
  {
   "cell_type": "markdown",
   "metadata": {
    "slideshow": {
     "slide_type": "slide"
    }
   },
   "source": [
    "#### Left join\n",
    "\n",
    "`left_join(x, y)`: Return all rows from `x`, and all columns from `x` and `y`. If there are multiple matches between `x` and `y`, all combination of the matches are returned. This is a mutating join.\n",
    "\n",
    "<img src=\"img/left_join.png\" width=400>\n",
    "\n",
    "*Source: https://stat545.com/join-cheatsheet.html*"
   ]
  },
  {
   "cell_type": "markdown",
   "metadata": {
    "slideshow": {
     "slide_type": "slide"
    }
   },
   "source": [
    "Let's work through an example. We will create a data frame called `am_af_countries` from American and African countries from the gapminder data set, that contains the country and continent rows:"
   ]
  },
  {
   "cell_type": "code",
   "execution_count": null,
   "metadata": {
    "slideshow": {
     "slide_type": "slide"
    }
   },
   "outputs": [],
   "source": [
    "am_af_countries <- gapminder %>% \n",
    "    filter(continent == \"Americas\" | continent == \"Africa\") %>% \n",
    "    select(country, continent) %>% \n",
    "    group_by(country) %>% \n",
    "    slice(1)\n",
    "am_af_countries"
   ]
  },
  {
   "cell_type": "code",
   "execution_count": null,
   "metadata": {
    "slideshow": {
     "slide_type": "slide"
    }
   },
   "outputs": [],
   "source": [
    "country_codes"
   ]
  },
  {
   "cell_type": "code",
   "execution_count": null,
   "metadata": {
    "slideshow": {
     "slide_type": "slide"
    }
   },
   "outputs": [],
   "source": [
    "# join data frames\n"
   ]
  },
  {
   "cell_type": "markdown",
   "metadata": {
    "slideshow": {
     "slide_type": "slide"
    }
   },
   "source": [
    "#### What if your column names don't match?\n",
    "\n",
    "You can specify which columns to join by! "
   ]
  },
  {
   "cell_type": "code",
   "execution_count": null,
   "metadata": {
    "slideshow": {
     "slide_type": "slide"
    }
   },
   "outputs": [],
   "source": [
    "#rename country column _renamed <- am_af_countries %>% \n",
    "am_af_countries <- am_af_countries %>% \n",
    "    rename(countries = country)\n",
    "am_af_countries"
   ]
  },
  {
   "cell_type": "code",
   "execution_count": null,
   "metadata": {
    "slideshow": {
     "slide_type": "slide"
    }
   },
   "outputs": [],
   "source": [
    "left_join(am_af_countries, country_codes, \n",
    "          _________________)"
   ]
  },
  {
   "cell_type": "markdown",
   "metadata": {
    "slideshow": {
     "slide_type": "slide"
    }
   },
   "source": [
    "#### Other joins:\n",
    "\n",
    "There are several other joins available to you in the {dplyr} package. I give a high level overview next, and then you will get a chance to interact and explore these functions in more detail in your worksheet and lab."
   ]
  },
  {
   "cell_type": "markdown",
   "metadata": {
    "slideshow": {
     "slide_type": "slide"
    }
   },
   "source": [
    "#### Inner join\n",
    "\n",
    "`inner_join(x, y)`: Return all rows from `x` where there are matching values in `y`, and all columns from `x` and `y`. If there are multiple matches between `x` and `y`, all combination of the matches are returned. This is a mutating join.\n",
    "\n",
    "<img src=\"img/inner_join.png\" width=400>\n",
    "\n",
    "*Source: https://stat545.com/join-cheatsheet.html*"
   ]
  },
  {
   "cell_type": "markdown",
   "metadata": {
    "slideshow": {
     "slide_type": "slide"
    }
   },
   "source": [
    "#### Semi join\n",
    "\n",
    "`semi_join(x, y)`: Return all rows from `x` where there are matching values in `y`, keeping just columns from `x`. A semi join differs from an inner join because an inner join will return one row of x for each matching row of y, where a semi join will never duplicate rows of `x`. This is a filtering join.\n",
    "\n",
    "<img src=\"img/semi_join.png\" width=400>\n",
    "\n",
    "*Source: https://stat545.com/join-cheatsheet.html*"
   ]
  },
  {
   "cell_type": "markdown",
   "metadata": {
    "slideshow": {
     "slide_type": "slide"
    }
   },
   "source": [
    "#### Anti join\n",
    "\n",
    "`anti_join(x, y)`: Return all rows from `x` where there are not matching values in `y`, keeping just columns from `x`. This is a filtering join.\n",
    "\n",
    "<img src=\"img/anti_join.png\" width=400>\n",
    "\n",
    "*Source: https://stat545.com/join-cheatsheet.html*"
   ]
  },
  {
   "cell_type": "markdown",
   "metadata": {
    "slideshow": {
     "slide_type": "slide"
    }
   },
   "source": [
    "#### Full join\n",
    "\n",
    "`full_join(x, y)`: Return all rows and all columns from both `x` and `y`. Where there are not matching values, returns NA for the one missing. This is a mutating join.\n",
    "\n",
    "<img src=\"img/full_join.png\" width=400>\n",
    "\n",
    "*Source: https://stat545.com/join-cheatsheet.html*"
   ]
  },
  {
   "cell_type": "markdown",
   "metadata": {
    "slideshow": {
     "slide_type": "slide"
    }
   },
   "source": [
    "## Control flow in base R\n",
    "Similar to other programming languages, R has the now standard control flow capabilities. We will talk about two in this course:\n",
    "\n",
    "- `for` loops\n",
    "\n",
    "- `if` / `else if` / `else` statements (conditionals)"
   ]
  },
  {
   "cell_type": "markdown",
   "metadata": {
    "slideshow": {
     "slide_type": "slide"
    }
   },
   "source": [
    "### Control Flow: `for` loops\n",
    "\n",
    "- For loops in R, work like this: `for (item in vector) perform_action`\n",
    "- When code needs to be split across lines in R, we use the `{` operator to surround it"
   ]
  },
  {
   "cell_type": "markdown",
   "metadata": {
    "slideshow": {
     "slide_type": "slide"
    }
   },
   "source": [
    "#### Iterating over an object\n",
    "\n",
    "Let's write a for loop that iterates over a vector of the numbers 1, 2, 3 and prints out the square of each. "
   ]
  },
  {
   "cell_type": "code",
   "execution_count": null,
   "metadata": {
    "slideshow": {
     "slide_type": "fragment"
    }
   },
   "outputs": [],
   "source": [
    "sequence <- 2:4\n",
    "sequence"
   ]
  },
  {
   "cell_type": "code",
   "execution_count": null,
   "metadata": {
    "slideshow": {
     "slide_type": "slide"
    }
   },
   "outputs": [],
   "source": []
  },
  {
   "cell_type": "markdown",
   "metadata": {
    "slideshow": {
     "slide_type": "slide"
    }
   },
   "source": [
    "#### Using indices in a for loop"
   ]
  },
  {
   "cell_type": "code",
   "execution_count": null,
   "metadata": {
    "slideshow": {
     "slide_type": "fragment"
    }
   },
   "outputs": [],
   "source": [
    "for (__________) {\n",
    "    i <- i * 2\n",
    "    print(i)\n",
    "}"
   ]
  },
  {
   "cell_type": "markdown",
   "metadata": {
    "slideshow": {
     "slide_type": "slide"
    }
   },
   "source": [
    "#### Why use `seq_along`? \n",
    "\n",
    "It gives you a sequence along the item you want to iterate over."
   ]
  },
  {
   "cell_type": "code",
   "execution_count": null,
   "metadata": {
    "slideshow": {
     "slide_type": "fragment"
    }
   },
   "outputs": [],
   "source": [
    "seq_along(sequence)"
   ]
  },
  {
   "cell_type": "markdown",
   "metadata": {
    "slideshow": {
     "slide_type": "slide"
    }
   },
   "source": [
    "Beware of using `length` instead:"
   ]
  },
  {
   "cell_type": "code",
   "execution_count": null,
   "metadata": {
    "slideshow": {
     "slide_type": "fragment"
    }
   },
   "outputs": [],
   "source": [
    "sequence <- c()\n",
    "for (i in 1:length(sequence)) {\n",
    "    i <- i * 2\n",
    "    print(i)\n",
    "}"
   ]
  },
  {
   "cell_type": "markdown",
   "metadata": {
    "slideshow": {
     "slide_type": "fragment"
    }
   },
   "source": [
    "There is nothing in the vector! Nother * 2 is certainly not 2!"
   ]
  },
  {
   "cell_type": "markdown",
   "metadata": {
    "slideshow": {
     "slide_type": "notes"
    }
   },
   "source": [
    "*Source: [Advanced R](https://adv-r.hadley.nz/) by Hadley Wickham*"
   ]
  },
  {
   "cell_type": "markdown",
   "metadata": {
    "slideshow": {
     "slide_type": "slide"
    }
   },
   "source": [
    "### Control Flow: `if`, `if else` and `else` statements \n",
    "\n",
    "The basic form of an if statement in R is as follows:\n",
    "\n",
    "`if (condition) true_action`\n",
    "\n",
    "`if (condition) true_action else false_action`\n",
    "\n",
    "- Again, when code needs to be split across lines in R, we use the `{` operator to surround it to create code blocks"
   ]
  },
  {
   "cell_type": "markdown",
   "metadata": {
    "slideshow": {
     "slide_type": "slide"
    }
   },
   "source": [
    "#### Example \n",
    "\n",
    "Below we write a conditional which compares a threshold with a measure. It prints \"Over the limit\" if the measure is over the threshold, \"Under the limit\" if the measure is under the threshold and \"Exactly at threshold\" otherwise. "
   ]
  },
  {
   "cell_type": "code",
   "execution_count": null,
   "metadata": {
    "slideshow": {
     "slide_type": "fragment"
    }
   },
   "outputs": [],
   "source": [
    "threshold <- 95.0\n",
    "measure  <- 93.5\n",
    "\n"
   ]
  },
  {
   "cell_type": "markdown",
   "metadata": {
    "slideshow": {
     "slide_type": "notes"
    }
   },
   "source": [
    "> Notes - you do not have to use `else if`, or even `else` if it doesn't make sense. I just wanted to demonstrate the full control flow syntax. Additionally, you can have multiple `else if` statements if you have > 3 choices to make."
   ]
  },
  {
   "cell_type": "markdown",
   "metadata": {
    "slideshow": {
     "slide_type": "slide"
    }
   },
   "source": [
    "## What did we learn today?\n",
    "\n",
    "- How to bind data frame rows and columns\n",
    "\n",
    "- The join landscape in R\n",
    "\n",
    "- How to iterate in base R with for loops\n",
    "\n",
    "- How to make choices in base R using conditionals"
   ]
  },
  {
   "cell_type": "markdown",
   "metadata": {
    "slideshow": {
     "slide_type": "slide"
    }
   },
   "source": [
    "### Attributions\n",
    "- [Stat 545](https://stat545.com/) created by Jenny Bryan\n",
    "- [R for Data Science](https://r4ds.had.co.nz/index.html) by Garrett Grolemund & Hadley Wickham"
   ]
  }
 ],
 "metadata": {
  "celltoolbar": "Slideshow",
  "kernelspec": {
   "display_name": "R",
   "language": "R",
   "name": "ir"
  },
  "language_info": {
   "codemirror_mode": "r",
   "file_extension": ".r",
   "mimetype": "text/x-r-source",
   "name": "R",
   "pygments_lexer": "r",
   "version": "4.0.2"
  }
 },
 "nbformat": 4,
 "nbformat_minor": 4
}
