{
 "cells": [
  {
   "cell_type": "markdown",
   "metadata": {
    "slideshow": {
     "slide_type": "slide"
    }
   },
   "source": [
    "# Lecture 7: Mapping and nested data frames"
   ]
  },
  {
   "cell_type": "markdown",
   "metadata": {
    "slideshow": {
     "slide_type": "slide"
    }
   },
   "source": [
    "### Lecture learning objectives:\n",
    "\n",
    "By then end of this lecture & worksheet 7, students should be able to:\n",
    "\n",
    "* Write and use anonymous functions in R in isolation and in combination the functional {purrr} `map`\n",
    "* (Optional) Understand the general ideas of the `map*`, `map2*` and `pmap*` variant functions in the {purrr} package and the six types of output options (list, double, integer, logical, character and data frame).\n",
    "* Create and modify nested data frames using {dplyr} `group_by` + {tidyr} `nest` and {purrr} `map*` functions\n",
    "* Create unnested data frames using {tidyr} `unnest` \n",
    "* Describe situations where nested data frames are useful "
   ]
  },
  {
   "cell_type": "code",
   "execution_count": 1,
   "metadata": {},
   "outputs": [
    {
     "name": "stderr",
     "output_type": "stream",
     "text": [
      "── \u001b[1mAttaching packages\u001b[22m ─────────────────────────────────────── tidyverse 1.3.0 ──\n",
      "\n",
      "\u001b[32m✔\u001b[39m \u001b[34mggplot2\u001b[39m 3.3.2          \u001b[32m✔\u001b[39m \u001b[34mpurrr  \u001b[39m 0.3.4     \n",
      "\u001b[32m✔\u001b[39m \u001b[34mtibble \u001b[39m 3.0.3          \u001b[32m✔\u001b[39m \u001b[34mdplyr  \u001b[39m 1.0.2     \n",
      "\u001b[32m✔\u001b[39m \u001b[34mtidyr  \u001b[39m 1.1.2          \u001b[32m✔\u001b[39m \u001b[34mstringr\u001b[39m 1.4.0     \n",
      "\u001b[32m✔\u001b[39m \u001b[34mreadr  \u001b[39m 1.3.1.\u001b[31m9000\u001b[39m     \u001b[32m✔\u001b[39m \u001b[34mforcats\u001b[39m 0.5.0     \n",
      "\n",
      "── \u001b[1mConflicts\u001b[22m ────────────────────────────────────────── tidyverse_conflicts() ──\n",
      "\u001b[31m✖\u001b[39m \u001b[34mdplyr\u001b[39m::\u001b[32mfilter()\u001b[39m masks \u001b[34mstats\u001b[39m::filter()\n",
      "\u001b[31m✖\u001b[39m \u001b[34mdplyr\u001b[39m::\u001b[32mlag()\u001b[39m    masks \u001b[34mstats\u001b[39m::lag()\n",
      "\n"
     ]
    }
   ],
   "source": [
    "library(gapminder)\n",
    "library(infer)\n",
    "library(tidyverse)\n",
    "options(repr.matrix.max.rows = 10)"
   ]
  },
  {
   "cell_type": "markdown",
   "metadata": {
    "slideshow": {
     "slide_type": "slide"
    }
   },
   "source": [
    "## More functional style programming in R with `purrr`\n",
    "\n",
    "\n",
    "![](https://ih1.redbubble.net/image.329884292.2339/sticker,375x360-bg,ffffff.u1.png)\n",
    "\n",
    "https://purrr.tidyverse.org/"
   ]
  },
  {
   "cell_type": "markdown",
   "metadata": {
    "slideshow": {
     "slide_type": "slide"
    }
   },
   "source": [
    "### Passing arguments to functions you are mapping\n",
    "\n",
    "- What if you need to pass arguments to the functions you are mapping, in some cases you can take advantage of `...` (e.g., `na.rm = TRUE`) but if things get more complex than that, anonymous functions are your friends. \n",
    "\n",
    "- For example, imagine mapping `str_replace` to all the columns of a very wide and nested data frame to replace all instances of `\"Cdn\"` with `\"Canadian\"` to fix a data entry error that occurs in several columns in a data set that occur in a nested list column. Here we need to provide the arguments `pattern` and `replacement` in addition to the data we are operating on.\n",
    "\n",
    "- This is probably the only time I use anonymous functions regularly."
   ]
  },
  {
   "cell_type": "markdown",
   "metadata": {
    "slideshow": {
     "slide_type": "notes"
    }
   },
   "source": [
    "#### Anonymous functions in R\n",
    "\n",
    "General format: `function(x) body_of_function`\n",
    " \n",
    " To use one in the global environment, outside of another function call, you do the following:"
   ]
  },
  {
   "cell_type": "code",
   "execution_count": 2,
   "metadata": {
    "slideshow": {
     "slide_type": "notes"
    }
   },
   "outputs": [
    {
     "data": {
      "text/html": [
       "2"
      ],
      "text/latex": [
       "2"
      ],
      "text/markdown": [
       "2"
      ],
      "text/plain": [
       "[1] 2"
      ]
     },
     "metadata": {},
     "output_type": "display_data"
    }
   ],
   "source": [
    "(function(x) x + 1)(1)"
   ]
  },
  {
   "cell_type": "markdown",
   "metadata": {
    "slideshow": {
     "slide_type": "fragment"
    }
   },
   "source": [
    "Above the function takes in x as an argument and adds one to it. The function definition is surrounded by round brackets, as is the value being passed to the anonymous function."
   ]
  },
  {
   "cell_type": "markdown",
   "metadata": {
    "slideshow": {
     "slide_type": "slide"
    }
   },
   "source": [
    "#### Back to anonymous function calls within {purrr} `map_*`\n",
    "\n",
    "Long form:\n",
    "\n",
    "```\n",
    "map_*(data, function(arg) function_being_called(arg, other_arg))\n",
    "```\n"
   ]
  },
  {
   "cell_type": "markdown",
   "metadata": {
    "slideshow": {
     "slide_type": "fragment"
    }
   },
   "source": [
    "Short form:\n",
    "\n",
    "```\n",
    "map_*(data, ~ function_being_called(., other_arg))\n",
    "```"
   ]
  },
  {
   "cell_type": "markdown",
   "metadata": {
    "slideshow": {
     "slide_type": "fragment"
    }
   },
   "source": [
    "In the shortcut we replace `function(arg)` with a `~` and replace the `arg` in the function call with a `.`"
   ]
  },
  {
   "cell_type": "markdown",
   "metadata": {
    "slideshow": {
     "slide_type": "slide"
    }
   },
   "source": [
    "#### Example:\n",
    "\n",
    "Map `str_replace` to all the columns of a very wide data frame to replace all instances of `\"Cdn\"` with `\"Canadian\"` to fix a data entry error that occurs in several columns in a data set. "
   ]
  },
  {
   "cell_type": "code",
   "execution_count": 3,
   "metadata": {},
   "outputs": [
    {
     "data": {
      "text/html": [
       "<table>\n",
       "<caption>A tibble: 3 × 3</caption>\n",
       "<thead>\n",
       "\t<tr><th scope=col>id</th><th scope=col>birth_citizenship</th><th scope=col>current_citizenship</th></tr>\n",
       "\t<tr><th scope=col>&lt;chr&gt;</th><th scope=col>&lt;chr&gt;</th><th scope=col>&lt;chr&gt;</th></tr>\n",
       "</thead>\n",
       "<tbody>\n",
       "\t<tr><td>25323</td><td>Canadian</td><td>Canadian  </td></tr>\n",
       "\t<tr><td>45234</td><td>American</td><td>Vietnamese</td></tr>\n",
       "\t<tr><td>23471</td><td>Cdn     </td><td>Cdn       </td></tr>\n",
       "</tbody>\n",
       "</table>\n"
      ],
      "text/latex": [
       "A tibble: 3 × 3\n",
       "\\begin{tabular}{lll}\n",
       " id & birth\\_citizenship & current\\_citizenship\\\\\n",
       " <chr> & <chr> & <chr>\\\\\n",
       "\\hline\n",
       "\t 25323 & Canadian & Canadian  \\\\\n",
       "\t 45234 & American & Vietnamese\\\\\n",
       "\t 23471 & Cdn      & Cdn       \\\\\n",
       "\\end{tabular}\n"
      ],
      "text/markdown": [
       "\n",
       "A tibble: 3 × 3\n",
       "\n",
       "| id &lt;chr&gt; | birth_citizenship &lt;chr&gt; | current_citizenship &lt;chr&gt; |\n",
       "|---|---|---|\n",
       "| 25323 | Canadian | Canadian   |\n",
       "| 45234 | American | Vietnamese |\n",
       "| 23471 | Cdn      | Cdn        |\n",
       "\n"
      ],
      "text/plain": [
       "  id    birth_citizenship current_citizenship\n",
       "1 25323 Canadian          Canadian           \n",
       "2 45234 American          Vietnamese         \n",
       "3 23471 Cdn               Cdn                "
      ]
     },
     "metadata": {},
     "output_type": "display_data"
    }
   ],
   "source": [
    "data_entry <- tibble(id = c(\"25323\", \"45234\", \"23471\"),\n",
    "                    birth_citizenship = c(\"Canadian\", \"American\", \"Cdn\"),\n",
    "                    current_citizenship = c(\"Canadian\", \"Vietnamese\", \"Cdn\"))\n",
    "data_entry"
   ]
  },
  {
   "cell_type": "markdown",
   "metadata": {},
   "source": [
    "Using verbose anonymous function syntax:"
   ]
  },
  {
   "cell_type": "code",
   "execution_count": 4,
   "metadata": {},
   "outputs": [
    {
     "data": {
      "text/html": [
       "<table>\n",
       "<caption>A tibble: 3 × 3</caption>\n",
       "<thead>\n",
       "\t<tr><th scope=col>id</th><th scope=col>birth_citizenship</th><th scope=col>current_citizenship</th></tr>\n",
       "\t<tr><th scope=col>&lt;chr&gt;</th><th scope=col>&lt;chr&gt;</th><th scope=col>&lt;chr&gt;</th></tr>\n",
       "</thead>\n",
       "<tbody>\n",
       "\t<tr><td>25323</td><td>Canadian</td><td>Canadian  </td></tr>\n",
       "\t<tr><td>45234</td><td>American</td><td>Vietnamese</td></tr>\n",
       "\t<tr><td>23471</td><td>Canadian</td><td>Canadian  </td></tr>\n",
       "</tbody>\n",
       "</table>\n"
      ],
      "text/latex": [
       "A tibble: 3 × 3\n",
       "\\begin{tabular}{lll}\n",
       " id & birth\\_citizenship & current\\_citizenship\\\\\n",
       " <chr> & <chr> & <chr>\\\\\n",
       "\\hline\n",
       "\t 25323 & Canadian & Canadian  \\\\\n",
       "\t 45234 & American & Vietnamese\\\\\n",
       "\t 23471 & Canadian & Canadian  \\\\\n",
       "\\end{tabular}\n"
      ],
      "text/markdown": [
       "\n",
       "A tibble: 3 × 3\n",
       "\n",
       "| id &lt;chr&gt; | birth_citizenship &lt;chr&gt; | current_citizenship &lt;chr&gt; |\n",
       "|---|---|---|\n",
       "| 25323 | Canadian | Canadian   |\n",
       "| 45234 | American | Vietnamese |\n",
       "| 23471 | Canadian | Canadian   |\n",
       "\n"
      ],
      "text/plain": [
       "  id    birth_citizenship current_citizenship\n",
       "1 25323 Canadian          Canadian           \n",
       "2 45234 American          Vietnamese         \n",
       "3 23471 Canadian          Canadian           "
      ]
     },
     "metadata": {},
     "output_type": "display_data"
    }
   ],
   "source": [
    "map_df(data_entry, function(vect) str_replace(vect, pattern = \"Cdn\", replacement = \"Canadian\"))"
   ]
  },
  {
   "cell_type": "markdown",
   "metadata": {},
   "source": [
    "Using shorthand anonymous function syntax:"
   ]
  },
  {
   "cell_type": "code",
   "execution_count": 5,
   "metadata": {},
   "outputs": [
    {
     "data": {
      "text/html": [
       "<table>\n",
       "<caption>A tibble: 3 × 3</caption>\n",
       "<thead>\n",
       "\t<tr><th scope=col>id</th><th scope=col>birth_citizenship</th><th scope=col>current_citizenship</th></tr>\n",
       "\t<tr><th scope=col>&lt;chr&gt;</th><th scope=col>&lt;chr&gt;</th><th scope=col>&lt;chr&gt;</th></tr>\n",
       "</thead>\n",
       "<tbody>\n",
       "\t<tr><td>25323</td><td>Canadian</td><td>Canadian  </td></tr>\n",
       "\t<tr><td>45234</td><td>American</td><td>Vietnamese</td></tr>\n",
       "\t<tr><td>23471</td><td>Canadian</td><td>Canadian  </td></tr>\n",
       "</tbody>\n",
       "</table>\n"
      ],
      "text/latex": [
       "A tibble: 3 × 3\n",
       "\\begin{tabular}{lll}\n",
       " id & birth\\_citizenship & current\\_citizenship\\\\\n",
       " <chr> & <chr> & <chr>\\\\\n",
       "\\hline\n",
       "\t 25323 & Canadian & Canadian  \\\\\n",
       "\t 45234 & American & Vietnamese\\\\\n",
       "\t 23471 & Canadian & Canadian  \\\\\n",
       "\\end{tabular}\n"
      ],
      "text/markdown": [
       "\n",
       "A tibble: 3 × 3\n",
       "\n",
       "| id &lt;chr&gt; | birth_citizenship &lt;chr&gt; | current_citizenship &lt;chr&gt; |\n",
       "|---|---|---|\n",
       "| 25323 | Canadian | Canadian   |\n",
       "| 45234 | American | Vietnamese |\n",
       "| 23471 | Canadian | Canadian   |\n",
       "\n"
      ],
      "text/plain": [
       "  id    birth_citizenship current_citizenship\n",
       "1 25323 Canadian          Canadian           \n",
       "2 45234 American          Vietnamese         \n",
       "3 23471 Canadian          Canadian           "
      ]
     },
     "metadata": {},
     "output_type": "display_data"
    }
   ],
   "source": [
    "map_df(data_entry, ~str_replace(., pattern = \"Cdn\", replacement = \"Canadian\"))"
   ]
  },
  {
   "cell_type": "markdown",
   "metadata": {},
   "source": [
    "Acknowledgement: here you do not need to use an anonymous function, you can take advantage of `...` but we will see more complicated cases later in the lecture and in the lab. Complicated cases arise when the `...` comes before positional arguments (e.g., `paste` and `paste0` functions) and when you are working with nested data frames."
   ]
  },
  {
   "cell_type": "code",
   "execution_count": 6,
   "metadata": {},
   "outputs": [
    {
     "data": {
      "text/html": [
       "<table>\n",
       "<caption>A tibble: 3 × 3</caption>\n",
       "<thead>\n",
       "\t<tr><th scope=col>id</th><th scope=col>birth_citizenship</th><th scope=col>current_citizenship</th></tr>\n",
       "\t<tr><th scope=col>&lt;chr&gt;</th><th scope=col>&lt;chr&gt;</th><th scope=col>&lt;chr&gt;</th></tr>\n",
       "</thead>\n",
       "<tbody>\n",
       "\t<tr><td>25323</td><td>Canadian</td><td>Canadian  </td></tr>\n",
       "\t<tr><td>45234</td><td>American</td><td>Vietnamese</td></tr>\n",
       "\t<tr><td>23471</td><td>Canadian</td><td>Canadian  </td></tr>\n",
       "</tbody>\n",
       "</table>\n"
      ],
      "text/latex": [
       "A tibble: 3 × 3\n",
       "\\begin{tabular}{lll}\n",
       " id & birth\\_citizenship & current\\_citizenship\\\\\n",
       " <chr> & <chr> & <chr>\\\\\n",
       "\\hline\n",
       "\t 25323 & Canadian & Canadian  \\\\\n",
       "\t 45234 & American & Vietnamese\\\\\n",
       "\t 23471 & Canadian & Canadian  \\\\\n",
       "\\end{tabular}\n"
      ],
      "text/markdown": [
       "\n",
       "A tibble: 3 × 3\n",
       "\n",
       "| id &lt;chr&gt; | birth_citizenship &lt;chr&gt; | current_citizenship &lt;chr&gt; |\n",
       "|---|---|---|\n",
       "| 25323 | Canadian | Canadian   |\n",
       "| 45234 | American | Vietnamese |\n",
       "| 23471 | Canadian | Canadian   |\n",
       "\n"
      ],
      "text/plain": [
       "  id    birth_citizenship current_citizenship\n",
       "1 25323 Canadian          Canadian           \n",
       "2 45234 American          Vietnamese         \n",
       "3 23471 Canadian          Canadian           "
      ]
     },
     "metadata": {},
     "output_type": "display_data"
    }
   ],
   "source": [
    "map_df(data_entry, str_replace, pattern = \"Cdn\", replacement = \"Canadian\")"
   ]
  },
  {
   "cell_type": "markdown",
   "metadata": {
    "slideshow": {
     "slide_type": "slide"
    }
   },
   "source": [
    "## Mapping with > 1 data objects (Optional)\n",
    "\n",
    "What if the function you want to map takes in > 1 data objects?"
   ]
  },
  {
   "cell_type": "markdown",
   "metadata": {
    "slideshow": {
     "slide_type": "fragment"
    }
   },
   "source": [
    "`map2*` and `pmap*` are your friends here!"
   ]
  },
  {
   "cell_type": "markdown",
   "metadata": {
    "slideshow": {
     "slide_type": "slide"
    }
   },
   "source": [
    "#### `purrr::map2*`\n",
    "\n",
    "```\n",
    "map2*(.x, .y, .f, ...)\n",
    "```\n",
    "\n",
    "Above reads as: `for` every element of `.x` and `.y` apply `.f` "
   ]
  },
  {
   "cell_type": "markdown",
   "metadata": {
    "slideshow": {
     "slide_type": "fragment"
    }
   },
   "source": [
    "Or picture as..."
   ]
  },
  {
   "cell_type": "markdown",
   "metadata": {
    "slideshow": {
     "slide_type": "slide"
    }
   },
   "source": [
    "<img src=\"img/minis_map2_data.png\" width=700>\n",
    "\n",
    "*Source: [purrr workshop](https://speakerdeck.com/jennybc/purrr-workshop) by Jenny Bryan*"
   ]
  },
  {
   "cell_type": "markdown",
   "metadata": {
    "slideshow": {
     "slide_type": "slide"
    }
   },
   "source": [
    "<img src=\"img/minis_map2.png\" width=700>\n",
    "\n",
    "*Source: [purrr workshop](https://speakerdeck.com/jennybc/purrr-workshop) by Jenny Bryan*"
   ]
  },
  {
   "cell_type": "markdown",
   "metadata": {
    "slideshow": {
     "slide_type": "slide"
    }
   },
   "source": [
    "#### `purrr::map2_df` example:\n",
    "\n",
    "\n",
    "For example, say you want to calculate a weighted means (using `weighted.mean`) for columns of a data frame where you had another data frame containing those weights.\n",
    "\n",
    "Let's make some data:"
   ]
  },
  {
   "cell_type": "code",
   "execution_count": 7,
   "metadata": {},
   "outputs": [
    {
     "data": {
      "text/html": [
       "<table>\n",
       "<caption>A tibble: 10 × 5</caption>\n",
       "<thead>\n",
       "\t<tr><th scope=col>frequency</th><th scope=col>loudness</th><th scope=col>power</th><th scope=col>rating</th><th scope=col>year</th></tr>\n",
       "\t<tr><th scope=col>&lt;dbl&gt;</th><th scope=col>&lt;dbl&gt;</th><th scope=col>&lt;dbl&gt;</th><th scope=col>&lt;dbl&gt;</th><th scope=col>&lt;dbl&gt;</th></tr>\n",
       "</thead>\n",
       "<tbody>\n",
       "\t<tr><td>       NA</td><td>0.1343255</td><td>0.05966479</td><td>6</td><td>2005</td></tr>\n",
       "\t<tr><td>0.6928735</td><td>0.4335960</td><td>0.75805856</td><td>4</td><td>2004</td></tr>\n",
       "\t<tr><td>0.8546481</td><td>0.6439967</td><td>0.63419331</td><td>9</td><td>2004</td></tr>\n",
       "\t<tr><td>0.3166196</td><td>0.4404923</td><td>0.77541428</td><td>7</td><td>2007</td></tr>\n",
       "\t<tr><td>0.9737884</td><td>0.6811174</td><td>0.28100945</td><td>3</td><td>2003</td></tr>\n",
       "\t<tr><td>0.8425559</td><td>0.8600950</td><td>0.51303089</td><td>7</td><td>2008</td></tr>\n",
       "\t<tr><td>0.7319925</td><td>0.1742992</td><td>0.66565786</td><td>6</td><td>2004</td></tr>\n",
       "\t<tr><td>0.1498276</td><td>0.8420215</td><td>0.16072396</td><td>8</td><td>2002</td></tr>\n",
       "\t<tr><td>0.3983207</td><td>0.3506838</td><td>0.57622253</td><td>8</td><td>2005</td></tr>\n",
       "\t<tr><td>0.7646379</td><td>0.9398339</td><td>0.70295319</td><td>3</td><td>2005</td></tr>\n",
       "</tbody>\n",
       "</table>\n"
      ],
      "text/latex": [
       "A tibble: 10 × 5\n",
       "\\begin{tabular}{lllll}\n",
       " frequency & loudness & power & rating & year\\\\\n",
       " <dbl> & <dbl> & <dbl> & <dbl> & <dbl>\\\\\n",
       "\\hline\n",
       "\t        NA & 0.1343255 & 0.05966479 & 6 & 2005\\\\\n",
       "\t 0.6928735 & 0.4335960 & 0.75805856 & 4 & 2004\\\\\n",
       "\t 0.8546481 & 0.6439967 & 0.63419331 & 9 & 2004\\\\\n",
       "\t 0.3166196 & 0.4404923 & 0.77541428 & 7 & 2007\\\\\n",
       "\t 0.9737884 & 0.6811174 & 0.28100945 & 3 & 2003\\\\\n",
       "\t 0.8425559 & 0.8600950 & 0.51303089 & 7 & 2008\\\\\n",
       "\t 0.7319925 & 0.1742992 & 0.66565786 & 6 & 2004\\\\\n",
       "\t 0.1498276 & 0.8420215 & 0.16072396 & 8 & 2002\\\\\n",
       "\t 0.3983207 & 0.3506838 & 0.57622253 & 8 & 2005\\\\\n",
       "\t 0.7646379 & 0.9398339 & 0.70295319 & 3 & 2005\\\\\n",
       "\\end{tabular}\n"
      ],
      "text/markdown": [
       "\n",
       "A tibble: 10 × 5\n",
       "\n",
       "| frequency &lt;dbl&gt; | loudness &lt;dbl&gt; | power &lt;dbl&gt; | rating &lt;dbl&gt; | year &lt;dbl&gt; |\n",
       "|---|---|---|---|---|\n",
       "|        NA | 0.1343255 | 0.05966479 | 6 | 2005 |\n",
       "| 0.6928735 | 0.4335960 | 0.75805856 | 4 | 2004 |\n",
       "| 0.8546481 | 0.6439967 | 0.63419331 | 9 | 2004 |\n",
       "| 0.3166196 | 0.4404923 | 0.77541428 | 7 | 2007 |\n",
       "| 0.9737884 | 0.6811174 | 0.28100945 | 3 | 2003 |\n",
       "| 0.8425559 | 0.8600950 | 0.51303089 | 7 | 2008 |\n",
       "| 0.7319925 | 0.1742992 | 0.66565786 | 6 | 2004 |\n",
       "| 0.1498276 | 0.8420215 | 0.16072396 | 8 | 2002 |\n",
       "| 0.3983207 | 0.3506838 | 0.57622253 | 8 | 2005 |\n",
       "| 0.7646379 | 0.9398339 | 0.70295319 | 3 | 2005 |\n",
       "\n"
      ],
      "text/plain": [
       "   frequency loudness  power      rating year\n",
       "1         NA 0.1343255 0.05966479 6      2005\n",
       "2  0.6928735 0.4335960 0.75805856 4      2004\n",
       "3  0.8546481 0.6439967 0.63419331 9      2004\n",
       "4  0.3166196 0.4404923 0.77541428 7      2007\n",
       "5  0.9737884 0.6811174 0.28100945 3      2003\n",
       "6  0.8425559 0.8600950 0.51303089 7      2008\n",
       "7  0.7319925 0.1742992 0.66565786 6      2004\n",
       "8  0.1498276 0.8420215 0.16072396 8      2002\n",
       "9  0.3983207 0.3506838 0.57622253 8      2005\n",
       "10 0.7646379 0.9398339 0.70295319 3      2005"
      ]
     },
     "metadata": {},
     "output_type": "display_data"
    }
   ],
   "source": [
    "data <- tibble(frequency = runif(10),\n",
    "             loudness = runif(10),\n",
    "               power = runif(10),\n",
    "              rating = rpois(10, 5) + 1,\n",
    "                year = rpois(10, 5) + 1999)\n",
    "data[1, 1] <- NA\n",
    "data"
   ]
  },
  {
   "cell_type": "code",
   "execution_count": 8,
   "metadata": {
    "slideshow": {
     "slide_type": "fragment"
    }
   },
   "outputs": [
    {
     "data": {
      "text/html": [
       "<table>\n",
       "<caption>A tibble: 10 × 3</caption>\n",
       "<thead>\n",
       "\t<tr><th scope=col>x1</th><th scope=col>x2</th><th scope=col>x3</th></tr>\n",
       "\t<tr><th scope=col>&lt;dbl&gt;</th><th scope=col>&lt;dbl&gt;</th><th scope=col>&lt;dbl&gt;</th></tr>\n",
       "</thead>\n",
       "<tbody>\n",
       "\t<tr><td>        NA</td><td>0.08606255</td><td>0.1288480</td></tr>\n",
       "\t<tr><td>0.81691706</td><td>0.99473441</td><td>0.3311513</td></tr>\n",
       "\t<tr><td>0.13333292</td><td>0.65194574</td><td>0.2853432</td></tr>\n",
       "\t<tr><td>0.16104167</td><td>0.67179546</td><td>0.8005685</td></tr>\n",
       "\t<tr><td>0.36094295</td><td>0.25380977</td><td>0.1713012</td></tr>\n",
       "\t<tr><td>0.99668636</td><td>0.73210644</td><td>0.9158874</td></tr>\n",
       "\t<tr><td>0.02693094</td><td>0.18835790</td><td>0.9060911</td></tr>\n",
       "\t<tr><td>0.72400485</td><td>0.97848506</td><td>0.5090922</td></tr>\n",
       "\t<tr><td>0.01567038</td><td>0.64815105</td><td>0.7467792</td></tr>\n",
       "\t<tr><td>0.08345510</td><td>0.23296823</td><td>0.4496796</td></tr>\n",
       "</tbody>\n",
       "</table>\n"
      ],
      "text/latex": [
       "A tibble: 10 × 3\n",
       "\\begin{tabular}{lll}\n",
       " x1 & x2 & x3\\\\\n",
       " <dbl> & <dbl> & <dbl>\\\\\n",
       "\\hline\n",
       "\t         NA & 0.08606255 & 0.1288480\\\\\n",
       "\t 0.81691706 & 0.99473441 & 0.3311513\\\\\n",
       "\t 0.13333292 & 0.65194574 & 0.2853432\\\\\n",
       "\t 0.16104167 & 0.67179546 & 0.8005685\\\\\n",
       "\t 0.36094295 & 0.25380977 & 0.1713012\\\\\n",
       "\t 0.99668636 & 0.73210644 & 0.9158874\\\\\n",
       "\t 0.02693094 & 0.18835790 & 0.9060911\\\\\n",
       "\t 0.72400485 & 0.97848506 & 0.5090922\\\\\n",
       "\t 0.01567038 & 0.64815105 & 0.7467792\\\\\n",
       "\t 0.08345510 & 0.23296823 & 0.4496796\\\\\n",
       "\\end{tabular}\n"
      ],
      "text/markdown": [
       "\n",
       "A tibble: 10 × 3\n",
       "\n",
       "| x1 &lt;dbl&gt; | x2 &lt;dbl&gt; | x3 &lt;dbl&gt; |\n",
       "|---|---|---|\n",
       "|         NA | 0.08606255 | 0.1288480 |\n",
       "| 0.81691706 | 0.99473441 | 0.3311513 |\n",
       "| 0.13333292 | 0.65194574 | 0.2853432 |\n",
       "| 0.16104167 | 0.67179546 | 0.8005685 |\n",
       "| 0.36094295 | 0.25380977 | 0.1713012 |\n",
       "| 0.99668636 | 0.73210644 | 0.9158874 |\n",
       "| 0.02693094 | 0.18835790 | 0.9060911 |\n",
       "| 0.72400485 | 0.97848506 | 0.5090922 |\n",
       "| 0.01567038 | 0.64815105 | 0.7467792 |\n",
       "| 0.08345510 | 0.23296823 | 0.4496796 |\n",
       "\n"
      ],
      "text/plain": [
       "   x1         x2         x3       \n",
       "1          NA 0.08606255 0.1288480\n",
       "2  0.81691706 0.99473441 0.3311513\n",
       "3  0.13333292 0.65194574 0.2853432\n",
       "4  0.16104167 0.67179546 0.8005685\n",
       "5  0.36094295 0.25380977 0.1713012\n",
       "6  0.99668636 0.73210644 0.9158874\n",
       "7  0.02693094 0.18835790 0.9060911\n",
       "8  0.72400485 0.97848506 0.5090922\n",
       "9  0.01567038 0.64815105 0.7467792\n",
       "10 0.08345510 0.23296823 0.4496796"
      ]
     },
     "metadata": {},
     "output_type": "display_data"
    },
    {
     "data": {
      "text/html": [
       "<table>\n",
       "<caption>A tibble: 10 × 3</caption>\n",
       "<thead>\n",
       "\t<tr><th scope=col>x1</th><th scope=col>x2</th><th scope=col>x3</th></tr>\n",
       "\t<tr><th scope=col>&lt;dbl&gt;</th><th scope=col>&lt;dbl&gt;</th><th scope=col>&lt;dbl&gt;</th></tr>\n",
       "</thead>\n",
       "<tbody>\n",
       "\t<tr><td>11</td><td> 9</td><td>5</td></tr>\n",
       "\t<tr><td> 9</td><td>11</td><td>3</td></tr>\n",
       "\t<tr><td> 3</td><td> 8</td><td>7</td></tr>\n",
       "\t<tr><td>10</td><td> 6</td><td>5</td></tr>\n",
       "\t<tr><td> 7</td><td> 7</td><td>7</td></tr>\n",
       "\t<tr><td> 7</td><td> 7</td><td>7</td></tr>\n",
       "\t<tr><td> 5</td><td> 7</td><td>8</td></tr>\n",
       "\t<tr><td> 6</td><td> 6</td><td>7</td></tr>\n",
       "\t<tr><td> 3</td><td> 6</td><td>6</td></tr>\n",
       "\t<tr><td> 9</td><td> 7</td><td>5</td></tr>\n",
       "</tbody>\n",
       "</table>\n"
      ],
      "text/latex": [
       "A tibble: 10 × 3\n",
       "\\begin{tabular}{lll}\n",
       " x1 & x2 & x3\\\\\n",
       " <dbl> & <dbl> & <dbl>\\\\\n",
       "\\hline\n",
       "\t 11 &  9 & 5\\\\\n",
       "\t  9 & 11 & 3\\\\\n",
       "\t  3 &  8 & 7\\\\\n",
       "\t 10 &  6 & 5\\\\\n",
       "\t  7 &  7 & 7\\\\\n",
       "\t  7 &  7 & 7\\\\\n",
       "\t  5 &  7 & 8\\\\\n",
       "\t  6 &  6 & 7\\\\\n",
       "\t  3 &  6 & 6\\\\\n",
       "\t  9 &  7 & 5\\\\\n",
       "\\end{tabular}\n"
      ],
      "text/markdown": [
       "\n",
       "A tibble: 10 × 3\n",
       "\n",
       "| x1 &lt;dbl&gt; | x2 &lt;dbl&gt; | x3 &lt;dbl&gt; |\n",
       "|---|---|---|\n",
       "| 11 |  9 | 5 |\n",
       "|  9 | 11 | 3 |\n",
       "|  3 |  8 | 7 |\n",
       "| 10 |  6 | 5 |\n",
       "|  7 |  7 | 7 |\n",
       "|  7 |  7 | 7 |\n",
       "|  5 |  7 | 8 |\n",
       "|  6 |  6 | 7 |\n",
       "|  3 |  6 | 6 |\n",
       "|  9 |  7 | 5 |\n",
       "\n"
      ],
      "text/plain": [
       "   x1 x2 x3\n",
       "1  11  9 5 \n",
       "2   9 11 3 \n",
       "3   3  8 7 \n",
       "4  10  6 5 \n",
       "5   7  7 7 \n",
       "6   7  7 7 \n",
       "7   5  7 8 \n",
       "8   6  6 7 \n",
       "9   3  6 6 \n",
       "10  9  7 5 "
      ]
     },
     "metadata": {},
     "output_type": "display_data"
    }
   ],
   "source": [
    "library(dplyr, quietly = TRUE)\n",
    "data <- tibble(x1 = runif(10),\n",
    "               x2 = runif(10),\n",
    "               x3 = runif(10))\n",
    "data[1, 1] <- NA\n",
    "weights <- tibble(x1 = rpois(10, 5) + 1,\n",
    "                 x2 = rpois(10, 5) + 1,\n",
    "                 x3 = rpois(10, 5) + 1,)\n",
    "\n",
    "data\n",
    "weights"
   ]
  },
  {
   "cell_type": "markdown",
   "metadata": {
    "slideshow": {
     "slide_type": "slide"
    }
   },
   "source": [
    "### `purrr::map2_df` example:\n",
    "\n",
    "Let's use `map2_df` to calculate the weighted mean using these two data frames."
   ]
  },
  {
   "cell_type": "code",
   "execution_count": 9,
   "metadata": {
    "slideshow": {
     "slide_type": "fragment"
    }
   },
   "outputs": [
    {
     "data": {
      "text/html": [
       "\n",
       "<table width=\"100%\" summary=\"page for weighted.mean {stats}\"><tr><td>weighted.mean {stats}</td><td style=\"text-align: right;\">R Documentation</td></tr></table>\n",
       "\n",
       "<h2>Weighted Arithmetic Mean</h2>\n",
       "\n",
       "<h3>Description</h3>\n",
       "\n",
       "<p>Compute a weighted mean.\n",
       "</p>\n",
       "\n",
       "\n",
       "<h3>Usage</h3>\n",
       "\n",
       "<pre>\n",
       "weighted.mean(x, w, ...)\n",
       "\n",
       "## Default S3 method:\n",
       "weighted.mean(x, w, ..., na.rm = FALSE)\n",
       "</pre>\n",
       "\n",
       "\n",
       "<h3>Arguments</h3>\n",
       "\n",
       "<table summary=\"R argblock\">\n",
       "<tr valign=\"top\"><td><code>x</code></td>\n",
       "<td>\n",
       "<p>an object containing the values whose weighted mean is to be\n",
       "computed.</p>\n",
       "</td></tr>\n",
       "<tr valign=\"top\"><td><code>w</code></td>\n",
       "<td>\n",
       "<p>a numerical vector of weights the same length as <code>x</code> giving\n",
       "the weights to use for elements of <code>x</code>.</p>\n",
       "</td></tr>\n",
       "<tr valign=\"top\"><td><code>...</code></td>\n",
       "<td>\n",
       "<p>arguments to be passed to or from methods.</p>\n",
       "</td></tr>\n",
       "<tr valign=\"top\"><td><code>na.rm</code></td>\n",
       "<td>\n",
       "<p>a logical value indicating whether <code>NA</code>\n",
       "values in <code>x</code> should be stripped before the computation proceeds.</p>\n",
       "</td></tr>\n",
       "</table>\n",
       "\n",
       "\n",
       "<h3>Details</h3>\n",
       "\n",
       "<p>This is a generic function and methods can be defined for the first\n",
       "argument <code>x</code>: apart from the default methods there are methods\n",
       "for the date-time classes <code>\"POSIXct\"</code>, <code>\"POSIXlt\"</code>,\n",
       "<code>\"difftime\"</code> and <code>\"Date\"</code>.  The default method will work for\n",
       "any numeric-like object for which <code>[</code>, multiplication, division\n",
       "and <code>sum</code> have suitable methods, including complex vectors.\n",
       "</p>\n",
       "<p>If <code>w</code> is missing then all elements of <code>x</code> are given the\n",
       "same weight, otherwise the weights coerced to numeric by\n",
       "<code>as.numeric</code> and normalized to sum to one (if possible: if\n",
       "their sum is zero or infinite the value is likely to be <code>NaN</code>).\n",
       "</p>\n",
       "<p>Missing values in <code>w</code> are not handled specially and so give a\n",
       "missing value as the result.  However, zero weights <em>are</em> handled\n",
       "specially and the corresponding <code>x</code> values are omitted from the\n",
       "sum.\n",
       "</p>\n",
       "\n",
       "\n",
       "<h3>Value</h3>\n",
       "\n",
       "<p>For the default method, a length-one numeric vector.\n",
       "</p>\n",
       "\n",
       "\n",
       "<h3>See Also</h3>\n",
       "\n",
       "<p><code>mean</code>\n",
       "</p>\n",
       "\n",
       "\n",
       "<h3>Examples</h3>\n",
       "\n",
       "<pre>\n",
       "## GPA from Siegel 1994\n",
       "wt &lt;- c(5,  5,  4,  1)/15\n",
       "x &lt;- c(3.7,3.3,3.5,2.8)\n",
       "xm &lt;- weighted.mean(x, wt)\n",
       "</pre>\n",
       "\n",
       "<hr /><div style=\"text-align: center;\">[Package <em>stats</em> version 4.0.2 ]</div>"
      ],
      "text/latex": [
       "\\inputencoding{utf8}\n",
       "\\HeaderA{weighted.mean}{Weighted Arithmetic Mean}{weighted.mean}\n",
       "\\methaliasA{weighted.mean.default}{weighted.mean}{weighted.mean.default}\n",
       "\\keyword{univar}{weighted.mean}\n",
       "%\n",
       "\\begin{Description}\\relax\n",
       "Compute a weighted mean.\n",
       "\\end{Description}\n",
       "%\n",
       "\\begin{Usage}\n",
       "\\begin{verbatim}\n",
       "weighted.mean(x, w, ...)\n",
       "\n",
       "## Default S3 method:\n",
       "weighted.mean(x, w, ..., na.rm = FALSE)\n",
       "\\end{verbatim}\n",
       "\\end{Usage}\n",
       "%\n",
       "\\begin{Arguments}\n",
       "\\begin{ldescription}\n",
       "\\item[\\code{x}] an object containing the values whose weighted mean is to be\n",
       "computed.\n",
       "\\item[\\code{w}] a numerical vector of weights the same length as \\code{x} giving\n",
       "the weights to use for elements of \\code{x}.\n",
       "\\item[\\code{...}] arguments to be passed to or from methods.\n",
       "\\item[\\code{na.rm}] a logical value indicating whether \\code{NA}\n",
       "values in \\code{x} should be stripped before the computation proceeds.\n",
       "\\end{ldescription}\n",
       "\\end{Arguments}\n",
       "%\n",
       "\\begin{Details}\\relax\n",
       "This is a generic function and methods can be defined for the first\n",
       "argument \\code{x}: apart from the default methods there are methods\n",
       "for the date-time classes \\code{\"POSIXct\"}, \\code{\"POSIXlt\"},\n",
       "\\code{\"difftime\"} and \\code{\"Date\"}.  The default method will work for\n",
       "any numeric-like object for which \\code{[}, multiplication, division\n",
       "and \\code{\\LinkA{sum}{sum}} have suitable methods, including complex vectors.\n",
       "\n",
       "If \\code{w} is missing then all elements of \\code{x} are given the\n",
       "same weight, otherwise the weights coerced to numeric by\n",
       "\\code{\\LinkA{as.numeric}{as.numeric}} and normalized to sum to one (if possible: if\n",
       "their sum is zero or infinite the value is likely to be \\code{NaN}).\n",
       "\n",
       "Missing values in \\code{w} are not handled specially and so give a\n",
       "missing value as the result.  However, zero weights \\emph{are} handled\n",
       "specially and the corresponding \\code{x} values are omitted from the\n",
       "sum.\n",
       "\\end{Details}\n",
       "%\n",
       "\\begin{Value}\n",
       "For the default method, a length-one numeric vector.\n",
       "\\end{Value}\n",
       "%\n",
       "\\begin{SeeAlso}\\relax\n",
       "\\code{\\LinkA{mean}{mean}}\n",
       "\\end{SeeAlso}\n",
       "%\n",
       "\\begin{Examples}\n",
       "\\begin{ExampleCode}\n",
       "## GPA from Siegel 1994\n",
       "wt <- c(5,  5,  4,  1)/15\n",
       "x <- c(3.7,3.3,3.5,2.8)\n",
       "xm <- weighted.mean(x, wt)\n",
       "\\end{ExampleCode}\n",
       "\\end{Examples}"
      ],
      "text/plain": [
       "weighted.mean              package:stats               R Documentation\n",
       "\n",
       "_\bW_\be_\bi_\bg_\bh_\bt_\be_\bd _\bA_\br_\bi_\bt_\bh_\bm_\be_\bt_\bi_\bc _\bM_\be_\ba_\bn\n",
       "\n",
       "_\bD_\be_\bs_\bc_\br_\bi_\bp_\bt_\bi_\bo_\bn:\n",
       "\n",
       "     Compute a weighted mean.\n",
       "\n",
       "_\bU_\bs_\ba_\bg_\be:\n",
       "\n",
       "     weighted.mean(x, w, ...)\n",
       "     \n",
       "     ## Default S3 method:\n",
       "     weighted.mean(x, w, ..., na.rm = FALSE)\n",
       "     \n",
       "_\bA_\br_\bg_\bu_\bm_\be_\bn_\bt_\bs:\n",
       "\n",
       "       x: an object containing the values whose weighted mean is to be\n",
       "          computed.\n",
       "\n",
       "       w: a numerical vector of weights the same length as ‘x’ giving\n",
       "          the weights to use for elements of ‘x’.\n",
       "\n",
       "     ...: arguments to be passed to or from methods.\n",
       "\n",
       "   na.rm: a logical value indicating whether ‘NA’ values in ‘x’ should\n",
       "          be stripped before the computation proceeds.\n",
       "\n",
       "_\bD_\be_\bt_\ba_\bi_\bl_\bs:\n",
       "\n",
       "     This is a generic function and methods can be defined for the\n",
       "     first argument ‘x’: apart from the default methods there are\n",
       "     methods for the date-time classes ‘\"POSIXct\"’, ‘\"POSIXlt\"’,\n",
       "     ‘\"difftime\"’ and ‘\"Date\"’.  The default method will work for any\n",
       "     numeric-like object for which ‘[’, multiplication, division and\n",
       "     ‘sum’ have suitable methods, including complex vectors.\n",
       "\n",
       "     If ‘w’ is missing then all elements of ‘x’ are given the same\n",
       "     weight, otherwise the weights coerced to numeric by ‘as.numeric’\n",
       "     and normalized to sum to one (if possible: if their sum is zero or\n",
       "     infinite the value is likely to be ‘NaN’).\n",
       "\n",
       "     Missing values in ‘w’ are not handled specially and so give a\n",
       "     missing value as the result.  However, zero weights _are_ handled\n",
       "     specially and the corresponding ‘x’ values are omitted from the\n",
       "     sum.\n",
       "\n",
       "_\bV_\ba_\bl_\bu_\be:\n",
       "\n",
       "     For the default method, a length-one numeric vector.\n",
       "\n",
       "_\bS_\be_\be _\bA_\bl_\bs_\bo:\n",
       "\n",
       "     ‘mean’\n",
       "\n",
       "_\bE_\bx_\ba_\bm_\bp_\bl_\be_\bs:\n",
       "\n",
       "     ## GPA from Siegel 1994\n",
       "     wt <- c(5,  5,  4,  1)/15\n",
       "     x <- c(3.7,3.3,3.5,2.8)\n",
       "     xm <- weighted.mean(x, wt)\n",
       "     "
      ]
     },
     "metadata": {},
     "output_type": "display_data"
    }
   ],
   "source": [
    "?weighted.mean"
   ]
  },
  {
   "cell_type": "markdown",
   "metadata": {},
   "source": [
    "Now that we know how to use `weighted.mean`, let's map it! (and use `na.rm = TRUE` to deal with NA's)"
   ]
  },
  {
   "cell_type": "code",
   "execution_count": 31,
   "metadata": {
    "slideshow": {
     "slide_type": "fragment"
    }
   },
   "outputs": [
    {
     "data": {
      "text/html": [
       "<table>\n",
       "<caption>A tibble: 1 × 3</caption>\n",
       "<thead>\n",
       "\t<tr><th scope=col>x1</th><th scope=col>x2</th><th scope=col>x3</th></tr>\n",
       "\t<tr><th scope=col>&lt;dbl&gt;</th><th scope=col>&lt;dbl&gt;</th><th scope=col>&lt;dbl&gt;</th></tr>\n",
       "</thead>\n",
       "<tbody>\n",
       "\t<tr><td>0.4092011</td><td>0.5482905</td><td>0.5464951</td></tr>\n",
       "</tbody>\n",
       "</table>\n"
      ],
      "text/latex": [
       "A tibble: 1 × 3\n",
       "\\begin{tabular}{lll}\n",
       " x1 & x2 & x3\\\\\n",
       " <dbl> & <dbl> & <dbl>\\\\\n",
       "\\hline\n",
       "\t 0.4092011 & 0.5482905 & 0.5464951\\\\\n",
       "\\end{tabular}\n"
      ],
      "text/markdown": [
       "\n",
       "A tibble: 1 × 3\n",
       "\n",
       "| x1 &lt;dbl&gt; | x2 &lt;dbl&gt; | x3 &lt;dbl&gt; |\n",
       "|---|---|---|\n",
       "| 0.4092011 | 0.5482905 | 0.5464951 |\n",
       "\n"
      ],
      "text/plain": [
       "  x1        x2        x3       \n",
       "1 0.4092011 0.5482905 0.5464951"
      ]
     },
     "metadata": {},
     "output_type": "display_data"
    }
   ],
   "source": [
    "map2_df(data, weights, weighted.mean, na.rm = TRUE)"
   ]
  },
  {
   "cell_type": "markdown",
   "metadata": {
    "slideshow": {
     "slide_type": "fragment"
    }
   },
   "source": [
    "Not too bad eh! "
   ]
  },
  {
   "cell_type": "markdown",
   "metadata": {
    "slideshow": {
     "slide_type": "slide"
    }
   },
   "source": [
    "#### `purrr::map2*`\n",
    "\n",
    "Also, if `y` has less elements than `x`, it recycles `y`:\n",
    "\n",
    "<img src=\"https://d33wubrfki0l68.cloudfront.net/55032525ec77409e381dcd200a47e1787e65b964/dcaef/diagrams/functionals/map2-recycle.png\" width=400>"
   ]
  },
  {
   "cell_type": "markdown",
   "metadata": {
    "slideshow": {
     "slide_type": "fragment"
    }
   },
   "source": [
    "This is most useful when y has only one element."
   ]
  },
  {
   "cell_type": "markdown",
   "metadata": {
    "slideshow": {
     "slide_type": "slide"
    }
   },
   "source": [
    "#### `purrr::pmap*`\n",
    "\n",
    "```\n",
    "pmap*(list(.x1, .x2, ... .xn), .f, ...)\n",
    "```\n",
    "\n",
    "Above reads as: `for` every element of in the **list** (that contains `.x1, .x2, ... .xn`) apply `.f` "
   ]
  },
  {
   "cell_type": "markdown",
   "metadata": {
    "slideshow": {
     "slide_type": "fragment"
    }
   },
   "source": [
    "But what happens when you have > 2 arguments?"
   ]
  },
  {
   "cell_type": "markdown",
   "metadata": {
    "slideshow": {
     "slide_type": "slide"
    }
   },
   "source": [
    "## Mapping more than two arguments (Optional)\n",
    "\n",
    "Without an anonymous function, works as so:"
   ]
  },
  {
   "cell_type": "code",
   "execution_count": 14,
   "metadata": {
    "slideshow": {
     "slide_type": "fragment"
    }
   },
   "outputs": [
    {
     "data": {
      "text/html": [
       "<style>\n",
       ".list-inline {list-style: none; margin:0; padding: 0}\n",
       ".list-inline>li {display: inline-block}\n",
       ".list-inline>li:not(:last-child)::after {content: \"\\00b7\"; padding: 0 .5ex}\n",
       "</style>\n",
       "<ol class=list-inline><li>4</li><li>5</li></ol>\n"
      ],
      "text/latex": [
       "\\begin{enumerate*}\n",
       "\\item 4\n",
       "\\item 5\n",
       "\\end{enumerate*}\n"
      ],
      "text/markdown": [
       "1. 4\n",
       "2. 5\n",
       "\n",
       "\n"
      ],
      "text/plain": [
       "[1] 4 5"
      ]
     },
     "metadata": {},
     "output_type": "display_data"
    }
   ],
   "source": [
    "f1 <- function(x, y, z) {\n",
    "    x + y + z\n",
    "}\n",
    "\n",
    "pmap_dbl(list(c(1, 1), c(1, 2), c(2, 2)), f1)"
   ]
  },
  {
   "cell_type": "markdown",
   "metadata": {
    "slideshow": {
     "slide_type": "slide"
    }
   },
   "source": [
    "If you want to use an anonymous function, then use `..1`, `..2`, `..3`, and so on to specify where the mapped objets go in your function:"
   ]
  },
  {
   "cell_type": "code",
   "execution_count": 15,
   "metadata": {
    "slideshow": {
     "slide_type": "fragment"
    }
   },
   "outputs": [
    {
     "data": {
      "text/html": [
       "<style>\n",
       ".list-inline {list-style: none; margin:0; padding: 0}\n",
       ".list-inline>li {display: inline-block}\n",
       ".list-inline>li:not(:last-child)::after {content: \"\\00b7\"; padding: 0 .5ex}\n",
       "</style>\n",
       "<ol class=list-inline><li>3</li><li>4</li></ol>\n"
      ],
      "text/latex": [
       "\\begin{enumerate*}\n",
       "\\item 3\n",
       "\\item 4\n",
       "\\end{enumerate*}\n"
      ],
      "text/markdown": [
       "1. 3\n",
       "2. 4\n",
       "\n",
       "\n"
      ],
      "text/plain": [
       "[1] 3 4"
      ]
     },
     "metadata": {},
     "output_type": "display_data"
    }
   ],
   "source": [
    "f2 <- function(x, y, z, a = 0) {\n",
    "    x + y + z + a\n",
    "}\n",
    "\n",
    "pmap_dbl(list(c(1, 1), c(1, 2), c(2, 2)), ~ f2(..1, ..2, ..3, a = -1))"
   ]
  },
  {
   "cell_type": "markdown",
   "metadata": {
    "slideshow": {
     "slide_type": "fragment"
    }
   },
   "source": [
    "We only used two inputs to our function here, but we can use any number with `pmap`, we just need to add them to our list!"
   ]
  },
  {
   "cell_type": "markdown",
   "metadata": {
    "slideshow": {
     "slide_type": "slide"
    }
   },
   "source": [
    "### Want to iterate row-wise, instead of column-wise?\n",
    "\n",
    "Here you can use `purrr::pmap` on a single data frame!\n",
    "\n",
    "This: ```purrr::pmap(df, .f)```\n",
    "\n",
    "reads as: `for` every tuple in `.l` (*i.e.*, each row of `df`) apply `.f`"
   ]
  },
  {
   "cell_type": "markdown",
   "metadata": {
    "slideshow": {
     "slide_type": "fragment"
    }
   },
   "source": [
    "The key point is that `pmap()` iterates over tuples = the collection of `i`-th elements of `k` lists. A data frame row is an interesting special case."
   ]
  },
  {
   "cell_type": "markdown",
   "metadata": {
    "slideshow": {
     "slide_type": "slide"
    }
   },
   "source": [
    "### Here's an example of row-wise iteration \n",
    "\n",
    "Here we calculate the sum for each row in the `mtcars` data frame:"
   ]
  },
  {
   "cell_type": "code",
   "execution_count": 16,
   "metadata": {
    "slideshow": {
     "slide_type": "fragment"
    }
   },
   "outputs": [
    {
     "data": {
      "text/html": [
       "<ol>\n",
       "\t<li>328.98</li>\n",
       "\t<li>329.795</li>\n",
       "\t<li>259.58</li>\n",
       "\t<li>426.135</li>\n",
       "\t<li>590.31</li>\n",
       "\t<li>385.54</li>\n",
       "\t<li>656.92</li>\n",
       "\t<li>270.98</li>\n",
       "\t<li>299.57</li>\n",
       "\t<li>350.46</li>\n",
       "\t<li>349.66</li>\n",
       "\t<li>510.74</li>\n",
       "\t<li>511.5</li>\n",
       "\t<li>509.85</li>\n",
       "\t<li>728.56</li>\n",
       "\t<li>726.644</li>\n",
       "\t<li>725.695</li>\n",
       "\t<li>213.85</li>\n",
       "\t<li>195.165</li>\n",
       "\t<li>206.955</li>\n",
       "\t<li>273.775</li>\n",
       "\t<li>519.65</li>\n",
       "\t<li>506.085</li>\n",
       "\t<li>646.28</li>\n",
       "\t<li>631.175</li>\n",
       "\t<li>208.215</li>\n",
       "\t<li>272.57</li>\n",
       "\t<li>273.683</li>\n",
       "\t<li>670.69</li>\n",
       "\t<li>379.59</li>\n",
       "\t<li>694.71</li>\n",
       "\t<li>288.89</li>\n",
       "</ol>\n"
      ],
      "text/latex": [
       "\\begin{enumerate}\n",
       "\\item 328.98\n",
       "\\item 329.795\n",
       "\\item 259.58\n",
       "\\item 426.135\n",
       "\\item 590.31\n",
       "\\item 385.54\n",
       "\\item 656.92\n",
       "\\item 270.98\n",
       "\\item 299.57\n",
       "\\item 350.46\n",
       "\\item 349.66\n",
       "\\item 510.74\n",
       "\\item 511.5\n",
       "\\item 509.85\n",
       "\\item 728.56\n",
       "\\item 726.644\n",
       "\\item 725.695\n",
       "\\item 213.85\n",
       "\\item 195.165\n",
       "\\item 206.955\n",
       "\\item 273.775\n",
       "\\item 519.65\n",
       "\\item 506.085\n",
       "\\item 646.28\n",
       "\\item 631.175\n",
       "\\item 208.215\n",
       "\\item 272.57\n",
       "\\item 273.683\n",
       "\\item 670.69\n",
       "\\item 379.59\n",
       "\\item 694.71\n",
       "\\item 288.89\n",
       "\\end{enumerate}\n"
      ],
      "text/markdown": [
       "1. 328.98\n",
       "2. 329.795\n",
       "3. 259.58\n",
       "4. 426.135\n",
       "5. 590.31\n",
       "6. 385.54\n",
       "7. 656.92\n",
       "8. 270.98\n",
       "9. 299.57\n",
       "10. 350.46\n",
       "11. 349.66\n",
       "12. 510.74\n",
       "13. 511.5\n",
       "14. 509.85\n",
       "15. 728.56\n",
       "16. 726.644\n",
       "17. 725.695\n",
       "18. 213.85\n",
       "19. 195.165\n",
       "20. 206.955\n",
       "21. 273.775\n",
       "22. 519.65\n",
       "23. 506.085\n",
       "24. 646.28\n",
       "25. 631.175\n",
       "26. 208.215\n",
       "27. 272.57\n",
       "28. 273.683\n",
       "29. 670.69\n",
       "30. 379.59\n",
       "31. 694.71\n",
       "32. 288.89\n",
       "\n",
       "\n"
      ],
      "text/plain": [
       "[[1]]\n",
       "[1] 328.98\n",
       "\n",
       "[[2]]\n",
       "[1] 329.795\n",
       "\n",
       "[[3]]\n",
       "[1] 259.58\n",
       "\n",
       "[[4]]\n",
       "[1] 426.135\n",
       "\n",
       "[[5]]\n",
       "[1] 590.31\n",
       "\n",
       "[[6]]\n",
       "[1] 385.54\n",
       "\n",
       "[[7]]\n",
       "[1] 656.92\n",
       "\n",
       "[[8]]\n",
       "[1] 270.98\n",
       "\n",
       "[[9]]\n",
       "[1] 299.57\n",
       "\n",
       "[[10]]\n",
       "[1] 350.46\n",
       "\n",
       "[[11]]\n",
       "[1] 349.66\n",
       "\n",
       "[[12]]\n",
       "[1] 510.74\n",
       "\n",
       "[[13]]\n",
       "[1] 511.5\n",
       "\n",
       "[[14]]\n",
       "[1] 509.85\n",
       "\n",
       "[[15]]\n",
       "[1] 728.56\n",
       "\n",
       "[[16]]\n",
       "[1] 726.644\n",
       "\n",
       "[[17]]\n",
       "[1] 725.695\n",
       "\n",
       "[[18]]\n",
       "[1] 213.85\n",
       "\n",
       "[[19]]\n",
       "[1] 195.165\n",
       "\n",
       "[[20]]\n",
       "[1] 206.955\n",
       "\n",
       "[[21]]\n",
       "[1] 273.775\n",
       "\n",
       "[[22]]\n",
       "[1] 519.65\n",
       "\n",
       "[[23]]\n",
       "[1] 506.085\n",
       "\n",
       "[[24]]\n",
       "[1] 646.28\n",
       "\n",
       "[[25]]\n",
       "[1] 631.175\n",
       "\n",
       "[[26]]\n",
       "[1] 208.215\n",
       "\n",
       "[[27]]\n",
       "[1] 272.57\n",
       "\n",
       "[[28]]\n",
       "[1] 273.683\n",
       "\n",
       "[[29]]\n",
       "[1] 670.69\n",
       "\n",
       "[[30]]\n",
       "[1] 379.59\n",
       "\n",
       "[[31]]\n",
       "[1] 694.71\n",
       "\n",
       "[[32]]\n",
       "[1] 288.89\n"
      ]
     },
     "metadata": {},
     "output_type": "display_data"
    }
   ],
   "source": [
    "pmap(mtcars, sum)"
   ]
  },
  {
   "cell_type": "markdown",
   "metadata": {
    "slideshow": {
     "slide_type": "slide"
    }
   },
   "source": [
    "### Mapping over groups of rows\n",
    "\n",
    "There are two strategies, we have already learned about the first:\n",
    "- `dplyr::group_by` + `dplyr::summarize`\n",
    "- `dplyr::group_by` + `tidyr::nest`"
   ]
  },
  {
   "cell_type": "markdown",
   "metadata": {},
   "source": [
    "## Nested data frames\n",
    "\n",
    "In future stastistics classes, we will use nested data frames for working with models and estimates. For example, in DSCI 552 we will use them for calculating confidence intervals. Here is some sample code below to calculcate confidence intervals for the mean life expectency for each each country in the `gapminder` data set:"
   ]
  },
  {
   "cell_type": "code",
   "execution_count": 17,
   "metadata": {
    "scrolled": true
   },
   "outputs": [
    {
     "name": "stdout",
     "output_type": "stream",
     "text": [
      "\u001b[38;5;246m# A tibble: 142 x 6\u001b[39m\n",
      "\u001b[38;5;246m# Groups:   country, continent [142]\u001b[39m\n",
      "   country     continent data              mean_life_exp `2.5%` `97.5%`\n",
      "   \u001b[3m\u001b[38;5;246m<fct>\u001b[39m\u001b[23m       \u001b[3m\u001b[38;5;246m<fct>\u001b[39m\u001b[23m     \u001b[3m\u001b[38;5;246m<list>\u001b[39m\u001b[23m                    \u001b[3m\u001b[38;5;246m<dbl>\u001b[39m\u001b[23m  \u001b[3m\u001b[38;5;246m<dbl>\u001b[39m\u001b[23m   \u001b[3m\u001b[38;5;246m<dbl>\u001b[39m\u001b[23m\n",
      "\u001b[38;5;250m 1\u001b[39m Afghanistan Asia      \u001b[38;5;246m<tibble [12 × 4]>\u001b[39m          37.5   34.5    40.2\n",
      "\u001b[38;5;250m 2\u001b[39m Albania     Europe    \u001b[38;5;246m<tibble [12 × 4]>\u001b[39m          68.4   64.8    71.5\n",
      "\u001b[38;5;250m 3\u001b[39m Algeria     Africa    \u001b[38;5;246m<tibble [12 × 4]>\u001b[39m          59.0   53.1    64.5\n",
      "\u001b[38;5;250m 4\u001b[39m Angola      Africa    \u001b[38;5;246m<tibble [12 × 4]>\u001b[39m          37.9   35.5    39.8\n",
      "\u001b[38;5;250m 5\u001b[39m Argentina   Americas  \u001b[38;5;246m<tibble [12 × 4]>\u001b[39m          69.1   66.8    71.3\n",
      "\u001b[38;5;250m 6\u001b[39m Australia   Oceania   \u001b[38;5;246m<tibble [12 × 4]>\u001b[39m          74.7   72.5    77.1\n",
      "\u001b[38;5;250m 7\u001b[39m Austria     Europe    \u001b[38;5;246m<tibble [12 × 4]>\u001b[39m          73.1   70.7    75.2\n",
      "\u001b[38;5;250m 8\u001b[39m Bahrain     Asia      \u001b[38;5;246m<tibble [12 × 4]>\u001b[39m          65.6   61.0    69.8\n",
      "\u001b[38;5;250m 9\u001b[39m Bangladesh  Asia      \u001b[38;5;246m<tibble [12 × 4]>\u001b[39m          49.8   44.6    54.5\n",
      "\u001b[38;5;250m10\u001b[39m Belgium     Europe    \u001b[38;5;246m<tibble [12 × 4]>\u001b[39m          73.6   71.7    75.9\n",
      "\u001b[38;5;246m# … with 132 more rows\u001b[39m\n"
     ]
    }
   ],
   "source": [
    "gap_lifeExp_ci <- function(df, statistic) {\n",
    "  df %>% \n",
    "        specify(response = lifeExp) %>% \n",
    "        generate(reps = 1000, type = \"bootstrap\")  %>% \n",
    "        calculate(stat = statistic)  %>% \n",
    "        get_ci()\n",
    "}\n",
    "\n",
    "by_country <- gapminder %>%\n",
    "    group_by(continent, country) %>%\n",
    "    nest() %>% \n",
    "    mutate(mean_life_exp = map_dbl(data, ~mean(.$lifeExp)), \n",
    "    life_exp_ci = map(data, ~gap_lifeExp_ci(., \"mean\")))\n",
    "print(by_country)"
   ]
  },
  {
   "cell_type": "markdown",
   "metadata": {},
   "source": [
    "This is called a nested data frame. A data frame which contains other data frames. This data structure is extremely useful when fitting many models and allows you to keep the data, the model meta data, and the model and its results all associated together as a single row in a data frame.\n",
    "\n",
    "Let's unpack this data structure a bit more and learn how to create, manipulate them."
   ]
  },
  {
   "cell_type": "markdown",
   "metadata": {},
   "source": [
    "### List-columns\n",
    "\n",
    "To create a nested data frame we start with a **grouped** data frame, and “nest” it:"
   ]
  },
  {
   "cell_type": "code",
   "execution_count": 18,
   "metadata": {},
   "outputs": [
    {
     "name": "stdout",
     "output_type": "stream",
     "text": [
      "\u001b[38;5;246m# A tibble: 142 x 3\u001b[39m\n",
      "\u001b[38;5;246m# Groups:   country, continent [142]\u001b[39m\n",
      "   country     continent data             \n",
      "   \u001b[3m\u001b[38;5;246m<fct>\u001b[39m\u001b[23m       \u001b[3m\u001b[38;5;246m<fct>\u001b[39m\u001b[23m     \u001b[3m\u001b[38;5;246m<list>\u001b[39m\u001b[23m           \n",
      "\u001b[38;5;250m 1\u001b[39m Afghanistan Asia      \u001b[38;5;246m<tibble [12 × 4]>\u001b[39m\n",
      "\u001b[38;5;250m 2\u001b[39m Albania     Europe    \u001b[38;5;246m<tibble [12 × 4]>\u001b[39m\n",
      "\u001b[38;5;250m 3\u001b[39m Algeria     Africa    \u001b[38;5;246m<tibble [12 × 4]>\u001b[39m\n",
      "\u001b[38;5;250m 4\u001b[39m Angola      Africa    \u001b[38;5;246m<tibble [12 × 4]>\u001b[39m\n",
      "\u001b[38;5;250m 5\u001b[39m Argentina   Americas  \u001b[38;5;246m<tibble [12 × 4]>\u001b[39m\n",
      "\u001b[38;5;250m 6\u001b[39m Australia   Oceania   \u001b[38;5;246m<tibble [12 × 4]>\u001b[39m\n",
      "\u001b[38;5;250m 7\u001b[39m Austria     Europe    \u001b[38;5;246m<tibble [12 × 4]>\u001b[39m\n",
      "\u001b[38;5;250m 8\u001b[39m Bahrain     Asia      \u001b[38;5;246m<tibble [12 × 4]>\u001b[39m\n",
      "\u001b[38;5;250m 9\u001b[39m Bangladesh  Asia      \u001b[38;5;246m<tibble [12 × 4]>\u001b[39m\n",
      "\u001b[38;5;250m10\u001b[39m Belgium     Europe    \u001b[38;5;246m<tibble [12 × 4]>\u001b[39m\n",
      "\u001b[38;5;246m# … with 132 more rows\u001b[39m\n"
     ]
    }
   ],
   "source": [
    "# create a nested data frame\n",
    "by_country <- gapminder %>% \n",
    "    group_by(continent, country) %>% \n",
    "    nest()\n",
    "print(by_country)"
   ]
  },
  {
   "cell_type": "markdown",
   "metadata": {},
   "source": [
    "(I’m cheating a little by grouping on both continent and country. Given country, continent is fixed, so this doesn’t add any more groups, but it’s an easy way to carry an extra variable along for the ride.)"
   ]
  },
  {
   "cell_type": "markdown",
   "metadata": {},
   "source": [
    "What is the `data` column here? "
   ]
  },
  {
   "cell_type": "code",
   "execution_count": 19,
   "metadata": {},
   "outputs": [
    {
     "data": {
      "text/html": [
       "'list'"
      ],
      "text/latex": [
       "'list'"
      ],
      "text/markdown": [
       "'list'"
      ],
      "text/plain": [
       "[1] \"list\""
      ]
     },
     "metadata": {},
     "output_type": "display_data"
    }
   ],
   "source": [
    "class(by_country$data)"
   ]
  },
  {
   "cell_type": "markdown",
   "metadata": {},
   "source": [
    "The `data` column is actually a list of data frames (or tibbles, to be precise). This seems like a crazy idea: we have a data frame with a column that is a list of other data frames! \n",
    "\n",
    "Let's look at what the first element of the `data` list column looks like:"
   ]
  },
  {
   "cell_type": "code",
   "execution_count": 20,
   "metadata": {},
   "outputs": [
    {
     "data": {
      "text/html": [
       "<table>\n",
       "<caption>A tibble: 12 × 4</caption>\n",
       "<thead>\n",
       "\t<tr><th scope=col>year</th><th scope=col>lifeExp</th><th scope=col>pop</th><th scope=col>gdpPercap</th></tr>\n",
       "\t<tr><th scope=col>&lt;int&gt;</th><th scope=col>&lt;dbl&gt;</th><th scope=col>&lt;int&gt;</th><th scope=col>&lt;dbl&gt;</th></tr>\n",
       "</thead>\n",
       "<tbody>\n",
       "\t<tr><td>1952</td><td>28.801</td><td> 8425333</td><td>779.4453</td></tr>\n",
       "\t<tr><td>1957</td><td>30.332</td><td> 9240934</td><td>820.8530</td></tr>\n",
       "\t<tr><td>1962</td><td>31.997</td><td>10267083</td><td>853.1007</td></tr>\n",
       "\t<tr><td>1967</td><td>34.020</td><td>11537966</td><td>836.1971</td></tr>\n",
       "\t<tr><td>1972</td><td>36.088</td><td>13079460</td><td>739.9811</td></tr>\n",
       "\t<tr><td>⋮</td><td>⋮</td><td>⋮</td><td>⋮</td></tr>\n",
       "\t<tr><td>1987</td><td>40.822</td><td>13867957</td><td>852.3959</td></tr>\n",
       "\t<tr><td>1992</td><td>41.674</td><td>16317921</td><td>649.3414</td></tr>\n",
       "\t<tr><td>1997</td><td>41.763</td><td>22227415</td><td>635.3414</td></tr>\n",
       "\t<tr><td>2002</td><td>42.129</td><td>25268405</td><td>726.7341</td></tr>\n",
       "\t<tr><td>2007</td><td>43.828</td><td>31889923</td><td>974.5803</td></tr>\n",
       "</tbody>\n",
       "</table>\n"
      ],
      "text/latex": [
       "A tibble: 12 × 4\n",
       "\\begin{tabular}{llll}\n",
       " year & lifeExp & pop & gdpPercap\\\\\n",
       " <int> & <dbl> & <int> & <dbl>\\\\\n",
       "\\hline\n",
       "\t 1952 & 28.801 &  8425333 & 779.4453\\\\\n",
       "\t 1957 & 30.332 &  9240934 & 820.8530\\\\\n",
       "\t 1962 & 31.997 & 10267083 & 853.1007\\\\\n",
       "\t 1967 & 34.020 & 11537966 & 836.1971\\\\\n",
       "\t 1972 & 36.088 & 13079460 & 739.9811\\\\\n",
       "\t ⋮ & ⋮ & ⋮ & ⋮\\\\\n",
       "\t 1987 & 40.822 & 13867957 & 852.3959\\\\\n",
       "\t 1992 & 41.674 & 16317921 & 649.3414\\\\\n",
       "\t 1997 & 41.763 & 22227415 & 635.3414\\\\\n",
       "\t 2002 & 42.129 & 25268405 & 726.7341\\\\\n",
       "\t 2007 & 43.828 & 31889923 & 974.5803\\\\\n",
       "\\end{tabular}\n"
      ],
      "text/markdown": [
       "\n",
       "A tibble: 12 × 4\n",
       "\n",
       "| year &lt;int&gt; | lifeExp &lt;dbl&gt; | pop &lt;int&gt; | gdpPercap &lt;dbl&gt; |\n",
       "|---|---|---|---|\n",
       "| 1952 | 28.801 |  8425333 | 779.4453 |\n",
       "| 1957 | 30.332 |  9240934 | 820.8530 |\n",
       "| 1962 | 31.997 | 10267083 | 853.1007 |\n",
       "| 1967 | 34.020 | 11537966 | 836.1971 |\n",
       "| 1972 | 36.088 | 13079460 | 739.9811 |\n",
       "| ⋮ | ⋮ | ⋮ | ⋮ |\n",
       "| 1987 | 40.822 | 13867957 | 852.3959 |\n",
       "| 1992 | 41.674 | 16317921 | 649.3414 |\n",
       "| 1997 | 41.763 | 22227415 | 635.3414 |\n",
       "| 2002 | 42.129 | 25268405 | 726.7341 |\n",
       "| 2007 | 43.828 | 31889923 | 974.5803 |\n",
       "\n"
      ],
      "text/plain": [
       "   year lifeExp pop      gdpPercap\n",
       "1  1952 28.801   8425333 779.4453 \n",
       "2  1957 30.332   9240934 820.8530 \n",
       "3  1962 31.997  10267083 853.1007 \n",
       "4  1967 34.020  11537966 836.1971 \n",
       "5  1972 36.088  13079460 739.9811 \n",
       "⋮  ⋮    ⋮       ⋮        ⋮        \n",
       "8  1987 40.822  13867957 852.3959 \n",
       "9  1992 41.674  16317921 649.3414 \n",
       "10 1997 41.763  22227415 635.3414 \n",
       "11 2002 42.129  25268405 726.7341 \n",
       "12 2007 43.828  31889923 974.5803 "
      ]
     },
     "metadata": {},
     "output_type": "display_data"
    }
   ],
   "source": [
    "# look at first element of the data list column\n",
    "by_country$data[[1]]"
   ]
  },
  {
   "cell_type": "markdown",
   "metadata": {},
   "source": [
    "Note the difference between a standard grouped data frame and a nested data frame: in a grouped data frame, each row is an observation; in a nested data frame, each row is a group. Another way to think about a nested dataset is we now have a meta-observation: a row that represents the complete time course for a country, rather than a single point in time."
   ]
  },
  {
   "cell_type": "markdown",
   "metadata": {},
   "source": [
    "#### List-columns in data frames versus tibbles\n",
    "\n",
    "List columns are possible in base R data frames, but making them isn't easy and you have to jump through some hoops.\n",
    "\n",
    "If we try to make a data frame with a single list column, `data.frame` treats the list as a list of columns...\n",
    "\n"
   ]
  },
  {
   "cell_type": "code",
   "execution_count": 21,
   "metadata": {},
   "outputs": [
    {
     "data": {
      "text/html": [
       "<table>\n",
       "<caption>A data.frame: 3 × 2</caption>\n",
       "<thead>\n",
       "\t<tr><th scope=col>x.c.1..2..3.</th><th scope=col>x.c.3..4..5.</th></tr>\n",
       "\t<tr><th scope=col>&lt;dbl&gt;</th><th scope=col>&lt;dbl&gt;</th></tr>\n",
       "</thead>\n",
       "<tbody>\n",
       "\t<tr><td>1</td><td>3</td></tr>\n",
       "\t<tr><td>2</td><td>4</td></tr>\n",
       "\t<tr><td>3</td><td>5</td></tr>\n",
       "</tbody>\n",
       "</table>\n"
      ],
      "text/latex": [
       "A data.frame: 3 × 2\n",
       "\\begin{tabular}{ll}\n",
       " x.c.1..2..3. & x.c.3..4..5.\\\\\n",
       " <dbl> & <dbl>\\\\\n",
       "\\hline\n",
       "\t 1 & 3\\\\\n",
       "\t 2 & 4\\\\\n",
       "\t 3 & 5\\\\\n",
       "\\end{tabular}\n"
      ],
      "text/markdown": [
       "\n",
       "A data.frame: 3 × 2\n",
       "\n",
       "| x.c.1..2..3. &lt;dbl&gt; | x.c.3..4..5. &lt;dbl&gt; |\n",
       "|---|---|\n",
       "| 1 | 3 |\n",
       "| 2 | 4 |\n",
       "| 3 | 5 |\n",
       "\n"
      ],
      "text/plain": [
       "  x.c.1..2..3. x.c.3..4..5.\n",
       "1 1            3           \n",
       "2 2            4           \n",
       "3 3            5           "
      ]
     },
     "metadata": {},
     "output_type": "display_data"
    }
   ],
   "source": [
    "# try to make a list column in a data frame\n",
    "data.frame(x = list(c(1, 2, 3), c(3, 4, 5)))"
   ]
  },
  {
   "cell_type": "markdown",
   "metadata": {},
   "source": [
    "To make the work, we need to use the `I` function (which changes the class of an object to indicate that it should be treated ‘as is’):"
   ]
  },
  {
   "cell_type": "code",
   "execution_count": 22,
   "metadata": {},
   "outputs": [
    {
     "data": {
      "text/html": [
       "<table>\n",
       "<caption>A data.frame: 2 × 1</caption>\n",
       "<thead>\n",
       "\t<tr><th scope=col>x</th></tr>\n",
       "\t<tr><th scope=col>&lt;I&lt;list&gt;&gt;</th></tr>\n",
       "</thead>\n",
       "<tbody>\n",
       "\t<tr><td>1, 2, 3</td></tr>\n",
       "\t<tr><td>3, 4, 5</td></tr>\n",
       "</tbody>\n",
       "</table>\n"
      ],
      "text/latex": [
       "A data.frame: 2 × 1\n",
       "\\begin{tabular}{l}\n",
       " x\\\\\n",
       " <I<list>>\\\\\n",
       "\\hline\n",
       "\t 1, 2, 3\\\\\n",
       "\t 3, 4, 5\\\\\n",
       "\\end{tabular}\n"
      ],
      "text/markdown": [
       "\n",
       "A data.frame: 2 × 1\n",
       "\n",
       "| x &lt;I&lt;list&gt;&gt; |\n",
       "|---|\n",
       "| 1, 2, 3 |\n",
       "| 3, 4, 5 |\n",
       "\n"
      ],
      "text/plain": [
       "  x      \n",
       "1 1, 2, 3\n",
       "2 3, 4, 5"
      ]
     },
     "metadata": {},
     "output_type": "display_data"
    }
   ],
   "source": [
    "# try to make a list column in a data frame by using I\n",
    "data.frame(x = I(list(c(1, 2, 3), c(3, 4, 5))))"
   ]
  },
  {
   "cell_type": "markdown",
   "metadata": {},
   "source": [
    "Tibble alleviates this problem by being lazier (`tibble` doesn’t modify its inputs) and by providing a better print method:"
   ]
  },
  {
   "cell_type": "code",
   "execution_count": 23,
   "metadata": {},
   "outputs": [
    {
     "data": {
      "text/html": [
       "<table>\n",
       "<caption>A tibble: 2 × 1</caption>\n",
       "<thead>\n",
       "\t<tr><th scope=col>x</th></tr>\n",
       "\t<tr><th scope=col>&lt;list&gt;</th></tr>\n",
       "</thead>\n",
       "<tbody>\n",
       "\t<tr><td>1, 2, 3</td></tr>\n",
       "\t<tr><td>3, 4, 5</td></tr>\n",
       "</tbody>\n",
       "</table>\n"
      ],
      "text/latex": [
       "A tibble: 2 × 1\n",
       "\\begin{tabular}{l}\n",
       " x\\\\\n",
       " <list>\\\\\n",
       "\\hline\n",
       "\t 1, 2, 3\\\\\n",
       "\t 3, 4, 5\\\\\n",
       "\\end{tabular}\n"
      ],
      "text/markdown": [
       "\n",
       "A tibble: 2 × 1\n",
       "\n",
       "| x &lt;list&gt; |\n",
       "|---|\n",
       "| 1, 2, 3 |\n",
       "| 3, 4, 5 |\n",
       "\n"
      ],
      "text/plain": [
       "  x      \n",
       "1 1, 2, 3\n",
       "2 3, 4, 5"
      ]
     },
     "metadata": {},
     "output_type": "display_data"
    }
   ],
   "source": [
    "# try to make a list column in a tibble\n",
    "tibble(x = list(c(1, 2, 3), c(3, 4, 5)))"
   ]
  },
  {
   "cell_type": "markdown",
   "metadata": {},
   "source": [
    "### List column workflow:\n",
    "\n",
    "1. Create a list column using a function such as `nest` (other possibilities are `summarise` + `list`, or `mutate` + a `map_*` function, as described in [Creating list-columns](https://r4ds.had.co.nz/many-models.html#creating-list-columns))\n",
    "\n",
    "2. Create other intermediate list-columns by transforming existing list columns with `map`, `map2` or `pmap`\n",
    "\n",
    "3. Simplify the list-column back down to a data frame or atomic vector, often by `unnest`, `mutate` + `map_*` functions that return atomic vectors as opposed to lists. "
   ]
  },
  {
   "cell_type": "markdown",
   "metadata": {},
   "source": [
    "We've talked about step 1, and what a list column is. Now let's explore how we can create other intermediate list-columns by transforming existing columns with `map`."
   ]
  },
  {
   "cell_type": "markdown",
   "metadata": {},
   "source": [
    "### Create other intermediate list-columns with `map`\n",
    "\n",
    "Remembering our example:"
   ]
  },
  {
   "cell_type": "code",
   "execution_count": 24,
   "metadata": {},
   "outputs": [],
   "source": [
    "gap_lifeExp_ci <- function(df, statistic) {\n",
    "  df %>% \n",
    "        specify(response = lifeExp) %>% \n",
    "        generate(reps = 1000, type = \"bootstrap\")  %>% \n",
    "        calculate(stat = statistic)  %>% \n",
    "        get_ci()\n",
    "}\n",
    "\n",
    "# create a nested gapminder tibble\n",
    "by_country <- gapminder %>% \n",
    "    group_by(continent, country) %>% \n",
    "    nest() "
   ]
  },
  {
   "cell_type": "code",
   "execution_count": 25,
   "metadata": {},
   "outputs": [
    {
     "name": "stdout",
     "output_type": "stream",
     "text": [
      "\u001b[38;5;246m# A tibble: 142 x 3\u001b[39m\n",
      "\u001b[38;5;246m# Groups:   country, continent [142]\u001b[39m\n",
      "   country     continent data             \n",
      "   \u001b[3m\u001b[38;5;246m<fct>\u001b[39m\u001b[23m       \u001b[3m\u001b[38;5;246m<fct>\u001b[39m\u001b[23m     \u001b[3m\u001b[38;5;246m<list>\u001b[39m\u001b[23m           \n",
      "\u001b[38;5;250m 1\u001b[39m Afghanistan Asia      \u001b[38;5;246m<tibble [12 × 4]>\u001b[39m\n",
      "\u001b[38;5;250m 2\u001b[39m Albania     Europe    \u001b[38;5;246m<tibble [12 × 4]>\u001b[39m\n",
      "\u001b[38;5;250m 3\u001b[39m Algeria     Africa    \u001b[38;5;246m<tibble [12 × 4]>\u001b[39m\n",
      "\u001b[38;5;250m 4\u001b[39m Angola      Africa    \u001b[38;5;246m<tibble [12 × 4]>\u001b[39m\n",
      "\u001b[38;5;250m 5\u001b[39m Argentina   Americas  \u001b[38;5;246m<tibble [12 × 4]>\u001b[39m\n",
      "\u001b[38;5;250m 6\u001b[39m Australia   Oceania   \u001b[38;5;246m<tibble [12 × 4]>\u001b[39m\n",
      "\u001b[38;5;250m 7\u001b[39m Austria     Europe    \u001b[38;5;246m<tibble [12 × 4]>\u001b[39m\n",
      "\u001b[38;5;250m 8\u001b[39m Bahrain     Asia      \u001b[38;5;246m<tibble [12 × 4]>\u001b[39m\n",
      "\u001b[38;5;250m 9\u001b[39m Bangladesh  Asia      \u001b[38;5;246m<tibble [12 × 4]>\u001b[39m\n",
      "\u001b[38;5;250m10\u001b[39m Belgium     Europe    \u001b[38;5;246m<tibble [12 × 4]>\u001b[39m\n",
      "\u001b[38;5;246m# … with 132 more rows\u001b[39m\n"
     ]
    }
   ],
   "source": [
    "print(by_country)"
   ]
  },
  {
   "cell_type": "markdown",
   "metadata": {},
   "source": [
    "We'd like to apply the mean function to get the mean life expectancy in a column:"
   ]
  },
  {
   "cell_type": "code",
   "execution_count": 33,
   "metadata": {},
   "outputs": [
    {
     "name": "stdout",
     "output_type": "stream",
     "text": [
      "\u001b[38;5;246m# A tibble: 142 x 4\u001b[39m\n",
      "\u001b[38;5;246m# Groups:   country, continent [142]\u001b[39m\n",
      "   country     continent data              mean_life_exp\n",
      "   \u001b[3m\u001b[38;5;246m<fct>\u001b[39m\u001b[23m       \u001b[3m\u001b[38;5;246m<fct>\u001b[39m\u001b[23m     \u001b[3m\u001b[38;5;246m<list>\u001b[39m\u001b[23m                    \u001b[3m\u001b[38;5;246m<dbl>\u001b[39m\u001b[23m\n",
      "\u001b[38;5;250m 1\u001b[39m Afghanistan Asia      \u001b[38;5;246m<tibble [12 × 4]>\u001b[39m          37.5\n",
      "\u001b[38;5;250m 2\u001b[39m Albania     Europe    \u001b[38;5;246m<tibble [12 × 4]>\u001b[39m          68.4\n",
      "\u001b[38;5;250m 3\u001b[39m Algeria     Africa    \u001b[38;5;246m<tibble [12 × 4]>\u001b[39m          59.0\n",
      "\u001b[38;5;250m 4\u001b[39m Angola      Africa    \u001b[38;5;246m<tibble [12 × 4]>\u001b[39m          37.9\n",
      "\u001b[38;5;250m 5\u001b[39m Argentina   Americas  \u001b[38;5;246m<tibble [12 × 4]>\u001b[39m          69.1\n",
      "\u001b[38;5;250m 6\u001b[39m Australia   Oceania   \u001b[38;5;246m<tibble [12 × 4]>\u001b[39m          74.7\n",
      "\u001b[38;5;250m 7\u001b[39m Austria     Europe    \u001b[38;5;246m<tibble [12 × 4]>\u001b[39m          73.1\n",
      "\u001b[38;5;250m 8\u001b[39m Bahrain     Asia      \u001b[38;5;246m<tibble [12 × 4]>\u001b[39m          65.6\n",
      "\u001b[38;5;250m 9\u001b[39m Bangladesh  Asia      \u001b[38;5;246m<tibble [12 × 4]>\u001b[39m          49.8\n",
      "\u001b[38;5;250m10\u001b[39m Belgium     Europe    \u001b[38;5;246m<tibble [12 × 4]>\u001b[39m          73.6\n",
      "\u001b[38;5;246m# … with 132 more rows\u001b[39m\n"
     ]
    }
   ],
   "source": [
    "by_country <- gapminder %>%\n",
    "    group_by(continent, country) %>%\n",
    "    nest() %>% \n",
    "    mutate(mean_life_exp = map_dbl(data, ~ mean(.$lifeExp)))  \n",
    "print(by_country)"
   ]
  },
  {
   "cell_type": "markdown",
   "metadata": {},
   "source": [
    "Now we'd like to apply the `gap_lifeExp_ci` function to each tibble in the `data` list column to obtain another list column containing the confidence interval tibbles. We can use `mutate` + `map` to do this:"
   ]
  },
  {
   "cell_type": "code",
   "execution_count": 34,
   "metadata": {},
   "outputs": [
    {
     "name": "stdout",
     "output_type": "stream",
     "text": [
      "\u001b[38;5;246m# A tibble: 142 x 5\u001b[39m\n",
      "\u001b[38;5;246m# Groups:   country, continent [142]\u001b[39m\n",
      "   country     continent data              mean_life_exp life_exp_ci     \n",
      "   \u001b[3m\u001b[38;5;246m<fct>\u001b[39m\u001b[23m       \u001b[3m\u001b[38;5;246m<fct>\u001b[39m\u001b[23m     \u001b[3m\u001b[38;5;246m<list>\u001b[39m\u001b[23m                    \u001b[3m\u001b[38;5;246m<dbl>\u001b[39m\u001b[23m \u001b[3m\u001b[38;5;246m<list>\u001b[39m\u001b[23m          \n",
      "\u001b[38;5;250m 1\u001b[39m Afghanistan Asia      \u001b[38;5;246m<tibble [12 × 4]>\u001b[39m          37.5 \u001b[38;5;246m<tibble [1 × 2]>\u001b[39m\n",
      "\u001b[38;5;250m 2\u001b[39m Albania     Europe    \u001b[38;5;246m<tibble [12 × 4]>\u001b[39m          68.4 \u001b[38;5;246m<tibble [1 × 2]>\u001b[39m\n",
      "\u001b[38;5;250m 3\u001b[39m Algeria     Africa    \u001b[38;5;246m<tibble [12 × 4]>\u001b[39m          59.0 \u001b[38;5;246m<tibble [1 × 2]>\u001b[39m\n",
      "\u001b[38;5;250m 4\u001b[39m Angola      Africa    \u001b[38;5;246m<tibble [12 × 4]>\u001b[39m          37.9 \u001b[38;5;246m<tibble [1 × 2]>\u001b[39m\n",
      "\u001b[38;5;250m 5\u001b[39m Argentina   Americas  \u001b[38;5;246m<tibble [12 × 4]>\u001b[39m          69.1 \u001b[38;5;246m<tibble [1 × 2]>\u001b[39m\n",
      "\u001b[38;5;250m 6\u001b[39m Australia   Oceania   \u001b[38;5;246m<tibble [12 × 4]>\u001b[39m          74.7 \u001b[38;5;246m<tibble [1 × 2]>\u001b[39m\n",
      "\u001b[38;5;250m 7\u001b[39m Austria     Europe    \u001b[38;5;246m<tibble [12 × 4]>\u001b[39m          73.1 \u001b[38;5;246m<tibble [1 × 2]>\u001b[39m\n",
      "\u001b[38;5;250m 8\u001b[39m Bahrain     Asia      \u001b[38;5;246m<tibble [12 × 4]>\u001b[39m          65.6 \u001b[38;5;246m<tibble [1 × 2]>\u001b[39m\n",
      "\u001b[38;5;250m 9\u001b[39m Bangladesh  Asia      \u001b[38;5;246m<tibble [12 × 4]>\u001b[39m          49.8 \u001b[38;5;246m<tibble [1 × 2]>\u001b[39m\n",
      "\u001b[38;5;250m10\u001b[39m Belgium     Europe    \u001b[38;5;246m<tibble [12 × 4]>\u001b[39m          73.6 \u001b[38;5;246m<tibble [1 × 2]>\u001b[39m\n",
      "\u001b[38;5;246m# … with 132 more rows\u001b[39m\n"
     ]
    }
   ],
   "source": [
    "gap_lifeExp_ci <- function(df, statistic) {\n",
    "  df %>% \n",
    "        specify(response = lifeExp) %>% \n",
    "        generate(reps = 1000, type = \"bootstrap\")  %>% \n",
    "        calculate(stat = statistic)  %>% \n",
    "        get_ci()\n",
    "}\n",
    "\n",
    "by_country <- gapminder %>%\n",
    "    group_by(continent, country) %>%\n",
    "    nest() %>% \n",
    "    mutate(mean_life_exp = map_dbl(data, ~mean(.$lifeExp)), \n",
    "    life_exp_ci = map(data, ~gap_lifeExp_ci(., \"mean\")))\n",
    "print(by_country)"
   ]
  },
  {
   "cell_type": "markdown",
   "metadata": {},
   "source": [
    "What does the new tibbles look like in the `life_exp_ci` column?"
   ]
  },
  {
   "cell_type": "code",
   "execution_count": 27,
   "metadata": {},
   "outputs": [
    {
     "data": {
      "text/html": [
       "<table>\n",
       "<caption>A tibble: 1 × 2</caption>\n",
       "<thead>\n",
       "\t<tr><th scope=col>2.5%</th><th scope=col>97.5%</th></tr>\n",
       "\t<tr><th scope=col>&lt;dbl&gt;</th><th scope=col>&lt;dbl&gt;</th></tr>\n",
       "</thead>\n",
       "<tbody>\n",
       "\t<tr><td>34.56136</td><td>40.2276</td></tr>\n",
       "</tbody>\n",
       "</table>\n"
      ],
      "text/latex": [
       "A tibble: 1 × 2\n",
       "\\begin{tabular}{ll}\n",
       " 2.5\\% & 97.5\\%\\\\\n",
       " <dbl> & <dbl>\\\\\n",
       "\\hline\n",
       "\t 34.56136 & 40.2276\\\\\n",
       "\\end{tabular}\n"
      ],
      "text/markdown": [
       "\n",
       "A tibble: 1 × 2\n",
       "\n",
       "| 2.5% &lt;dbl&gt; | 97.5% &lt;dbl&gt; |\n",
       "|---|---|\n",
       "| 34.56136 | 40.2276 |\n",
       "\n"
      ],
      "text/plain": [
       "  2.5%     97.5%  \n",
       "1 34.56136 40.2276"
      ]
     },
     "metadata": {},
     "output_type": "display_data"
    }
   ],
   "source": [
    "by_country$life_exp_ci[[1]]"
   ]
  },
  {
   "cell_type": "markdown",
   "metadata": {},
   "source": [
    "### Simplifying the list-column back down to a data frame or atomic vector\n",
    "\n",
    "After we create some other intermediate list-columns with `map`, we usually want to get some values back as regular atomic vector columns in our data frame, for visualization, further analysis, or reporting. \n",
    "\n",
    "We will first demonstrate how to do this using `unnest` in our example to covert the `life_exp_ci` list column to two columns, one for the lower bound of the confidence interval, and one for the upper bound of the confidence interval:"
   ]
  },
  {
   "cell_type": "code",
   "execution_count": 28,
   "metadata": {},
   "outputs": [
    {
     "name": "stdout",
     "output_type": "stream",
     "text": [
      "\u001b[38;5;246m# A tibble: 142 x 5\u001b[39m\n",
      "\u001b[38;5;246m# Groups:   country, continent [142]\u001b[39m\n",
      "   country     continent data              `2.5%` `97.5%`\n",
      "   \u001b[3m\u001b[38;5;246m<fct>\u001b[39m\u001b[23m       \u001b[3m\u001b[38;5;246m<fct>\u001b[39m\u001b[23m     \u001b[3m\u001b[38;5;246m<list>\u001b[39m\u001b[23m             \u001b[3m\u001b[38;5;246m<dbl>\u001b[39m\u001b[23m   \u001b[3m\u001b[38;5;246m<dbl>\u001b[39m\u001b[23m\n",
      "\u001b[38;5;250m 1\u001b[39m Afghanistan Asia      \u001b[38;5;246m<tibble [12 × 4]>\u001b[39m   34.6    40.2\n",
      "\u001b[38;5;250m 2\u001b[39m Albania     Europe    \u001b[38;5;246m<tibble [12 × 4]>\u001b[39m   65.1    71.7\n",
      "\u001b[38;5;250m 3\u001b[39m Algeria     Africa    \u001b[38;5;246m<tibble [12 × 4]>\u001b[39m   53.6    64.4\n",
      "\u001b[38;5;250m 4\u001b[39m Angola      Africa    \u001b[38;5;246m<tibble [12 × 4]>\u001b[39m   35.6    39.9\n",
      "\u001b[38;5;250m 5\u001b[39m Argentina   Americas  \u001b[38;5;246m<tibble [12 × 4]>\u001b[39m   66.6    71.2\n",
      "\u001b[38;5;250m 6\u001b[39m Australia   Oceania   \u001b[38;5;246m<tibble [12 × 4]>\u001b[39m   72.4    77.0\n",
      "\u001b[38;5;250m 7\u001b[39m Austria     Europe    \u001b[38;5;246m<tibble [12 × 4]>\u001b[39m   70.9    75.4\n",
      "\u001b[38;5;250m 8\u001b[39m Bahrain     Asia      \u001b[38;5;246m<tibble [12 × 4]>\u001b[39m   60.7    70.3\n",
      "\u001b[38;5;250m 9\u001b[39m Bangladesh  Asia      \u001b[38;5;246m<tibble [12 × 4]>\u001b[39m   45.2    54.9\n",
      "\u001b[38;5;250m10\u001b[39m Belgium     Europe    \u001b[38;5;246m<tibble [12 × 4]>\u001b[39m   71.6    75.6\n",
      "\u001b[38;5;246m# … with 132 more rows\u001b[39m\n"
     ]
    }
   ],
   "source": [
    "# unnest the ci column\n",
    "by_country %>% \n",
    "    unnest(life_exp_ci) %>% \n",
    "    print()"
   ]
  },
  {
   "cell_type": "markdown",
   "metadata": {},
   "source": [
    "### The whole shebang:\n",
    "\n",
    "1. Create a list column using a function such as `nest`\n",
    "\n",
    "2. Create other intermediate list-columns by transforming existing list columns with `map`\n",
    "\n",
    "3. Simplify the list-column back down to a data frame or atomic vector using `unnest` & `mutate` + `map_dbl`:"
   ]
  },
  {
   "cell_type": "code",
   "execution_count": 35,
   "metadata": {},
   "outputs": [
    {
     "name": "stdout",
     "output_type": "stream",
     "text": [
      "\u001b[38;5;246m# A tibble: 142 x 5\u001b[39m\n",
      "\u001b[38;5;246m# Groups:   country, continent [142]\u001b[39m\n",
      "   country     continent data              mean_life_exp life_exp_ci     \n",
      "   \u001b[3m\u001b[38;5;246m<fct>\u001b[39m\u001b[23m       \u001b[3m\u001b[38;5;246m<fct>\u001b[39m\u001b[23m     \u001b[3m\u001b[38;5;246m<list>\u001b[39m\u001b[23m                    \u001b[3m\u001b[38;5;246m<dbl>\u001b[39m\u001b[23m \u001b[3m\u001b[38;5;246m<list>\u001b[39m\u001b[23m          \n",
      "\u001b[38;5;250m 1\u001b[39m Afghanistan Asia      \u001b[38;5;246m<tibble [12 × 4]>\u001b[39m          37.5 \u001b[38;5;246m<tibble [1 × 2]>\u001b[39m\n",
      "\u001b[38;5;250m 2\u001b[39m Albania     Europe    \u001b[38;5;246m<tibble [12 × 4]>\u001b[39m          68.4 \u001b[38;5;246m<tibble [1 × 2]>\u001b[39m\n",
      "\u001b[38;5;250m 3\u001b[39m Algeria     Africa    \u001b[38;5;246m<tibble [12 × 4]>\u001b[39m          59.0 \u001b[38;5;246m<tibble [1 × 2]>\u001b[39m\n",
      "\u001b[38;5;250m 4\u001b[39m Angola      Africa    \u001b[38;5;246m<tibble [12 × 4]>\u001b[39m          37.9 \u001b[38;5;246m<tibble [1 × 2]>\u001b[39m\n",
      "\u001b[38;5;250m 5\u001b[39m Argentina   Americas  \u001b[38;5;246m<tibble [12 × 4]>\u001b[39m          69.1 \u001b[38;5;246m<tibble [1 × 2]>\u001b[39m\n",
      "\u001b[38;5;250m 6\u001b[39m Australia   Oceania   \u001b[38;5;246m<tibble [12 × 4]>\u001b[39m          74.7 \u001b[38;5;246m<tibble [1 × 2]>\u001b[39m\n",
      "\u001b[38;5;250m 7\u001b[39m Austria     Europe    \u001b[38;5;246m<tibble [12 × 4]>\u001b[39m          73.1 \u001b[38;5;246m<tibble [1 × 2]>\u001b[39m\n",
      "\u001b[38;5;250m 8\u001b[39m Bahrain     Asia      \u001b[38;5;246m<tibble [12 × 4]>\u001b[39m          65.6 \u001b[38;5;246m<tibble [1 × 2]>\u001b[39m\n",
      "\u001b[38;5;250m 9\u001b[39m Bangladesh  Asia      \u001b[38;5;246m<tibble [12 × 4]>\u001b[39m          49.8 \u001b[38;5;246m<tibble [1 × 2]>\u001b[39m\n",
      "\u001b[38;5;250m10\u001b[39m Belgium     Europe    \u001b[38;5;246m<tibble [12 × 4]>\u001b[39m          73.6 \u001b[38;5;246m<tibble [1 × 2]>\u001b[39m\n",
      "\u001b[38;5;246m# … with 132 more rows\u001b[39m\n"
     ]
    }
   ],
   "source": [
    "gap_lifeExp_ci <- function(df, statistic) {\n",
    "  df %>% \n",
    "        specify(response = lifeExp) %>% \n",
    "        generate(reps = 1000, type = \"bootstrap\")  %>% \n",
    "        calculate(stat = statistic)  %>% \n",
    "        get_ci()\n",
    "}\n",
    "\n",
    "by_country <- gapminder %>%\n",
    "    group_by(continent, country) %>%\n",
    "    nest() %>% \n",
    "    mutate(mean_life_exp = map_dbl(data, ~mean(.$lifeExp)), \n",
    "    life_exp_ci = map(data, ~gap_lifeExp_ci(., \"mean\")))\n",
    "print(by_country)"
   ]
  },
  {
   "cell_type": "markdown",
   "metadata": {},
   "source": [
    "## What did we learn:\n",
    "\n",
    "- how to write anonymous functions\n",
    "- how to use {purrr} `map_*` with anonymous functions to add extra arguments\n",
    "- what are nested data frames\n",
    "- how to use {tidyr}'s `nest` & `unnest` and {purrr} `map_*` functions to work with data frames to nest, modify and unnest data frames"
   ]
  },
  {
   "cell_type": "markdown",
   "metadata": {
    "slideshow": {
     "slide_type": "slide"
    }
   },
   "source": [
    "### Attribution\n",
    "\n",
    "- [Advanced R](https://adv-r.hadley.nz/) by Hadley Wickham\n",
    "- [Jenny Bryan's `purrr` tutorial](https://jennybc.github.io/purrr-tutorial/index.html)"
   ]
  }
 ],
 "metadata": {
  "celltoolbar": "Slideshow",
  "kernelspec": {
   "display_name": "R",
   "language": "R",
   "name": "ir"
  },
  "language_info": {
   "codemirror_mode": "r",
   "file_extension": ".r",
   "mimetype": "text/x-r-source",
   "name": "R",
   "pygments_lexer": "r",
   "version": "4.0.2"
  }
 },
 "nbformat": 4,
 "nbformat_minor": 4
}
