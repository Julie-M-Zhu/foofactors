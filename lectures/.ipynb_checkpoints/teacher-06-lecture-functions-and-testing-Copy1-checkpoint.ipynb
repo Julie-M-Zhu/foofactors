{
 "cells": [
  {
   "cell_type": "markdown",
   "metadata": {
    "slideshow": {
     "slide_type": "slide"
    }
   },
   "source": [
    "# Lecture 6: Functions and testing"
   ]
  },
  {
   "cell_type": "markdown",
   "metadata": {
    "slideshow": {
     "slide_type": "slide"
    }
   },
   "source": [
    "### Lecture learning objectives:\n",
    "\n",
    "By then end of this lecture & worksheet 6, students should be able to:\n",
    "\n",
    "* In R, define and use a named function that accepts parameters and returns values\n",
    "* Describe lazy evaluation and `...` (variable arguments) and how it affects functions in R\n",
    "* explain the importance of scoping and environments in R as they relate to functions\n",
    "* Use `testthat` to formulate a test case to prove a function design specification\n",
    "* Use test-driven development principles to define a function that accepts parameters, returns values and passes all tests\n",
    "* Handle errors gracefully via exception handling\n",
    "* Use `roxygen2` friendly function documentation to describe parameters, return values, description and example(s).\n",
    "* Write comments within a function to improve readability\n",
    "* Evaluate the readability, complexity and performance of a function\n",
    "* Source and use functions stored as R code in another file, as well as those in R packages/libraries\n",
    "* Describe what R packages/libraries are, as well as explain when and why they are useful"
   ]
  },
  {
   "cell_type": "code",
   "execution_count": null,
   "metadata": {
    "slideshow": {
     "slide_type": "slide"
    }
   },
   "outputs": [],
   "source": [
    "options(repr.matrix.max.rows = 10)"
   ]
  },
  {
   "cell_type": "markdown",
   "metadata": {
    "slideshow": {
     "slide_type": "slide"
    }
   },
   "source": [
    "## Functions\n",
    "\n",
    "### Defining functions in R:\n",
    "\n",
    "- Use `variable <- function(…arguments…) { …body… }` to create a function and give it a name\n",
    "\n",
    "Example:"
   ]
  },
  {
   "cell_type": "code",
   "execution_count": null,
   "metadata": {
    "slideshow": {
     "slide_type": "fragment"
    }
   },
   "outputs": [],
   "source": [
    "add <- function(x, y) {\n",
    "  x + y\n",
    "}\n",
    "\n",
    "add(5, 10)"
   ]
  },
  {
   "cell_type": "markdown",
   "metadata": {
    "slideshow": {
     "slide_type": "fragment"
    }
   },
   "source": [
    "- As in Python, functions in R are objects. This is referred to as “first-class functions”.\n",
    "- The last line of the function returns a value, to return a value early use the special word `return`"
   ]
  },
  {
   "cell_type": "code",
   "execution_count": null,
   "metadata": {
    "slideshow": {
     "slide_type": "slide"
    }
   },
   "outputs": [],
   "source": [
    "add <- function(x, y) {\n",
    "    x + y\n",
    "}"
   ]
  },
  {
   "cell_type": "markdown",
   "metadata": {
    "slideshow": {
     "slide_type": "fragment"
    }
   },
   "source": [
    "*Note: you probably want to throw an error here instead of return NA, this example was purely for illustrating early returns*"
   ]
  },
  {
   "cell_type": "markdown",
   "metadata": {
    "slideshow": {
     "slide_type": "slide"
    }
   },
   "source": [
    "### Default function arguments\n",
    "\n",
    "Same as in Python!"
   ]
  },
  {
   "cell_type": "code",
   "execution_count": null,
   "metadata": {
    "slideshow": {
     "slide_type": "fragment"
    }
   },
   "outputs": [],
   "source": []
  },
  {
   "cell_type": "markdown",
   "metadata": {
    "slideshow": {
     "slide_type": "slide"
    }
   },
   "source": [
    "#### Optional - Advanced\n",
    "\n",
    "##### Extra arguments via `...`\n",
    "\n",
    "If we want our function to be able to take extra arguments that we don't specify, we must explicitly convert `...` to a list:"
   ]
  },
  {
   "cell_type": "code",
   "execution_count": null,
   "metadata": {
    "slideshow": {
     "slide_type": "fragment"
    }
   },
   "outputs": [],
   "source": [
    "add <- function(x, y, ...) {\n",
    "    total = x + y\n",
    "    for (value in list(...)) {\n",
    "        total <- total + value\n",
    "    }\n",
    "    total\n",
    "    print(list(...))\n",
    "}\n",
    "add(1, 3, 5, 6)"
   ]
  },
  {
   "cell_type": "markdown",
   "metadata": {
    "slideshow": {
     "slide_type": "slide"
    }
   },
   "source": [
    "### Lexical scoping in R\n",
    "\n",
    "R’s lexical scoping follows several rules, we will cover the following 3:\n",
    "\n",
    "- Name masking\n",
    "- Dynamic lookup\n",
    "- A fresh start"
   ]
  },
  {
   "cell_type": "markdown",
   "metadata": {
    "slideshow": {
     "slide_type": "slide"
    }
   },
   "source": [
    "#### Name masking\n",
    "\n",
    "- Names defined inside a function mask names defined outside a function"
   ]
  },
  {
   "cell_type": "markdown",
   "metadata": {
    "slideshow": {
     "slide_type": "fragment"
    }
   },
   "source": [
    "- If a name isn’t defined inside a function, R looks one level up (and then all the way up into the global environment and even loaded packages!)"
   ]
  },
  {
   "cell_type": "markdown",
   "metadata": {
    "slideshow": {
     "slide_type": "slide"
    }
   },
   "source": [
    "Take a minute and talk through the following code outloud and predict the output, then let's confirm the result by running the code."
   ]
  },
  {
   "cell_type": "code",
   "execution_count": null,
   "metadata": {
    "slideshow": {
     "slide_type": "fragment"
    }
   },
   "outputs": [],
   "source": [
    "x <- 1\n",
    "g04 <- function() {\n",
    "  y <- 2\n",
    "  i <- function() {\n",
    "    z <- 3\n",
    "    c(x, y, z)\n",
    "  }\n",
    "  i()\n",
    "}\n",
    "g04()"
   ]
  },
  {
   "cell_type": "markdown",
   "metadata": {
    "slideshow": {
     "slide_type": "slide"
    }
   },
   "source": [
    "#### Dynamic lookup\n",
    "\n",
    "- R looks for values when the function is run, not when the function is created. \n",
    "- This means that the output of a function can differ depending on the objects outside the function’s environment."
   ]
  },
  {
   "cell_type": "markdown",
   "metadata": {
    "slideshow": {
     "slide_type": "slide"
    }
   },
   "source": [
    "Take a minute and talk through the following code outloud and predict the output, then let's confirm the result by running the code."
   ]
  },
  {
   "cell_type": "code",
   "execution_count": null,
   "metadata": {
    "slideshow": {
     "slide_type": "fragment"
    }
   },
   "outputs": [],
   "source": [
    "g12 <- function() x + 1\n",
    "x <- 15\n",
    "g12()\n",
    "\n",
    "x <- 20\n",
    "g12()"
   ]
  },
  {
   "cell_type": "markdown",
   "metadata": {
    "slideshow": {
     "slide_type": "slide"
    }
   },
   "source": [
    "#### A fresh start\n",
    "\n",
    "- Every time a function is called a new environment is created to host its execution.\n",
    "\n",
    "- This means that a function has no way to tell what happened the last time it was run; each invocation is completely independent."
   ]
  },
  {
   "cell_type": "markdown",
   "metadata": {
    "slideshow": {
     "slide_type": "slide"
    }
   },
   "source": [
    "Take a minute and talk through the following code outloud and predict the output, then let's confirm the result by running the code."
   ]
  },
  {
   "cell_type": "code",
   "execution_count": null,
   "metadata": {
    "slideshow": {
     "slide_type": "fragment"
    }
   },
   "outputs": [],
   "source": [
    "g11 <- function() {\n",
    "  if (!exists(\"a\")) {\n",
    "    a <- 1\n",
    "  } else {\n",
    "    a <- a + 1\n",
    "  }\n",
    "  a\n",
    "}\n",
    "\n",
    "g11()\n",
    "g11()\n",
    "g11()"
   ]
  },
  {
   "cell_type": "markdown",
   "metadata": {
    "slideshow": {
     "slide_type": "slide"
    }
   },
   "source": [
    "### Lazy evaluation\n",
    "\n",
    "In R, function arguments are lazily evaluated: they’re only evaluated if accessed.\n",
    "\n"
   ]
  },
  {
   "cell_type": "markdown",
   "metadata": {
    "slideshow": {
     "slide_type": "slide"
    }
   },
   "source": [
    "Knowing that, now consider the `add_one` function written in both R and Python below:\n",
    "\n",
    "```\n",
    "# R code (this would work)\n",
    "add_one <- function(x, y) {\n",
    "    x <- x + 1\n",
    "    return(x)\n",
    "} \n",
    "```\n",
    "\n",
    "```\n",
    "# Python code (this would not work)\n",
    "def add_one(x, y):\n",
    "    x = x + 1\n",
    "    return x\n",
    "```"
   ]
  },
  {
   "cell_type": "markdown",
   "metadata": {
    "slideshow": {
     "slide_type": "slide"
    }
   },
   "source": [
    "Why will the above `add_one` function will work in R, but the equivalent version of the function in python would break?\n",
    "\n",
    "- Python evaluates the function arguments before it evaluates the function and because it doesn't know what `y` is, it will break even though it is not used in the function.\n",
    "- R performs lazy evaluation, meaning it delays the evaluation of the function arguments until its value is needed within/inside the function. Since `y` is never referenced inside the function, R doesn't complain, or even notice it.\n"
   ]
  },
  {
   "cell_type": "markdown",
   "metadata": {
    "slideshow": {
     "slide_type": "slide"
    }
   },
   "source": [
    "#### The power of lazy evaluation\n",
    "\n",
    "Let's you have easy to use interactive code like this:"
   ]
  },
  {
   "cell_type": "code",
   "execution_count": null,
   "metadata": {
    "slideshow": {
     "slide_type": "fragment"
    }
   },
   "outputs": [],
   "source": [
    "dplyr::select(mtcars, mpg, cyl, hp, qsec)"
   ]
  },
  {
   "cell_type": "markdown",
   "metadata": {
    "slideshow": {
     "slide_type": "notes"
    }
   },
   "source": [
    "Notes: \n",
    "- There's more than just lazy evaluation happening in the code above, but lazy evaluation is part of it.\n",
    "- `package::function()` is a way to use a function from an R package without loading the entire library.\n"
   ]
  },
  {
   "cell_type": "markdown",
   "metadata": {
    "slideshow": {
     "slide_type": "slide"
    }
   },
   "source": [
    "## Writing tests with {testthat}\n",
    "\n",
    "- Industry standard tool for writing tests in R is the [{testthat} package](https://testthat.r-lib.org/).\n",
    "- To use an R package, we typically load the package into R using the `library` function:"
   ]
  },
  {
   "cell_type": "code",
   "execution_count": null,
   "metadata": {
    "slideshow": {
     "slide_type": "fragment"
    }
   },
   "outputs": [],
   "source": [
    "library(___________)"
   ]
  },
  {
   "cell_type": "markdown",
   "metadata": {
    "slideshow": {
     "slide_type": "slide"
    }
   },
   "source": [
    "### How to write a test with {testthat}\n",
    "\n",
    "```\n",
    "test_that(\"Message to print if test fails\", expect_*(...))\n",
    "```\n",
    "\n",
    "Often our `test_that` function calls are longer than 80 characters, so we use `{` to split the code across multiple lines, for example:"
   ]
  },
  {
   "cell_type": "code",
   "execution_count": null,
   "metadata": {
    "slideshow": {
     "slide_type": "fragment"
    }
   },
   "outputs": [],
   "source": [
    "x <- c(3.5, 3.5, 3.5)\n",
    "y <- c(3.5, 3.5, 3.5)\n"
   ]
  },
  {
   "cell_type": "markdown",
   "metadata": {
    "slideshow": {
     "slide_type": "fragment"
    }
   },
   "source": [
    "Are you starting to see a pattern with `{` yet..."
   ]
  },
  {
   "cell_type": "markdown",
   "metadata": {
    "slideshow": {
     "slide_type": "slide"
    }
   },
   "source": [
    "#### Common `expect_*` statements for use with `test_that`\n",
    "\n",
    "#### Is the object equal to a value? \n",
    "- `expect_identical` - test two objects for being exactly equal\n",
    "- `expect_equal` - compare R objects x and y testing ‘near equality’ (can set a tolerance)\n",
    "- `expect_equivalent` - compare R objects x and y testing ‘near equality’ (can set a tolerance) and does not assess attributes\n",
    "\n",
    "#### Does code produce an output/message/warning/error?\n",
    "- `expect_error` - tests if an expression throws an error\n",
    "- `expect_warning` - tests whether an expression outputs a warning\n",
    "- `expect_output` - tests that print output matches a specified value"
   ]
  },
  {
   "cell_type": "markdown",
   "metadata": {
    "slideshow": {
     "slide_type": "slide"
    }
   },
   "source": [
    "#### Is the object true/false?\n",
    "\n",
    "These are fall-back expectations that you can use when none of the other more specific expectations apply. The disadvantage is that you may get a less informative error message.\n",
    "\n",
    "- `expect_true` - tests if the object returns `TRUE`\n",
    "- `expect_false` - tests if the object returns `FALSE`"
   ]
  },
  {
   "cell_type": "markdown",
   "metadata": {
    "slideshow": {
     "slide_type": "slide"
    }
   },
   "source": [
    "#### Tolerance and tests: \n",
    "\n",
    "Below we add a tolerance arguement to the `expect_equal` statement such that the observed difference between these very similar vectors doesn't cause the test to fail. "
   ]
  },
  {
   "cell_type": "code",
   "execution_count": null,
   "metadata": {},
   "outputs": [],
   "source": [
    "x <- c(3.5, 3.5, 3.5)\n",
    "y <- c(3.5, 3.5, 3.49999)\n",
    "test_that(\"x and y should contain the same values\", {\n",
    "    expect_equal(x, y)\n",
    "})"
   ]
  },
  {
   "cell_type": "code",
   "execution_count": null,
   "metadata": {},
   "outputs": [],
   "source": [
    "x <- c(3.5, 3.5, 3.5)\n",
    "y <- c(3.5, 3.5, 3.49999)\n",
    "test_that(\"x and y should contain the same values\", {\n",
    "    expect_equal(x, y, __________)\n",
    "})"
   ]
  },
  {
   "cell_type": "markdown",
   "metadata": {
    "slideshow": {
     "slide_type": "slide"
    }
   },
   "source": [
    "#### Unit test example "
   ]
  },
  {
   "cell_type": "code",
   "execution_count": null,
   "metadata": {
    "slideshow": {
     "slide_type": "fragment"
    }
   },
   "outputs": [],
   "source": []
  },
  {
   "cell_type": "code",
   "execution_count": null,
   "metadata": {
    "slideshow": {
     "slide_type": "fragment"
    }
   },
   "outputs": [],
   "source": [
    "test_that(\"Temperature should be the same in Celcius and Fahrenheit at -40\", {\n",
    "        expect_______()\n",
    "    })\n",
    "test_that(\"Room temperature should be about 23 degrees in Celcius and 73 degrees Fahrenheit\", {\n",
    "        expect_______()\n",
    "    })"
   ]
  },
  {
   "cell_type": "markdown",
   "metadata": {
    "slideshow": {
     "slide_type": "slide"
    }
   },
   "source": [
    "### Test-driven development (TDD) review\n",
    "\n",
    "1. Write your tests first (that call the function you haven't yet written), based on edge cases you expect or can calculate by hand\n",
    "\n",
    "2. If necessary, create some \"helper\" data to test your function with (this might be done in conjunction with step 1)\n",
    "\n",
    "3. Write your function to make the tests pass (in this process you might think of more tests that you want to add)"
   ]
  },
  {
   "cell_type": "markdown",
   "metadata": {
    "slideshow": {
     "slide_type": "slide"
    }
   },
   "source": [
    "#### Toy example of how TDD can be helpful\n",
    "\n",
    "Let's create a function called `fahr_to_celsius` that converts temperatures from Fahrenheit to Celsius.\n",
    "\n",
    "First we'll write the tests (which will fail):\n"
   ]
  },
  {
   "cell_type": "code",
   "execution_count": null,
   "metadata": {
    "slideshow": {
     "slide_type": "fragment"
    }
   },
   "outputs": [],
   "source": [
    "test_fahr_to_celsius <- function() {\n",
    "    test_that(\"Temperature should be the same in Celcius and Fahrenheit at -40\", {\n",
    "        expect_______()\n",
    "    })\n",
    "    test_that(\"Room temperature should be about 73 degrees Fahrenheit and 23 degrees in Celcius\", {\n",
    "        expect_______()\n",
    "    })\n",
    "}"
   ]
  },
  {
   "cell_type": "markdown",
   "metadata": {
    "slideshow": {
     "slide_type": "slide"
    }
   },
   "source": [
    "Then we write our function to pass the tests:"
   ]
  },
  {
   "cell_type": "code",
   "execution_count": null,
   "metadata": {
    "slideshow": {
     "slide_type": "fragment"
    }
   },
   "outputs": [],
   "source": []
  },
  {
   "cell_type": "markdown",
   "metadata": {
    "slideshow": {
     "slide_type": "slide"
    }
   },
   "source": [
    "Then we call our tests to check it:"
   ]
  },
  {
   "cell_type": "code",
   "execution_count": null,
   "metadata": {
    "slideshow": {
     "slide_type": "fragment"
    }
   },
   "outputs": [],
   "source": []
  },
  {
   "cell_type": "markdown",
   "metadata": {
    "slideshow": {
     "slide_type": "slide"
    }
   },
   "source": [
    "We found an error - so we go back and edit our function:"
   ]
  },
  {
   "cell_type": "code",
   "execution_count": null,
   "metadata": {
    "slideshow": {
     "slide_type": "fragment"
    }
   },
   "outputs": [],
   "source": [
    "fahr_to_celsius <- function(temp) {\n",
    "    (temp + 32) * 5/9\n",
    "}"
   ]
  },
  {
   "cell_type": "markdown",
   "metadata": {
    "slideshow": {
     "slide_type": "slide"
    }
   },
   "source": [
    "And then call our tests again to see if we got it right!"
   ]
  },
  {
   "cell_type": "code",
   "execution_count": null,
   "metadata": {
    "slideshow": {
     "slide_type": "fragment"
    }
   },
   "outputs": [],
   "source": [
    "test_fahr_to_celsius()"
   ]
  },
  {
   "cell_type": "markdown",
   "metadata": {
    "slideshow": {
     "slide_type": "slide"
    }
   },
   "source": [
    "No message from the test, means we got it this time!\n",
    "\n",
    "<img src=\"https://media.giphy.com/media/EXFAJtutz5Ig8/giphy.gif\" >"
   ]
  },
  {
   "cell_type": "markdown",
   "metadata": {
    "slideshow": {
     "slide_type": "slide"
    }
   },
   "source": [
    "## Exception handling\n",
    "\n",
    "How to check type and throw an error if not the expected type:"
   ]
  },
  {
   "cell_type": "code",
   "execution_count": null,
   "metadata": {
    "slideshow": {
     "slide_type": "fragment"
    }
   },
   "outputs": [],
   "source": []
  },
  {
   "cell_type": "markdown",
   "metadata": {
    "slideshow": {
     "slide_type": "slide"
    }
   },
   "source": [
    "Example of defensive programming at the beginning of a function:"
   ]
  },
  {
   "cell_type": "code",
   "execution_count": null,
   "metadata": {
    "slideshow": {
     "slide_type": "fragment"
    }
   },
   "outputs": [],
   "source": [
    "fahr_to_celsius <- function(temp) {\n",
    "    (temp - 32) * 5/9\n",
    "}"
   ]
  },
  {
   "cell_type": "code",
   "execution_count": null,
   "metadata": {
    "slideshow": {
     "slide_type": "fragment"
    }
   },
   "outputs": [],
   "source": [
    "fahr_to_celsius(\"thirty\")"
   ]
  },
  {
   "cell_type": "markdown",
   "metadata": {
    "slideshow": {
     "slide_type": "slide"
    }
   },
   "source": [
    "If you wanted to issue a warning instead of an error, you could use `warning` in place of `stop` in the example above. However, in most cases it is better practice to throw an error than to print a warning..."
   ]
  },
  {
   "cell_type": "markdown",
   "metadata": {
    "slideshow": {
     "slide_type": "slide"
    }
   },
   "source": [
    "#### We can test our exceptions using test_that:"
   ]
  },
  {
   "cell_type": "code",
   "execution_count": null,
   "metadata": {
    "slideshow": {
     "slide_type": "fragment"
    }
   },
   "outputs": [],
   "source": [
    "test_that(\"Non-numeric values for temp should throw an error\", {\n",
    "    expect_______()\n",
    "    expect_______()\n",
    "    })"
   ]
  },
  {
   "cell_type": "markdown",
   "metadata": {
    "slideshow": {
     "slide_type": "slide"
    }
   },
   "source": [
    "#### `try` in R\n",
    "\n",
    "Similar to Python, R has a `try` function to attempt to run code, and continue running subsequent code even if code in the try block does not work:\n",
    "\n",
    "```\n",
    "try({\n",
    "    # some code\n",
    "    # that can be \n",
    "    # split across several\n",
    "    # lines\n",
    "})\n",
    "\n",
    "# code to continue even if error in code \n",
    "# in try code block above\n",
    "```"
   ]
  },
  {
   "cell_type": "markdown",
   "metadata": {
    "slideshow": {
     "slide_type": "slide"
    }
   },
   "source": [
    "This code normally results in an error that stops following code from running:"
   ]
  },
  {
   "cell_type": "code",
   "execution_count": null,
   "metadata": {
    "slideshow": {
     "slide_type": "fragment"
    }
   },
   "outputs": [],
   "source": [
    "x <- data.frame(col1 = c(1, 2, 3, 2, 1), \n",
    "                col2 = c(0, 1, 0, 0 , 1))\n",
    "x[3]\n",
    "dim(x)"
   ]
  },
  {
   "cell_type": "markdown",
   "metadata": {
    "slideshow": {
     "slide_type": "slide"
    }
   },
   "source": [
    "Try let's the code following the error run:"
   ]
  },
  {
   "cell_type": "code",
   "execution_count": null,
   "metadata": {
    "slideshow": {
     "slide_type": "fragment"
    }
   },
   "outputs": [],
   "source": [
    "x <- data.frame(col1 = c(1, 2, 3, 2, 1), \n",
    "                col2 = c(0, 1, 0, 0 , 1))\n",
    "x[3]\n",
    "dim(x)"
   ]
  },
  {
   "cell_type": "markdown",
   "metadata": {
    "slideshow": {
     "slide_type": "fragment"
    }
   },
   "source": [
    "Sensibly (IMHO) `try` has a default of `silent=FALSE`, which you can change if you find good reason too."
   ]
  },
  {
   "cell_type": "markdown",
   "metadata": {
    "slideshow": {
     "slide_type": "slide"
    }
   },
   "source": [
    "## {roxygen2} friendly function documentation "
   ]
  },
  {
   "cell_type": "markdown",
   "metadata": {
    "slideshow": {
     "slide_type": "fragment"
    }
   },
   "source": [
    "Why `roxygen2` documentation? If you document your functions like this, *when* you create an R package to share them they will be set up to have the fancy documentation that we get using `?function_name`."
   ]
  },
  {
   "cell_type": "markdown",
   "metadata": {
    "slideshow": {
     "slide_type": "slide"
    }
   },
   "source": [
    "#### RStudio has template for `roxygen2` documentation\n",
    "\n",
    "<img src=\"img/insert_roxygen.png\" width=500>"
   ]
  },
  {
   "cell_type": "code",
   "execution_count": null,
   "metadata": {
    "slideshow": {
     "slide_type": "slide"
    }
   },
   "outputs": [],
   "source": [
    "fahr_to_celsius <- function(temp) {\n",
    "    (temp - 32) * 5/9\n",
    "}"
   ]
  },
  {
   "cell_type": "markdown",
   "metadata": {
    "slideshow": {
     "slide_type": "slide"
    }
   },
   "source": [
    "## Reading in functions from an R script\n",
    "\n",
    "Usually the step before packaging your code, is having some functions in another script that you want to read into your analysis. We use the `source` function to do this:"
   ]
  },
  {
   "cell_type": "code",
   "execution_count": null,
   "metadata": {
    "slideshow": {
     "slide_type": "fragment"
    }
   },
   "outputs": [],
   "source": []
  },
  {
   "cell_type": "markdown",
   "metadata": {
    "slideshow": {
     "slide_type": "fragment"
    }
   },
   "source": [
    "Once you do this, you have access to all functions contained within that script:"
   ]
  },
  {
   "cell_type": "code",
   "execution_count": null,
   "metadata": {
    "slideshow": {
     "slide_type": "fragment"
    }
   },
   "outputs": [],
   "source": []
  },
  {
   "cell_type": "markdown",
   "metadata": {
    "slideshow": {
     "slide_type": "fragment"
    }
   },
   "source": [
    "*Note - this is how the `test_*` functions are brought into your Jupyter notebooks for the autograding part of your homework.*"
   ]
  },
  {
   "cell_type": "markdown",
   "metadata": {
    "slideshow": {
     "slide_type": "slide"
    }
   },
   "source": [
    "## Introduction to R packages\n",
    "\n",
    "- `source(\"script_with_functions.R\")` is useful, but when you start using these functions in different projects you need to keep copying the script, or having overly specific paths..."
   ]
  },
  {
   "cell_type": "markdown",
   "metadata": {
    "slideshow": {
     "slide_type": "fragment"
    }
   },
   "source": [
    "- The next step is packaging your R code so that it can be installed and then used across multiple projects on your (and others) machines without directly pointing to where the code is stored, but instead accessed using the `library` function."
   ]
  },
  {
   "cell_type": "markdown",
   "metadata": {
    "slideshow": {
     "slide_type": "fragment"
    }
   },
   "source": [
    "- You will learn how to do this in Collaborative Software Development (term 2), but for now, let's tour a simple R package to get a better understanding of what they are: https://github.com/ttimbers/convertemp"
   ]
  },
  {
   "cell_type": "markdown",
   "metadata": {
    "slideshow": {
     "slide_type": "slide"
    }
   },
   "source": [
    "### Install the convertemp R package:\n",
    "\n",
    "In RStudio, type: `devtools::install_github(\"ttimbers/convertemp\")`"
   ]
  },
  {
   "cell_type": "code",
   "execution_count": null,
   "metadata": {
    "slideshow": {
     "slide_type": "fragment"
    }
   },
   "outputs": [],
   "source": []
  },
  {
   "cell_type": "code",
   "execution_count": null,
   "metadata": {
    "slideshow": {
     "slide_type": "fragment"
    }
   },
   "outputs": [],
   "source": []
  },
  {
   "cell_type": "code",
   "execution_count": null,
   "metadata": {
    "slideshow": {
     "slide_type": "fragment"
    }
   },
   "outputs": [],
   "source": []
  },
  {
   "cell_type": "markdown",
   "metadata": {
    "slideshow": {
     "slide_type": "slide"
    }
   },
   "source": [
    "### What did we learn today?\n",
    "\n",
    "- How to write and test functions in R\n",
    " \n",
    "- How to handle exceptions\n",
    "\n",
    "- How to source functions from other files\n",
    "\n",
    "- A little bit about what R packages are\n"
   ]
  },
  {
   "cell_type": "markdown",
   "metadata": {
    "slideshow": {
     "slide_type": "slide"
    }
   },
   "source": [
    "## Attribution:\n",
    "- [Advanced R](https://adv-r.hadley.nz/) by Hadley Wickham\n",
    "- [The Tidynomicon](http://tidynomicon.tech/) by Greg Wilson"
   ]
  }
 ],
 "metadata": {
  "celltoolbar": "Slideshow",
  "kernelspec": {
   "display_name": "R",
   "language": "R",
   "name": "ir"
  },
  "language_info": {
   "codemirror_mode": "r",
   "file_extension": ".r",
   "mimetype": "text/x-r-source",
   "name": "R",
   "pygments_lexer": "r",
   "version": "4.0.2"
  }
 },
 "nbformat": 4,
 "nbformat_minor": 4
}
