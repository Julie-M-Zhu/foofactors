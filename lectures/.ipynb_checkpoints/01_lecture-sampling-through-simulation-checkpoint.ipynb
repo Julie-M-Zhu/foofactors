{
 "cells": [
  {
   "cell_type": "markdown",
   "metadata": {
    "slideshow": {
     "slide_type": "slide"
    }
   },
   "source": [
    "# Lecture 1 - Populations and Sampling"
   ]
  },
  {
   "cell_type": "markdown",
   "metadata": {
    "slideshow": {
     "slide_type": "slide"
    }
   },
   "source": [
    "## High-level goals of this course:"
   ]
  },
  {
   "cell_type": "markdown",
   "metadata": {
    "slideshow": {
     "slide_type": "fragment"
    }
   },
   "source": [
    "- Build a solid foundational understanding of statistical inference "
   ]
  },
  {
   "cell_type": "markdown",
   "metadata": {
    "slideshow": {
     "slide_type": "fragment"
    }
   },
   "source": [
    "- Become competent using R to perform computation for statistical inference"
   ]
  },
  {
   "cell_type": "markdown",
   "metadata": {
    "slideshow": {
     "slide_type": "slide"
    }
   },
   "source": [
    "#### What is statistical inference?"
   ]
  },
  {
   "cell_type": "markdown",
   "metadata": {
    "slideshow": {
     "slide_type": "fragment"
    }
   },
   "source": [
    "- Statistical inference is the process of using sample data to make conclusions about the underlying population the sample came from"
   ]
  },
  {
   "cell_type": "markdown",
   "metadata": {
    "slideshow": {
     "slide_type": "fragment"
    }
   },
   "source": [
    "- Types of inference: estimation and hypothesis testing"
   ]
  },
  {
   "cell_type": "markdown",
   "metadata": {},
   "source": [
    "## Landscape of statistical questions?\n",
    "\n",
    "```{figure} img/what_is_the_question.png\n",
    "---\n",
    "height: 600px\n",
    "name: what_is_the_question\n",
    "align: left\n",
    "---\n",
    "```\n",
    "\n",
    "*Source: [What is the question?](https://science.sciencemag.org/content/347/6228/1314.summary) by Roger Peng and Jeff Leek*"
   ]
  },
  {
   "cell_type": "markdown",
   "metadata": {},
   "source": [
    "#### 1. Descriptive\n",
    "\n",
    "One that seeks to summarize a characteristic of a set of data. No interpretation of the result itself as the result is a fact, an attribute of the data set you are working with.\n",
    "\n",
    "Examples:\n",
    "\n",
    "- What is the frequency of viral illnesses in a set of data collected from a group of individuals?\n",
    "\n",
    "- How many people live in each US state?"
   ]
  },
  {
   "cell_type": "markdown",
   "metadata": {},
   "source": [
    "#### 2. Exploratory\n",
    "\n",
    "One in which you analyze the data to see if there are patterns, trends, or relationships between variables looking for patterns that would support proposing a hypothesis to test in a future study.\n",
    "\n",
    "Examples:\n",
    "\n",
    "- Do diets rich in certain foods have differing frequencies of viral illnesses **in a set of data** collected from a group of individuals? \n",
    "\n",
    "- Does air pollution correlate with life expectancy **in a set of data** collected from groups of individuals from several regions in the United States?  "
   ]
  },
  {
   "cell_type": "markdown",
   "metadata": {},
   "source": [
    "#### 3. Inferential\n",
    "\n",
    "One in which you analyze the data to see if there are patterns, trends, or relationships between variables in a representative sample. We want to quantify how much the patterns, trends, or relationships between variables is applicable to all individuals units in the population.\n",
    "\n",
    "Examples:\n",
    "\n",
    "- Is eating at least 5 servings a day of fresh fruit and vegetables is associated with fewer viral illnesses per year?\n",
    "\n",
    "- Is the gestational length of first born babies the same as that of non-first borns?"
   ]
  },
  {
   "cell_type": "markdown",
   "metadata": {},
   "source": [
    "#### 4. Predictive\n",
    "\n",
    "One where you are trying to predict measurements or labels for individuals (people or things). Less interested in what causes the predicted outcome, just what predicts it.\n",
    "\n",
    "Examples: \n",
    "\n",
    "- How many viral illnesses will someone have next year?\n",
    "- What political party will someone vote for in the next US election?\n"
   ]
  },
  {
   "cell_type": "markdown",
   "metadata": {},
   "source": [
    "#### 5. Causal\n",
    "\n",
    "Asks about whether changing one factor will change another factor, on average, in a population. Sometimes the underlying design of the data collection, by default, allows for the question that you ask to be causal (e.g., randomized experiment or trial)\n",
    "\n",
    "Examples:\n",
    "\n",
    "- Does eating at least 5 servings a day of fresh fruit and vegetables cause fewer viral illnesses per year?\n",
    "\n",
    "- Does smoking lead to cancer?\n"
   ]
  },
  {
   "cell_type": "markdown",
   "metadata": {},
   "source": [
    "#### 6. Mechanistic\n",
    "\n",
    "One that tries to explain the underlying mechanism of the observed patterns, trends, or relationship (how does it happen?)\n",
    "\n",
    "Examples:\n",
    "\n",
    "- How do changes in diet lead to a reduction in the number of viral illnesses?\n",
    "- How does how airplane wing design changes air flow over a wing, leading to decreased drag?\n"
   ]
  },
  {
   "cell_type": "markdown",
   "metadata": {},
   "source": [
    "#### Types of statistical questions\n",
    "(and where you will meet them in MDS)\n",
    "\n",
    "\n",
    "1. Descriptive (DSCI 523, 531)\n",
    "\n",
    "\n",
    "2. Exploratory (DSCI 531, 532, 563)\n",
    "\n",
    "\n",
    "3. **Inferential** (**DSCI 552**, 561, 562, 553, 574)\n",
    "\n",
    "\n",
    "4. Predictive (DSCI 571, 572, 574, 575)\n",
    "\n",
    "\n",
    "5. Causal (DSCI 554)\n",
    "\n",
    "\n",
    "6. Mechanistic (not in MDS)"
   ]
  },
  {
   "cell_type": "markdown",
   "metadata": {
    "slideshow": {
     "slide_type": "slide"
    }
   },
   "source": [
    "## Things we can do with inference"
   ]
  },
  {
   "cell_type": "markdown",
   "metadata": {
    "slideshow": {
     "slide_type": "slide"
    }
   },
   "source": [
    "#### Make a statement such as this:\n",
    "\n",
    "Based on a the results of the latest poll, we estimate that 47.2% of Americans think that firearms should have strong regulations or restrictions when thinking about gun ownership rights and gun laws.\n",
    "\n",
    "source: http://polling.reuters.com/#!response/PV20/type/smallest/dates/20180505-20181002/collapsed/true"
   ]
  },
  {
   "cell_type": "markdown",
   "metadata": {
    "slideshow": {
     "slide_type": "fragment"
    }
   },
   "source": [
    "##### This is estimation!"
   ]
  },
  {
   "cell_type": "markdown",
   "metadata": {
    "slideshow": {
     "slide_type": "slide"
    }
   },
   "source": [
    "#### Answer a marketing question such as this:\n",
    "\n",
    "What proportion of undergraduate students have an iphone?\n",
    "\n",
    "<img img align=\"left\" src=\"https://media.wired.com/photos/5b22c5c4b878a15e9ce80d92/master/w_582,c_limit/iphonex-TA.jpg\" width=\"500\"/>"
   ]
  },
  {
   "cell_type": "markdown",
   "metadata": {
    "slideshow": {
     "slide_type": "notes"
    }
   },
   "source": [
    "*Source: https://media.wired.com/photos/5b22c5c4b878a15e9ce80d92/master/w_582,c_limit/iphonex-TA.jpg*"
   ]
  },
  {
   "cell_type": "markdown",
   "metadata": {
    "slideshow": {
     "slide_type": "fragment"
    }
   },
   "source": [
    "##### This can be answered with estimation!"
   ]
  },
  {
   "cell_type": "markdown",
   "metadata": {
    "slideshow": {
     "slide_type": "slide"
    }
   },
   "source": [
    "#### or a health question such as this:\n",
    "\n",
    "Are first babies more likely to be late?\n",
    "\n",
    "\n",
    "```{figure} img/baby.png\n",
    "---\n",
    "height: 500px\n",
    "name: baby\n",
    "align: left\n",
    "---\n",
    "```"
   ]
  },
  {
   "cell_type": "markdown",
   "metadata": {
    "slideshow": {
     "slide_type": "notes"
    }
   },
   "source": [
    "*Source: https://depositphotos.com/*"
   ]
  },
  {
   "cell_type": "markdown",
   "metadata": {
    "slideshow": {
     "slide_type": "fragment"
    }
   },
   "source": [
    "##### This can be answered with a hypothesis test!"
   ]
  },
  {
   "cell_type": "markdown",
   "metadata": {
    "slideshow": {
     "slide_type": "slide"
    }
   },
   "source": [
    "#### or a A/B testing question such as this:\n",
    "\n",
    "Which of the 2 website designs will lead to more customer engagement (measured by click-through-rate, for example)?\n",
    "\n",
    "<img img align=\"left\" src=\"https://images.ctfassets.net/zw48pl1isxmc/4QYN7VubAAgEAGs0EuWguw/165749ef2fa01c1c004b6a167fd27835/ab-testing.png\" width=\"600\"/>"
   ]
  },
  {
   "cell_type": "markdown",
   "metadata": {
    "slideshow": {
     "slide_type": "notes"
    }
   },
   "source": [
    "*Source: https://images.ctfassets.net/zw48pl1isxmc/4QYN7VubAAgEAGs0EuWguw/165749ef2fa01c1c004b6a167fd27835/ab-testing.png*"
   ]
  },
  {
   "cell_type": "markdown",
   "metadata": {
    "slideshow": {
     "slide_type": "fragment"
    }
   },
   "source": [
    "##### This can be answered with a hypothesis test!"
   ]
  },
  {
   "cell_type": "markdown",
   "metadata": {},
   "source": [
    "**_All these examples have a level of uncertainty associated to estimation or hypothesis testing, which is also taken into account._**"
   ]
  },
  {
   "cell_type": "markdown",
   "metadata": {
    "slideshow": {
     "slide_type": "slide"
    }
   },
   "source": [
    "## Lecture learning goals:\n",
    "\n",
    "By the end of this lecture and worksheet, students will be able to:\n",
    "1.\tDescribe real-world examples of questions that can be answered with the statistical inference methods presented in this course (e.g., estimation, hypothesis testing).\n",
    "1.\tName common population parameters (mean, proportion, median, variance, standard deviation, and correlation) that are often estimated using sample data, and write computer scripts to calculate estimates of these parameters.\n",
    "1.\tDefine the following terms in relation to statistical inference: population, sample, population parameters, estimate, sampling distribution.\n",
    "1.\tWrite a computer script to draw random samples from a finite population (e.g., census data) and reveal a sampling distribution from a finite population.\n",
    "1.\tExplain random and representative sampling and how this can influence estimation.\n",
    "1.\tDefine random variables and explain how they relate to sampling.\n",
    "1.  Define standard error and explain its purpose.\n",
    "1.\tCompare and contrast population distribution, sample distribution and an estimator's sampling distribution.\n",
    "1.\tExplain what a sampling distribution is, list its properties, and its purpose in statistical inference."
   ]
  },
  {
   "cell_type": "markdown",
   "metadata": {
    "slideshow": {
     "slide_type": "slide"
    }
   },
   "source": [
    "## Estimation\n",
    "\n",
    "What is estimation? And how do we do it?\n"
   ]
  },
  {
   "cell_type": "markdown",
   "metadata": {
    "slideshow": {
     "slide_type": "slide"
    }
   },
   "source": [
    "#### Marketing example revisited\n",
    "\n",
    "**A more formal question:** What is the **population** proportion, $p$, of **all** undergraduate students which have an iphone?"
   ]
  },
  {
   "cell_type": "markdown",
   "metadata": {
    "slideshow": {
     "slide_type": "fragment"
    }
   },
   "source": [
    "How could we answer this question? Take a moment and try to answer this."
   ]
  },
  {
   "cell_type": "markdown",
   "metadata": {
    "slideshow": {
     "slide_type": "slide"
    }
   },
   "source": [
    "```{figure} img/sampling.001.jpeg\n",
    "---\n",
    "height: 600px\n",
    "name: sampling.001\n",
    "align: left\n",
    "---\n",
    "```"
   ]
  },
  {
   "cell_type": "markdown",
   "metadata": {
    "slideshow": {
     "slide_type": "slide"
    }
   },
   "source": [
    "What if we randomly selected a subset and then asked them if they have an iphone? We could then calculate a proportion, $\\hat{p}$, that we could use as an **estimate** of the true population proportion, $p$, which is the parameter we are interested in? Could this work? \n",
    "\n",
    "\n",
    "```{figure} img/sampling.002.jpeg\n",
    "---\n",
    "height: 600px\n",
    "name: sampling.002\n",
    "align: left\n",
    "---\n",
    "```"
   ]
  },
  {
   "cell_type": "markdown",
   "metadata": {
    "slideshow": {
     "slide_type": "fragment"
    }
   },
   "source": [
    "Let's experiment and see how well sample estimates reflect the true population parameter, $p$, we are interested in knowing!"
   ]
  },
  {
   "cell_type": "markdown",
   "metadata": {
    "slideshow": {
     "slide_type": "slide"
    }
   },
   "source": [
    "## Virtual sampling simulation\n",
    "\n",
    "- Let's create a virtual box of [timbits](http://company.timhortons.com/ca/en/menu/timbits.php#!) (which are a staple baked good in Canada) that we call our population. Our population contains two flavours of timbits: chocolate and old fashioned. \n",
    "\n",
    "- We are interested in the proportion of chocolate timbits in our popoulation, $p_{chocolate}$ (we will pretend we don't know it, and it takes too much effort to count all of the chocolate timbits up).\n",
    "\n",
    "- Let's each use R to:\n",
    "    - collect a random sample of 40 timbits, \n",
    "    - calculate an estimate of the proportion of chocolate timbits, we denote it as $\\hat{p}_{chocolate}$"
   ]
  },
  {
   "cell_type": "markdown",
   "metadata": {},
   "source": [
    "<img src=\"https://cdn.insidetimmies.com/wp-content/uploads/2014/05/tibits.jpg\" width=\"300\"/>\n"
   ]
  },
  {
   "cell_type": "markdown",
   "metadata": {
    "slideshow": {
     "slide_type": "notes"
    }
   },
   "source": [
    "*Source: https://insidetimmies.com/2014/05/20/tim-hortons-has-sold-400000-km-of-timbits-since-its-introduction-in-1976/*"
   ]
  },
  {
   "cell_type": "markdown",
   "metadata": {},
   "source": [
    "### A note on notation - estimates and parameters\n",
    "\n",
    "A Greek symbol/letter **with a hat** (\"^\") is an **estimate**, meaning it was derived from a sample drawn from the population, for example:\n",
    "\n",
    "- $\\hat{p}$ is an estimate - it is the sample proportion\n",
    "- $\\hat{\\mu}$ is an estimate - it is the sample mean\n",
    "\n",
    "\n",
    "A Greek symbol/letter **without** a hat is an **parameter**, meaning it is that true value(s) for that feature of the population, for example:\n",
    "\n",
    "- $p$ is a parameter - it is the population proportion\n",
    "- $\\mu$ is a parameter - it is the population mean\n",
    "\n",
    "> In our timbit example we will explore next, our parameter of interest is the proportion of chocolate timbits. To make this clear we will write $p_{chocolate}$ when referring to this. Similarly, we will refer to $\\hat{p}_{chocolate}$ when referring to the corresponding estimate (proportion of chocolate timbits in the sample)."
   ]
  },
  {
   "cell_type": "markdown",
   "metadata": {},
   "source": [
    "### A note on notation - random variables\n",
    "\n",
    "**Definition**: Mapping outcomes of a random process (e.g., flipping a coin, rolling a dice, pullling a timbit out of the box...) to numbers. \n",
    "\n",
    "Denoted by upper case letters, e.g., $X$, $Y$, etc.\n",
    "\n",
    "Your random variables should map onto your columns in a data frame when doing statistical analysis (think back to our discussion of tidy data last block).\n",
    "\n",
    "> In our timbit example we will explore next, our population only has two flavours of timbits: chocolate and old fashioned. Let’s define a binary random variable $X$ that takes on the value of $1$ when the flavour is chocolate and $0$ when is old fashioned. To make this more succinct and clear, we will write the $i$th random variable as $X_{{chocolate}\\_i}$.\n",
    "\n"
   ]
  },
  {
   "cell_type": "markdown",
   "metadata": {
    "slideshow": {
     "slide_type": "slide"
    }
   },
   "source": [
    "### Create a virtual box of timbits (population)\n",
    "\n",
    "Let's \"create\" a population of 10000 timbits where the proportion of chocolate timbits is 0.63 and the proportion of old fashioned timbits is 0.37.\n",
    "\n",
    "**IMPORTANT - set your seed to 1234 so that we all create the same population!**"
   ]
  },
  {
   "cell_type": "markdown",
   "metadata": {
    "slideshow": {
     "slide_type": "slide"
    }
   },
   "source": [
    "As always, load the libraries we'll be using:"
   ]
  },
  {
   "cell_type": "code",
   "execution_count": 1,
   "metadata": {
    "scrolled": true,
    "slideshow": {
     "slide_type": "fragment"
    }
   },
   "outputs": [
    {
     "name": "stderr",
     "output_type": "stream",
     "text": [
      "── \u001b[1mAttaching packages\u001b[22m ─────────────────────────────────────── tidyverse 1.3.0 ──\n",
      "\n",
      "\u001b[32m✔\u001b[39m \u001b[34mggplot2\u001b[39m 3.3.2          \u001b[32m✔\u001b[39m \u001b[34mpurrr  \u001b[39m 0.3.4     \n",
      "\u001b[32m✔\u001b[39m \u001b[34mtibble \u001b[39m 3.0.3          \u001b[32m✔\u001b[39m \u001b[34mdplyr  \u001b[39m 1.0.2     \n",
      "\u001b[32m✔\u001b[39m \u001b[34mtidyr  \u001b[39m 1.1.2          \u001b[32m✔\u001b[39m \u001b[34mstringr\u001b[39m 1.4.0     \n",
      "\u001b[32m✔\u001b[39m \u001b[34mreadr  \u001b[39m 1.3.1.\u001b[31m9000\u001b[39m     \u001b[32m✔\u001b[39m \u001b[34mforcats\u001b[39m 0.5.0     \n",
      "\n",
      "── \u001b[1mConflicts\u001b[22m ────────────────────────────────────────── tidyverse_conflicts() ──\n",
      "\u001b[31m✖\u001b[39m \u001b[34mdplyr\u001b[39m::\u001b[32mfilter()\u001b[39m masks \u001b[34mstats\u001b[39m::filter()\n",
      "\u001b[31m✖\u001b[39m \u001b[34mdplyr\u001b[39m::\u001b[32mlag()\u001b[39m    masks \u001b[34mstats\u001b[39m::lag()\n",
      "\n"
     ]
    }
   ],
   "source": [
    "# load libraries for wrangling and plotting\n",
    "library(tidyverse)\n",
    "library(infer)\n",
    "options(repr.matrix.max.rows = 10)"
   ]
  },
  {
   "cell_type": "markdown",
   "metadata": {
    "slideshow": {
     "slide_type": "slide"
    }
   },
   "source": [
    "Create the virtual box of timbits where the ${p}_{chocolate}$ = 0.63"
   ]
  },
  {
   "cell_type": "code",
   "execution_count": 2,
   "metadata": {
    "slideshow": {
     "slide_type": "fragment"
    }
   },
   "outputs": [
    {
     "data": {
      "text/html": [
       "<table>\n",
       "<caption>A tibble: 6 × 2</caption>\n",
       "<thead>\n",
       "\t<tr><th scope=col>timbit_id</th><th scope=col>color</th></tr>\n",
       "\t<tr><th scope=col>&lt;dbl&gt;</th><th scope=col>&lt;fct&gt;</th></tr>\n",
       "</thead>\n",
       "<tbody>\n",
       "\t<tr><td>1</td><td>chocolate    </td></tr>\n",
       "\t<tr><td>2</td><td>chocolate    </td></tr>\n",
       "\t<tr><td>3</td><td>chocolate    </td></tr>\n",
       "\t<tr><td>4</td><td>chocolate    </td></tr>\n",
       "\t<tr><td>5</td><td>old fashioned</td></tr>\n",
       "\t<tr><td>6</td><td>old fashioned</td></tr>\n",
       "</tbody>\n",
       "</table>\n"
      ],
      "text/latex": [
       "A tibble: 6 × 2\n",
       "\\begin{tabular}{ll}\n",
       " timbit\\_id & color\\\\\n",
       " <dbl> & <fct>\\\\\n",
       "\\hline\n",
       "\t 1 & chocolate    \\\\\n",
       "\t 2 & chocolate    \\\\\n",
       "\t 3 & chocolate    \\\\\n",
       "\t 4 & chocolate    \\\\\n",
       "\t 5 & old fashioned\\\\\n",
       "\t 6 & old fashioned\\\\\n",
       "\\end{tabular}\n"
      ],
      "text/markdown": [
       "\n",
       "A tibble: 6 × 2\n",
       "\n",
       "| timbit_id &lt;dbl&gt; | color &lt;fct&gt; |\n",
       "|---|---|\n",
       "| 1 | chocolate     |\n",
       "| 2 | chocolate     |\n",
       "| 3 | chocolate     |\n",
       "| 4 | chocolate     |\n",
       "| 5 | old fashioned |\n",
       "| 6 | old fashioned |\n",
       "\n"
      ],
      "text/plain": [
       "  timbit_id color        \n",
       "1 1         chocolate    \n",
       "2 2         chocolate    \n",
       "3 3         chocolate    \n",
       "4 4         chocolate    \n",
       "5 5         old fashioned\n",
       "6 6         old fashioned"
      ]
     },
     "metadata": {},
     "output_type": "display_data"
    }
   ],
   "source": [
    "set.seed(1234)\n",
    "virtual_box <- tibble(timbit_id = seq(from = 1, to = 10000, by = 1),\n",
    "                      color = factor(rbinom(10000, 1, 0.63), \n",
    "                                     labels = c(\"old fashioned\", \"chocolate\")))\n",
    "head(virtual_box)"
   ]
  },
  {
   "cell_type": "markdown",
   "metadata": {
    "slideshow": {
     "slide_type": "notes"
    }
   },
   "source": [
    "- Here we use `rbinom` to \"create\" the population of 10000 timbits where the proportion of chocolate is 0.63 and the proportion of old fashioned is 0.37."
   ]
  },
  {
   "cell_type": "markdown",
   "metadata": {
    "slideshow": {
     "slide_type": "notes"
    }
   },
   "source": [
    "- We also use `seq` to create a column called `timbit_id` that holds the value from 1 to 10000."
   ]
  },
  {
   "cell_type": "markdown",
   "metadata": {
    "slideshow": {
     "slide_type": "notes"
    }
   },
   "source": [
    "- We use `tibble` to make keep these two columns together as a data frame (tibble is a special type of data frame that you will learn more about in the Data Wrangling course)."
   ]
  },
  {
   "cell_type": "markdown",
   "metadata": {
    "slideshow": {
     "slide_type": "slide"
    }
   },
   "source": [
    "Sanity check that the virtual box contains ~ 63% chocolate timbits:"
   ]
  },
  {
   "cell_type": "code",
   "execution_count": 3,
   "metadata": {
    "slideshow": {
     "slide_type": "fragment"
    }
   },
   "outputs": [
    {
     "name": "stderr",
     "output_type": "stream",
     "text": [
      "`summarise()` ungrouping output (override with `.groups` argument)\n",
      "\n"
     ]
    },
    {
     "data": {
      "text/html": [
       "<table>\n",
       "<caption>A tibble: 2 × 2</caption>\n",
       "<thead>\n",
       "\t<tr><th scope=col>color</th><th scope=col>n</th></tr>\n",
       "\t<tr><th scope=col>&lt;fct&gt;</th><th scope=col>&lt;int&gt;</th></tr>\n",
       "</thead>\n",
       "<tbody>\n",
       "\t<tr><td>old fashioned</td><td>3705</td></tr>\n",
       "\t<tr><td>chocolate    </td><td>6295</td></tr>\n",
       "</tbody>\n",
       "</table>\n"
      ],
      "text/latex": [
       "A tibble: 2 × 2\n",
       "\\begin{tabular}{ll}\n",
       " color & n\\\\\n",
       " <fct> & <int>\\\\\n",
       "\\hline\n",
       "\t old fashioned & 3705\\\\\n",
       "\t chocolate     & 6295\\\\\n",
       "\\end{tabular}\n"
      ],
      "text/markdown": [
       "\n",
       "A tibble: 2 × 2\n",
       "\n",
       "| color &lt;fct&gt; | n &lt;int&gt; |\n",
       "|---|---|\n",
       "| old fashioned | 3705 |\n",
       "| chocolate     | 6295 |\n",
       "\n"
      ],
      "text/plain": [
       "  color         n   \n",
       "1 old fashioned 3705\n",
       "2 chocolate     6295"
      ]
     },
     "metadata": {},
     "output_type": "display_data"
    }
   ],
   "source": [
    "virtual_box %>% \n",
    "    group_by(color) %>% \n",
    "    summarize(n = n())"
   ]
  },
  {
   "cell_type": "markdown",
   "metadata": {
    "slideshow": {
     "slide_type": "slide"
    }
   },
   "source": [
    "### Drawing a single sample of size 40\n",
    "\n",
    "Let's simulate taking one random sample from our virtual timbits box. We will use the `rep_sample_n` function from the `infer` package:"
   ]
  },
  {
   "cell_type": "code",
   "execution_count": 4,
   "metadata": {
    "slideshow": {
     "slide_type": "fragment"
    }
   },
   "outputs": [
    {
     "data": {
      "text/html": [
       "<table>\n",
       "<caption>A grouped_df: 40 × 3</caption>\n",
       "<thead>\n",
       "\t<tr><th scope=col>replicate</th><th scope=col>timbit_id</th><th scope=col>color</th></tr>\n",
       "\t<tr><th scope=col>&lt;int&gt;</th><th scope=col>&lt;dbl&gt;</th><th scope=col>&lt;fct&gt;</th></tr>\n",
       "</thead>\n",
       "<tbody>\n",
       "\t<tr><td>1</td><td>9628</td><td>old fashioned</td></tr>\n",
       "\t<tr><td>1</td><td>9452</td><td>old fashioned</td></tr>\n",
       "\t<tr><td>1</td><td>7767</td><td>old fashioned</td></tr>\n",
       "\t<tr><td>1</td><td>8920</td><td>old fashioned</td></tr>\n",
       "\t<tr><td>1</td><td>4417</td><td>chocolate    </td></tr>\n",
       "\t<tr><td>⋮</td><td>⋮</td><td>⋮</td></tr>\n",
       "\t<tr><td>1</td><td>3661</td><td>old fashioned</td></tr>\n",
       "\t<tr><td>1</td><td>7427</td><td>chocolate    </td></tr>\n",
       "\t<tr><td>1</td><td>7453</td><td>chocolate    </td></tr>\n",
       "\t<tr><td>1</td><td>5037</td><td>chocolate    </td></tr>\n",
       "\t<tr><td>1</td><td>9899</td><td>old fashioned</td></tr>\n",
       "</tbody>\n",
       "</table>\n"
      ],
      "text/latex": [
       "A grouped\\_df: 40 × 3\n",
       "\\begin{tabular}{lll}\n",
       " replicate & timbit\\_id & color\\\\\n",
       " <int> & <dbl> & <fct>\\\\\n",
       "\\hline\n",
       "\t 1 & 9628 & old fashioned\\\\\n",
       "\t 1 & 9452 & old fashioned\\\\\n",
       "\t 1 & 7767 & old fashioned\\\\\n",
       "\t 1 & 8920 & old fashioned\\\\\n",
       "\t 1 & 4417 & chocolate    \\\\\n",
       "\t ⋮ & ⋮ & ⋮\\\\\n",
       "\t 1 & 3661 & old fashioned\\\\\n",
       "\t 1 & 7427 & chocolate    \\\\\n",
       "\t 1 & 7453 & chocolate    \\\\\n",
       "\t 1 & 5037 & chocolate    \\\\\n",
       "\t 1 & 9899 & old fashioned\\\\\n",
       "\\end{tabular}\n"
      ],
      "text/markdown": [
       "\n",
       "A grouped_df: 40 × 3\n",
       "\n",
       "| replicate &lt;int&gt; | timbit_id &lt;dbl&gt; | color &lt;fct&gt; |\n",
       "|---|---|---|\n",
       "| 1 | 9628 | old fashioned |\n",
       "| 1 | 9452 | old fashioned |\n",
       "| 1 | 7767 | old fashioned |\n",
       "| 1 | 8920 | old fashioned |\n",
       "| 1 | 4417 | chocolate     |\n",
       "| ⋮ | ⋮ | ⋮ |\n",
       "| 1 | 3661 | old fashioned |\n",
       "| 1 | 7427 | chocolate     |\n",
       "| 1 | 7453 | chocolate     |\n",
       "| 1 | 5037 | chocolate     |\n",
       "| 1 | 9899 | old fashioned |\n",
       "\n"
      ],
      "text/plain": [
       "   replicate timbit_id color        \n",
       "1  1         9628      old fashioned\n",
       "2  1         9452      old fashioned\n",
       "3  1         7767      old fashioned\n",
       "4  1         8920      old fashioned\n",
       "5  1         4417      chocolate    \n",
       "⋮  ⋮         ⋮         ⋮            \n",
       "36 1         3661      old fashioned\n",
       "37 1         7427      chocolate    \n",
       "38 1         7453      chocolate    \n",
       "39 1         5037      chocolate    \n",
       "40 1         9899      old fashioned"
      ]
     },
     "metadata": {},
     "output_type": "display_data"
    }
   ],
   "source": [
    "set.seed(2020) # so that we each draw the same sample\n",
    "samples_1 <- rep_sample_n(virtual_box, size = 40)\n",
    "samples_1"
   ]
  },
  {
   "cell_type": "markdown",
   "metadata": {
    "slideshow": {
     "slide_type": "fragment"
    }
   },
   "source": [
    "We can tell by the `timbit_id` column that R indeed did what we asked - randomly selected 40 timbits from our virtual box."
   ]
  },
  {
   "cell_type": "markdown",
   "metadata": {
    "slideshow": {
     "slide_type": "slide"
    }
   },
   "source": [
    "### What is the proportion of chocolate in our single sample?"
   ]
  },
  {
   "cell_type": "markdown",
   "metadata": {},
   "source": [
    "Equation for $\\hat{p}_{chocolate}$:\n",
    "\n",
    "A way of viewing our previous random sample is that we collected $40$ random variables from the population as in $X_{{chocolate}_1}, X_{{chocolate}_2}, \\dots, X_{{chocolate}_{39}}, X_{{chocolate}_{40}}$. Then, our estimate of the proportion population of chocolate timbits, $p{chocolate}$, is defined as: $$\\hat{p}_{chocolate} = \\frac{X_{{chocolate}_1} + X_{{chocolate}_2} + \\ldots + X_{{chocolate}_{39}} + X_{{chocolate}_{40}}}{n}$$\n",
    "\n",
    "Where:\n",
    "\n",
    "- $\\hat{p}_{chocolate}$ is the proportion of chocolate timbits in our sample.\n",
    "- $X_{{chocolate}_1}, X_{{chocolate}_2}, \\dots, X_{{chocolate}_{39}}, X_{{chocolate}_{40}}$ are the binary random variables that take on the value of $1$ if the flavour is chocolate and $0$ otherwise. Hence, their respective sum will indicate how many chocolate timbits we have in our sample.\n",
    "- $n$ is the number of timbits (of either flavour) in our sample."
   ]
  },
  {
   "cell_type": "code",
   "execution_count": 5,
   "metadata": {
    "slideshow": {
     "slide_type": "fragment"
    }
   },
   "outputs": [
    {
     "name": "stderr",
     "output_type": "stream",
     "text": [
      "`summarise()` ungrouping output (override with `.groups` argument)\n",
      "\n"
     ]
    },
    {
     "data": {
      "text/html": [
       "<table>\n",
       "<caption>A tibble: 1 × 3</caption>\n",
       "<thead>\n",
       "\t<tr><th scope=col>replicate</th><th scope=col>n</th><th scope=col>prop</th></tr>\n",
       "\t<tr><th scope=col>&lt;int&gt;</th><th scope=col>&lt;int&gt;</th><th scope=col>&lt;dbl&gt;</th></tr>\n",
       "</thead>\n",
       "<tbody>\n",
       "\t<tr><td>1</td><td>23</td><td>0.575</td></tr>\n",
       "</tbody>\n",
       "</table>\n"
      ],
      "text/latex": [
       "A tibble: 1 × 3\n",
       "\\begin{tabular}{lll}\n",
       " replicate & n & prop\\\\\n",
       " <int> & <int> & <dbl>\\\\\n",
       "\\hline\n",
       "\t 1 & 23 & 0.575\\\\\n",
       "\\end{tabular}\n"
      ],
      "text/markdown": [
       "\n",
       "A tibble: 1 × 3\n",
       "\n",
       "| replicate &lt;int&gt; | n &lt;int&gt; | prop &lt;dbl&gt; |\n",
       "|---|---|---|\n",
       "| 1 | 23 | 0.575 |\n",
       "\n"
      ],
      "text/plain": [
       "  replicate n  prop \n",
       "1 1         23 0.575"
      ]
     },
     "metadata": {},
     "output_type": "display_data"
    }
   ],
   "source": [
    "choc_sample <- summarize(samples_1, n = sum(color == \"chocolate\"),\n",
    "                                        prop = sum(color == \"chocolate\") / 40)\n",
    "choc_sample"
   ]
  },
  {
   "cell_type": "markdown",
   "metadata": {},
   "source": [
    "## Sampling distributions"
   ]
  },
  {
   "cell_type": "markdown",
   "metadata": {},
   "source": [
    "Would we get the same $\\hat{p}_{chocolate}$ again if we drew another sample of 40 timbits? Let's try!"
   ]
  },
  {
   "cell_type": "code",
   "execution_count": 6,
   "metadata": {},
   "outputs": [
    {
     "name": "stderr",
     "output_type": "stream",
     "text": [
      "`summarise()` ungrouping output (override with `.groups` argument)\n",
      "\n"
     ]
    },
    {
     "data": {
      "text/html": [
       "<table>\n",
       "<caption>A tibble: 1 × 3</caption>\n",
       "<thead>\n",
       "\t<tr><th scope=col>replicate</th><th scope=col>n</th><th scope=col>prop</th></tr>\n",
       "\t<tr><th scope=col>&lt;int&gt;</th><th scope=col>&lt;int&gt;</th><th scope=col>&lt;dbl&gt;</th></tr>\n",
       "</thead>\n",
       "<tbody>\n",
       "\t<tr><td>1</td><td>26</td><td>0.65</td></tr>\n",
       "</tbody>\n",
       "</table>\n"
      ],
      "text/latex": [
       "A tibble: 1 × 3\n",
       "\\begin{tabular}{lll}\n",
       " replicate & n & prop\\\\\n",
       " <int> & <int> & <dbl>\\\\\n",
       "\\hline\n",
       "\t 1 & 26 & 0.65\\\\\n",
       "\\end{tabular}\n"
      ],
      "text/markdown": [
       "\n",
       "A tibble: 1 × 3\n",
       "\n",
       "| replicate &lt;int&gt; | n &lt;int&gt; | prop &lt;dbl&gt; |\n",
       "|---|---|---|\n",
       "| 1 | 26 | 0.65 |\n",
       "\n"
      ],
      "text/plain": [
       "  replicate n  prop\n",
       "1 1         26 0.65"
      ]
     },
     "metadata": {},
     "output_type": "display_data"
    }
   ],
   "source": [
    "set.seed(2021) # to draw a different sample from last time\n",
    "rep_sample_n(virtual_box, size = 40) %>% \n",
    "    summarize(n = sum(color == \"chocolate\"),\n",
    "              prop = sum(color == \"chocolate\") / 40)"
   ]
  },
  {
   "cell_type": "markdown",
   "metadata": {},
   "source": [
    "No! Our second **estimate** of $\\hat{p}_{chocolate}$ was different! This is due to **sampling variation** that occurs when taking a random sample.\n",
    "\n",
    "Which of the two estimates is correct, 0.525 or 0.65? Well both are! But what this tells us that reporting just a single number for an estimate is not enough!!\n",
    "\n",
    "What we'd like to also report along with the estimate from our sample, is some plausible range our estimate should fall in (i.e., the range we would expect almost any estimate from our population to fall in. "
   ]
  },
  {
   "cell_type": "markdown",
   "metadata": {},
   "source": [
    "How can we create such a range? Well such a range depends on two things:\n",
    "\n",
    "- the distribution of the observations in your population, and\n",
    "- how big of a sample you took.\n",
    "\n",
    "We can get a proxy of the first from our sample (the sample distribution is really an estimate of the population distribution), and we know our sample size! Let's use simulation to learn how these things change the estimates we derive from sampling the population. \n",
    "\n",
    "To do this, we will construct and visualize a distribution of many estimates, calculated from many samples from our population. This special distribution it called a **sampling distribution** of our estimate. \n",
    "\n"
   ]
  },
  {
   "cell_type": "markdown",
   "metadata": {},
   "source": [
    "> We can do this for any estimator. Here we will continute to work with a proportion, but in the worksheets and lab you will also work with the mean. Other estimators, such as the median, variance, correlation, etc, also have sampling distributions. "
   ]
  },
  {
   "cell_type": "markdown",
   "metadata": {
    "slideshow": {
     "slide_type": "slide"
    }
   },
   "source": [
    "### Drawing 10000 samples of size 40\n",
    "\n",
    "Let's take 10000 random samples and then look at the distribution of the proportions of chocolate timbits of these samples (or the sampling distribution of the sample proportions) for samples of size 40."
   ]
  },
  {
   "cell_type": "markdown",
   "metadata": {
    "slideshow": {
     "slide_type": "slide"
    }
   },
   "source": [
    "To do this, first we use `rep_sample_n` as previously, but we add the `reps` argument. We end up with 10000 different replicates:"
   ]
  },
  {
   "cell_type": "code",
   "execution_count": 7,
   "metadata": {
    "slideshow": {
     "slide_type": "fragment"
    }
   },
   "outputs": [
    {
     "data": {
      "text/html": [
       "<table>\n",
       "<caption>A grouped_df: 400000 × 3</caption>\n",
       "<thead>\n",
       "\t<tr><th scope=col>replicate</th><th scope=col>timbit_id</th><th scope=col>color</th></tr>\n",
       "\t<tr><th scope=col>&lt;int&gt;</th><th scope=col>&lt;dbl&gt;</th><th scope=col>&lt;fct&gt;</th></tr>\n",
       "</thead>\n",
       "<tbody>\n",
       "\t<tr><td>1</td><td>4838</td><td>old fashioned</td></tr>\n",
       "\t<tr><td>1</td><td>9573</td><td>chocolate    </td></tr>\n",
       "\t<tr><td>1</td><td>6292</td><td>chocolate    </td></tr>\n",
       "\t<tr><td>1</td><td>7620</td><td>old fashioned</td></tr>\n",
       "\t<tr><td>1</td><td>5086</td><td>old fashioned</td></tr>\n",
       "\t<tr><td>⋮</td><td>⋮</td><td>⋮</td></tr>\n",
       "\t<tr><td>10000</td><td>4226</td><td>chocolate    </td></tr>\n",
       "\t<tr><td>10000</td><td>3598</td><td>old fashioned</td></tr>\n",
       "\t<tr><td>10000</td><td>1114</td><td>old fashioned</td></tr>\n",
       "\t<tr><td>10000</td><td>6649</td><td>chocolate    </td></tr>\n",
       "\t<tr><td>10000</td><td>8846</td><td>chocolate    </td></tr>\n",
       "</tbody>\n",
       "</table>\n"
      ],
      "text/latex": [
       "A grouped\\_df: 400000 × 3\n",
       "\\begin{tabular}{lll}\n",
       " replicate & timbit\\_id & color\\\\\n",
       " <int> & <dbl> & <fct>\\\\\n",
       "\\hline\n",
       "\t 1 & 4838 & old fashioned\\\\\n",
       "\t 1 & 9573 & chocolate    \\\\\n",
       "\t 1 & 6292 & chocolate    \\\\\n",
       "\t 1 & 7620 & old fashioned\\\\\n",
       "\t 1 & 5086 & old fashioned\\\\\n",
       "\t ⋮ & ⋮ & ⋮\\\\\n",
       "\t 10000 & 4226 & chocolate    \\\\\n",
       "\t 10000 & 3598 & old fashioned\\\\\n",
       "\t 10000 & 1114 & old fashioned\\\\\n",
       "\t 10000 & 6649 & chocolate    \\\\\n",
       "\t 10000 & 8846 & chocolate    \\\\\n",
       "\\end{tabular}\n"
      ],
      "text/markdown": [
       "\n",
       "A grouped_df: 400000 × 3\n",
       "\n",
       "| replicate &lt;int&gt; | timbit_id &lt;dbl&gt; | color &lt;fct&gt; |\n",
       "|---|---|---|\n",
       "| 1 | 4838 | old fashioned |\n",
       "| 1 | 9573 | chocolate     |\n",
       "| 1 | 6292 | chocolate     |\n",
       "| 1 | 7620 | old fashioned |\n",
       "| 1 | 5086 | old fashioned |\n",
       "| ⋮ | ⋮ | ⋮ |\n",
       "| 10000 | 4226 | chocolate     |\n",
       "| 10000 | 3598 | old fashioned |\n",
       "| 10000 | 1114 | old fashioned |\n",
       "| 10000 | 6649 | chocolate     |\n",
       "| 10000 | 8846 | chocolate     |\n",
       "\n"
      ],
      "text/plain": [
       "       replicate timbit_id color        \n",
       "1      1         4838      old fashioned\n",
       "2      1         9573      chocolate    \n",
       "3      1         6292      chocolate    \n",
       "4      1         7620      old fashioned\n",
       "5      1         5086      old fashioned\n",
       "⋮      ⋮         ⋮         ⋮            \n",
       "399996 10000     4226      chocolate    \n",
       "399997 10000     3598      old fashioned\n",
       "399998 10000     1114      old fashioned\n",
       "399999 10000     6649      chocolate    \n",
       "400000 10000     8846      chocolate    "
      ]
     },
     "metadata": {},
     "output_type": "display_data"
    }
   ],
   "source": [
    "samples_10000 <- rep_sample_n(virtual_box, size = 40, reps = 10000)\n",
    "samples_10000"
   ]
  },
  {
   "cell_type": "markdown",
   "metadata": {
    "slideshow": {
     "slide_type": "notes"
    }
   },
   "source": [
    "This gives us 10000 random samples of size 40 from the population (`virtual_box`). You can explore the `replicate` column and the `timbit_id` column to prove that to yourself."
   ]
  },
  {
   "cell_type": "markdown",
   "metadata": {
    "slideshow": {
     "slide_type": "slide"
    }
   },
   "source": [
    "### What is the proportion of chocolate in our 10000 samples?"
   ]
  },
  {
   "cell_type": "markdown",
   "metadata": {
    "slideshow": {
     "slide_type": "slide"
    }
   },
   "source": [
    "First we create a `group_by` attribute for the `replicate` column our data frame. This is so we can apply the `summarise` function to each replicate to count the total number of chocolate timbits for each sample and calculate the proportion:"
   ]
  },
  {
   "cell_type": "code",
   "execution_count": 8,
   "metadata": {
    "slideshow": {
     "slide_type": "fragment"
    }
   },
   "outputs": [
    {
     "name": "stderr",
     "output_type": "stream",
     "text": [
      "`summarise()` ungrouping output (override with `.groups` argument)\n",
      "\n"
     ]
    },
    {
     "data": {
      "text/html": [
       "<table>\n",
       "<caption>A tibble: 10000 × 3</caption>\n",
       "<thead>\n",
       "\t<tr><th scope=col>replicate</th><th scope=col>n</th><th scope=col>prop</th></tr>\n",
       "\t<tr><th scope=col>&lt;int&gt;</th><th scope=col>&lt;int&gt;</th><th scope=col>&lt;dbl&gt;</th></tr>\n",
       "</thead>\n",
       "<tbody>\n",
       "\t<tr><td>1</td><td>27</td><td>0.675</td></tr>\n",
       "\t<tr><td>2</td><td>28</td><td>0.700</td></tr>\n",
       "\t<tr><td>3</td><td>23</td><td>0.575</td></tr>\n",
       "\t<tr><td>4</td><td>23</td><td>0.575</td></tr>\n",
       "\t<tr><td>5</td><td>26</td><td>0.650</td></tr>\n",
       "\t<tr><td>⋮</td><td>⋮</td><td>⋮</td></tr>\n",
       "\t<tr><td> 9996</td><td>26</td><td>0.650</td></tr>\n",
       "\t<tr><td> 9997</td><td>23</td><td>0.575</td></tr>\n",
       "\t<tr><td> 9998</td><td>30</td><td>0.750</td></tr>\n",
       "\t<tr><td> 9999</td><td>26</td><td>0.650</td></tr>\n",
       "\t<tr><td>10000</td><td>22</td><td>0.550</td></tr>\n",
       "</tbody>\n",
       "</table>\n"
      ],
      "text/latex": [
       "A tibble: 10000 × 3\n",
       "\\begin{tabular}{lll}\n",
       " replicate & n & prop\\\\\n",
       " <int> & <int> & <dbl>\\\\\n",
       "\\hline\n",
       "\t 1 & 27 & 0.675\\\\\n",
       "\t 2 & 28 & 0.700\\\\\n",
       "\t 3 & 23 & 0.575\\\\\n",
       "\t 4 & 23 & 0.575\\\\\n",
       "\t 5 & 26 & 0.650\\\\\n",
       "\t ⋮ & ⋮ & ⋮\\\\\n",
       "\t  9996 & 26 & 0.650\\\\\n",
       "\t  9997 & 23 & 0.575\\\\\n",
       "\t  9998 & 30 & 0.750\\\\\n",
       "\t  9999 & 26 & 0.650\\\\\n",
       "\t 10000 & 22 & 0.550\\\\\n",
       "\\end{tabular}\n"
      ],
      "text/markdown": [
       "\n",
       "A tibble: 10000 × 3\n",
       "\n",
       "| replicate &lt;int&gt; | n &lt;int&gt; | prop &lt;dbl&gt; |\n",
       "|---|---|---|\n",
       "| 1 | 27 | 0.675 |\n",
       "| 2 | 28 | 0.700 |\n",
       "| 3 | 23 | 0.575 |\n",
       "| 4 | 23 | 0.575 |\n",
       "| 5 | 26 | 0.650 |\n",
       "| ⋮ | ⋮ | ⋮ |\n",
       "|  9996 | 26 | 0.650 |\n",
       "|  9997 | 23 | 0.575 |\n",
       "|  9998 | 30 | 0.750 |\n",
       "|  9999 | 26 | 0.650 |\n",
       "| 10000 | 22 | 0.550 |\n",
       "\n"
      ],
      "text/plain": [
       "      replicate n  prop \n",
       "1     1         27 0.675\n",
       "2     2         28 0.700\n",
       "3     3         23 0.575\n",
       "4     4         23 0.575\n",
       "5     5         26 0.650\n",
       "⋮     ⋮         ⋮  ⋮    \n",
       "9996   9996     26 0.650\n",
       "9997   9997     23 0.575\n",
       "9998   9998     30 0.750\n",
       "9999   9999     26 0.650\n",
       "10000 10000     22 0.550"
      ]
     },
     "metadata": {},
     "output_type": "display_data"
    }
   ],
   "source": [
    "set.seed(2020) # so that we could reproduce our replicates\n",
    "sampling_dist <- samples_10000 %>% \n",
    "    group_by(replicate) %>% \n",
    "    summarise(n = sum(color == \"chocolate\"),\n",
    "              prop = sum(color == \"chocolate\") / 40)\n",
    "sampling_dist"
   ]
  },
  {
   "cell_type": "markdown",
   "metadata": {
    "slideshow": {
     "slide_type": "slide"
    }
   },
   "source": [
    "### Plot the distribution of sample proportions"
   ]
  },
  {
   "cell_type": "markdown",
   "metadata": {
    "slideshow": {
     "slide_type": "slide"
    }
   },
   "source": [
    "Set up plot size in Jupyter:"
   ]
  },
  {
   "cell_type": "code",
   "execution_count": 9,
   "metadata": {
    "slideshow": {
     "slide_type": "fragment"
    }
   },
   "outputs": [],
   "source": [
    "#set-up plot width and height\n",
    "options(repr.plot.width = 6, repr.plot.height = 5)"
   ]
  },
  {
   "cell_type": "markdown",
   "metadata": {
    "slideshow": {
     "slide_type": "slide"
    }
   },
   "source": [
    "Plot a histogram of the sample proportions by specifying:\n",
    "- `x` as the column of values to count for your histogram \n",
    "- adding a `geom_histogram` layer to specify that you would like to use a special kind of bar chart - a histogram\n",
    "- `binwidth = 0.05` to set how wide the interval should be for counting values in the histogram\n",
    "- `xlab` to being a human-readable (and useful) label for the values being counted\n",
    "- `ggtitle` to be a human-readable (and useful) plot title for what the plot is about"
   ]
  },
  {
   "cell_type": "code",
   "execution_count": 10,
   "metadata": {
    "slideshow": {
     "slide_type": "fragment"
    }
   },
   "outputs": [
    {
     "data": {
      "image/png": "[encoded data removed]",
      "text/plain": [
       "plot without title"
      ]
     },
     "metadata": {
      "image/png": {
       "height": 300,
       "width": 360
      }
     },
     "output_type": "display_data"
    }
   ],
   "source": [
    "sampling_dist_plot <- sampling_dist %>% \n",
    "    ggplot(aes(x = prop)) +\n",
    "        geom_histogram(binwidth = 0.05) +  \n",
    "        xlab(\"Sample proportion of chocolate timbits based on n = 40\") +\n",
    "        ggtitle(\"Sampling distribution of the sample proportions\")\n",
    "sampling_dist_plot"
   ]
  },
  {
   "cell_type": "markdown",
   "metadata": {},
   "source": [
    "What do we notice here? We see that this sampling distribtion of the sample proportions:\n",
    "- has values ranging from ~0.3 to ~0.9\n",
    "- has most values are between ~0.5 to ~0.7\n",
    "- is centered near 0.6 (**most sample proportions are near the population proportion!**)\n",
    "- is roughly symmetrical, and bell shaped (almost looking like a normal distribution)"
   ]
  },
  {
   "cell_type": "markdown",
   "metadata": {},
   "source": [
    "> Foreshadowing next lecture: Perhaps we could use what we observe here to help us come up with the plausible range where our true population parameter when we only have one sample, and hence of these possible estimates..."
   ]
  },
  {
   "cell_type": "markdown",
   "metadata": {
    "slideshow": {
     "slide_type": "slide"
    }
   },
   "source": [
    "Let's calculate the mean of the sample proportions:"
   ]
  },
  {
   "cell_type": "code",
   "execution_count": 11,
   "metadata": {
    "slideshow": {
     "slide_type": "fragment"
    }
   },
   "outputs": [
    {
     "data": {
      "text/html": [
       "0.63"
      ],
      "text/latex": [
       "0.63"
      ],
      "text/markdown": [
       "0.63"
      ],
      "text/plain": [
       "[1] 0.63"
      ]
     },
     "metadata": {},
     "output_type": "display_data"
    }
   ],
   "source": [
    "mean_sampling_dist <- sampling_dist %>% \n",
    "    pull(prop) %>%\n",
    "    mean() %>% \n",
    "    round(2)\n",
    "mean_sampling_dist"
   ]
  },
  {
   "cell_type": "markdown",
   "metadata": {
    "slideshow": {
     "slide_type": "slide"
    }
   },
   "source": [
    "**This is also the proportion of chocolate timbits in our population!!!**\n",
    "\n",
    "![](https://media.giphy.com/media/sBl8Fowq0ErFC/giphy.gif)"
   ]
  },
  {
   "cell_type": "markdown",
   "metadata": {},
   "source": [
    "This is a property of sampling distributions of sample estimates, regardless of the estimator used. In the worksheets and next lecture we will explore sampling distributions further to learn more about their properties so we can generalize them to help us create the plausible range where we thing our population parameter of interest lies in the more real-world case where we only have one sample (and thus, one estimate)."
   ]
  },
  {
   "cell_type": "markdown",
   "metadata": {
    "slideshow": {
     "slide_type": "slide"
    }
   },
   "source": [
    "### Back to our marketing example\n",
    "\n",
    "Is randomly selecting a subset of the students (taking a single sample) and then asking them if they have an iphone a good way to estimate the true proportion of all undergraduates who have iphones (population parameter we are interested in)? \n",
    "\n",
    "```{figure} img/sampling.002.jpeg\n",
    "---\n",
    "height: 600px\n",
    "name: sampling.002\n",
    "align: left\n",
    "---\n",
    "```"
   ]
  },
  {
   "cell_type": "markdown",
   "metadata": {},
   "source": [
    "Yes, assuming that the sample we take is both **random** and **representative.** \n",
    "\n",
    "Think about this - what might be \"wrong\" with our estimate if we only sample students from North America? Or if we only sample students who identify as female for gender? Or if we only sample students who are registered in programs in the Arts?"
   ]
  },
  {
   "cell_type": "markdown",
   "metadata": {
    "slideshow": {
     "slide_type": "slide"
    }
   },
   "source": [
    "### Wrap-up \n",
    "\n",
    "What did we learn today? Let's make a list here!\n",
    "\n",
    "- What are the different kinds of statistical questions we can ask.\n",
    "- What is estimation, and why is it useful?\n",
    "- How sampling can be useful for estimating.\n"
   ]
  },
  {
   "cell_type": "markdown",
   "metadata": {
    "slideshow": {
     "slide_type": "slide"
    }
   },
   "source": [
    "#### Questions that we will try to answer next?\n",
    "\n",
    "- Usually we only have one sample? So what can we do? "
   ]
  },
  {
   "cell_type": "markdown",
   "metadata": {
    "slideshow": {
     "slide_type": "notes"
    }
   },
   "source": [
    "### Acknowledgements\n",
    "- [Modern Dive: An Introduction to Statistical and Data Sciences via R](https://moderndive.com/index.html) by Chester Ismay and Albert Y. Kim\n",
    "- [Data Science in a box](https://github.com/rstudio-education/datascience-box) by Mine Cetinkaya-Rundel\n",
    "- [Inference in 3 hours](https://github.com/AllenDowney/CompStats) by Allan Downey"
   ]
  }
 ],
 "metadata": {
  "celltoolbar": "Slideshow",
  "kernelspec": {
   "display_name": "R",
   "language": "R",
   "name": "ir"
  },
  "language_info": {
   "codemirror_mode": "r",
   "file_extension": ".r",
   "mimetype": "text/x-r-source",
   "name": "R",
   "pygments_lexer": "r",
   "version": "4.0.2"
  }
 },
 "nbformat": 4,
 "nbformat_minor": 4
}
