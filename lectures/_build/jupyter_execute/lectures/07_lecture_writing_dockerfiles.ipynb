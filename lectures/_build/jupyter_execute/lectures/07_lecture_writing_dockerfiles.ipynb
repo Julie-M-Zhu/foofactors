{
 "cells": [
  {
   "cell_type": "markdown",
   "metadata": {
    "slideshow": {
     "slide_type": "slide"
    }
   },
   "source": [
    "# Lecture 7 - Writing your own Dockerfile!"
   ]
  },
  {
   "cell_type": "markdown",
   "metadata": {
    "slideshow": {
     "slide_type": "fragment"
    }
   },
   "source": [
    "## Learning Objectives\n",
    "\n",
    "By the end of the lecture, students should be able to:\n",
    "\n",
    "- Use Docker to run RStudio and Jupyter\n",
    "- Write a Dockerfile\n",
    "- Build a Docker image from a Dockerfile on your laptop\n",
    "- List good Docker base images for R and Python projects"
   ]
  },
  {
   "cell_type": "markdown",
   "metadata": {
    "slideshow": {
     "slide_type": "slide"
    }
   },
   "source": [
    "## Using Docker to run RStudio\n",
    "\n",
    "To keep your Data Science team, or even just yourself, organized using the same dependencies to develop code, you can use Docker to run RStudio!"
   ]
  },
  {
   "cell_type": "markdown",
   "metadata": {
    "slideshow": {
     "slide_type": "slide"
    }
   },
   "source": [
    "#### Let's do it!\n",
    "\n",
    "#### Step 1 - launch the Docker app (for OSX & Windows only)\n",
    "- Use launchpad/Finder/Start menu/etc to find and launch Docker\n",
    "\n",
    "\n",
    "#### Step 2 - get tidyverse image from Dockerhub\n",
    "- open command line (terminal/GitBash)\n",
    "- type: `docker pull rocker/tidyverse`\n",
    "- verify that it successfully pulled by typing: `docker images`, you should see something like:\n",
    "```\n",
    "REPOSITORY                TAG                 IMAGE ID            CREATED             SIZE\n",
    "rocker/tidyverse          latest              a2cd50729659        17 hours ago        1.82GB\n",
    "ttimbers/makefile2graph   latest              823dcba8f792        13 months ago       469MB\n",
    "```"
   ]
  },
  {
   "cell_type": "markdown",
   "metadata": {
    "slideshow": {
     "slide_type": "slide"
    }
   },
   "source": [
    "#### Step 3 - run the tidyverse image interactively and link it to your computer's disk\n",
    "Note: The absolute path on your laptop should be where you cloned data_analysis_pipeline_eg\n",
    "\n",
    "- do this by typing (use the appropriate paths for your computer!):\n",
    "\n",
    "```\n",
    "docker run --rm -p 8787:8787 -e PASSWORD=\"test\" -v <absolute path on laptop>:/home/rstudio/data_analysis_pipeline_eg rocker/tidyverse\n",
    "```\n",
    "\n",
    "Now, to get to the RStudio GUI/interface, you need to open a web browser and go to this URL: http://localhost:8787\n",
    "\n",
    "If it worked, then you should be at an RStudio Sign In page. To sign in, use the following credentials:\n",
    "\n",
    "**username:** rstudio\n",
    "\n",
    "**password:** test\n",
    "\n",
    "Now you should be able to use RStudio inside the browser! Try out some R code to test that it works!\n",
    "\n",
    "Sample R code to try:\n",
    "\n",
    "```\n",
    "library(ggplot2)\n",
    "my_scatplot <- ggplot(mtcars,aes(x=wt,y=mpg)) + geom_point() + theme_bw()\n",
    "my_scatplot + xlab('Weight (x 1000lbs)') + ylab('Miles per Gallon') + geom_smooth()\n",
    "```"
   ]
  },
  {
   "cell_type": "markdown",
   "metadata": {
    "slideshow": {
     "slide_type": "slide"
    }
   },
   "source": [
    "#### Step 4 - use the tidyverse image to make an `.Rmd`\n",
    "\n",
    "Try making a `.Rmd` and saving it in the `data_analysis_pipeline_eg` `src` directory.\n",
    "\n",
    "\n",
    "#### Step 5 - exit from the tidyverse docker image\n",
    "\n",
    "To exit from this tidyverse Docker image, type `Control-C` at the command line/terminal/GitBash where you launched/ran the image from. Alternatively you can close the command line/terminal/GitBash instead. Closing the browser tab/window does not kill/close the instance of the image.\n",
    "\n",
    "*note - there are other ways to close/kill Docker images. We will learn these shortly.*\n",
    "\n",
    "If you now look in the `src` directory of the data analysis project you should see the `.Rmd` you created there."
   ]
  },
  {
   "cell_type": "markdown",
   "metadata": {
    "slideshow": {
     "slide_type": "slide"
    }
   },
   "source": [
    "### How to re-attach to an exited container\n",
    "\n",
    "There are several ways to do this and it really depends on what precisely you are trying to accomplish. In general, you will need the container ID and/or name:\n",
    "\n",
    "```\n",
    "docker ps -a\n",
    "```\n",
    "\n",
    "Then, run the following `attach` command to re-attach the container:\n",
    "\n",
    "```\n",
    "docker container attach <container id OR name>\n",
    "```"
   ]
  },
  {
   "cell_type": "markdown",
   "metadata": {
    "slideshow": {
     "slide_type": "slide"
    }
   },
   "source": [
    "#### Debrief - what did we just do? \n",
    "\n",
    "Let's now dig deeper into the commands and tools we just used to become more familiar with Docker! Let's fill in this table to explain what each part of our Docker commands did:\n",
    "\n",
    "| command/flag `docker` | What it does          | \n",
    "|--------------|-----------------------|\n",
    "| `-p`         | Connects Container to a port on your machine so that you can run a program through a web browser |\n",
    "| `-e`         | Set simple environment variables in the container you’re running. E.g., PASSWORD=\"test\" |\n",
    "| `-v path1:path2`  | maps path1 locally to path2 in the Docker container |"
   ]
  },
  {
   "cell_type": "markdown",
   "metadata": {
    "slideshow": {
     "slide_type": "slide"
    }
   },
   "source": [
    "## Using Docker to run Jupyter\n",
    "\n",
    "Steps:\n",
    "\n",
    "1. Download docker image with Dash + other dependencies: \n",
    "    - `docker pull jupyter/datascience-notebook`\n",
    "2. Create a new container:\n",
    "    - `docker run --rm -it -p 8888:8888 -v /$(pwd):/home/jupyter jupyter/datascience-notebook`\n",
    "3. Copy the url printed out that looks like the one shown below to your browser: \n",
    "\n",
    "```http://127.0.0.1:8888/?token=6e4af655f82dd55d80fd0328d3e61ab32320febfc0b4153c```\n",
    "  \n",
    "That's it!\n",
    "\n",
    "When you are done, use Ctrl+C to stop the container from the terminal you launched it from."
   ]
  },
  {
   "cell_type": "markdown",
   "metadata": {
    "slideshow": {
     "slide_type": "slide"
    }
   },
   "source": [
    "## Dockerfiles\n",
    "\n",
    "- A `Dockerfile` is a plain text file that contains commands primarily about what software to install in the Docker image. This is the more trusted and transparent way to build Docker images."
   ]
  },
  {
   "cell_type": "markdown",
   "metadata": {
    "slideshow": {
     "slide_type": "fragment"
    }
   },
   "source": [
    "- Once we have created a `Dockerfile` we can build it into a Docker image."
   ]
  },
  {
   "cell_type": "markdown",
   "metadata": {
    "slideshow": {
     "slide_type": "fragment"
    }
   },
   "source": [
    "- Docker images are built in layers, and as such, `Dockerfiles` always start by specifiying a base Docker image that the new image is to be built on top off"
   ]
  },
  {
   "cell_type": "markdown",
   "metadata": {
    "slideshow": {
     "slide_type": "fragment"
    }
   },
   "source": [
    "- Docker containers are all Linux containers and thus use Linux commands to install software, however there are different flavours of Linux (e.g., Ubuntu, Debian, CentOs, RedHat, etc) and thus you need to use the right Linux install commands to match your flavour of container. For this course we will focus on Ubuntu- or Debian-based images and thus use `apt-get` as our installation program."
   ]
  },
  {
   "cell_type": "markdown",
   "metadata": {
    "slideshow": {
     "slide_type": "slide"
    }
   },
   "source": [
    "## Workflow for building a Dockerfile"
   ]
  },
  {
   "cell_type": "markdown",
   "metadata": {
    "slideshow": {
     "slide_type": "fragment"
    }
   },
   "source": [
    "1. Choose a base image to build off (from https://hub.docker.com/)"
   ]
  },
  {
   "cell_type": "markdown",
   "metadata": {
    "slideshow": {
     "slide_type": "fragment"
    }
   },
   "source": [
    "2. Create a `Dockerfile` named `Dockerfile` and save it in an appropritate project repo. Open that file and type `FROM <BASE_IMAGE> on the first line`."
   ]
  },
  {
   "cell_type": "markdown",
   "metadata": {
    "slideshow": {
     "slide_type": "fragment"
    }
   },
   "source": [
    "3. In a terminal, type `docker run --rm -it <IMAGE_NAME>` and interactively try the install commands you think will work. Edit and try again until the install command works."
   ]
  },
  {
   "cell_type": "markdown",
   "metadata": {
    "slideshow": {
     "slide_type": "fragment"
    }
   },
   "source": [
    "4. Write working install commands in the `Dockerfile`, preceeding them with `RUN` and save the Dockerfile."
   ]
  },
  {
   "cell_type": "markdown",
   "metadata": {
    "slideshow": {
     "slide_type": "fragment"
    }
   },
   "source": [
    "5. After adding every 2-3 commands to your `Dockerfile`, try building the Docker image via `docker build --tag <TEMP_IMAGE_NAME> <PATH_TO_DOCKERFILE_DIRECTORY>`"
   ]
  },
  {
   "cell_type": "markdown",
   "metadata": {
    "slideshow": {
     "slide_type": "fragment"
    }
   },
   "source": [
    "6. Once the entire Dockerfile works from beginning to end on your laptop, then you can finally move to building remotely (e.g., creating a [trusted build on GitHub Actions])."
   ]
  },
  {
   "cell_type": "markdown",
   "metadata": {
    "slideshow": {
     "slide_type": "slide"
    }
   },
   "source": [
    "## Demo workflow for creating a Dockfile locally\n",
    "\n",
    "We will demo this workflow together to build a Docker image locally on our machines that has R and the `cowsay` R package installed.\n",
    "\n",
    "Let's start with the `debian:stable` image, so the first line of our `Dockerfile` should be as such:\n",
    "\n",
    "```\n",
    "FROM debian:stable\n",
    "```\n",
    "\n",
    "Now let's run the `debian:stable` image so we can work on our install commands to find some that work!\n",
    "\n",
    "```\n",
    "$ docker run --rm -it debian:stable\n",
    "```\n",
    "\n",
    "Now that we are in a container instance of the `debian:stable` Docker image, we can start playing around with installing things. To install things in the Debian flavour of Linux we use the command `apt-get`. We will do some demo's in class today, but a more comprehensive tutorial can be found [here](https://www.digitalocean.com/community/tutorials/how-to-manage-packages-in-ubuntu-and-debian-with-apt-get-apt-cache)."
   ]
  },
  {
   "cell_type": "markdown",
   "metadata": {
    "slideshow": {
     "slide_type": "slide"
    }
   },
   "source": [
    "To install R on Debian, we can figure out how to do this by following the CRAN documentation available [here](https://cran.r-project.org/bin/linux/debian/).\n",
    "\n",
    "First they recommend updating the list of available software package we can install with `apt-get` to us via the `apt-get update` command:\n",
    "\n",
    "```\n",
    "root@5d0f4d21a1f9:/# apt-get update\n",
    "```\n",
    "\n",
    "Next, they suggest the following commands to install R:\n",
    "\n",
    "```\n",
    "root@5d0f4d21a1f9:/# apt-get install r-base r-base-dev\n",
    "```\n",
    "\n",
    "OK, great! That seemed to have worked! Let's test it by trying out R! \n",
    "\n",
    "```\n",
    "root@5d0f4d21a1f9:/# R\n",
    "\n",
    "R version 3.5.2 (2018-12-20) -- \"Eggshell Igloo\"\n",
    "Copyright (C) 2018 The R Foundation for Statistical Computing\n",
    "Platform: x86_64-pc-linux-gnu (64-bit)\n",
    "\n",
    "R is free software and comes with ABSOLUTELY NO WARRANTY.\n",
    "You are welcome to redistribute it under certain conditions.\n",
    "Type 'license()' or 'licence()' for distribution details.\n",
    "\n",
    "R is a collaborative project with many contributors.\n",
    "Type 'contributors()' for more information and\n",
    "'citation()' on how to cite R or R packages in publications.\n",
    "\n",
    "Type 'demo()' for some demos, 'help()' for on-line help, or\n",
    "'help.start()' for an HTML browser interface to help.\n",
    "Type 'q()' to quit R.\n",
    "\n",
    "> \n",
    "\n",
    "```\n",
    "\n",
    "Awesome! This seemed to have worked! Let's exit R (via `q()`) and the Docker container (via `exit`). Then we can add these commands to the Dockerfile, proceeding them with `RUN` and try to build our image to ensure this works.\n",
    "\n",
    "Our `Dockerfile` so far:\n",
    "```\n",
    "FROM debian:stable\n",
    "\n",
    "RUN apt-get update\n",
    "\n",
    "RUN apt-get install r-base r-base-dev -y \n",
    "```"
   ]
  },
  {
   "cell_type": "markdown",
   "metadata": {},
   "source": [
    "```\n",
    "$ docker build --tag testr1 src\n",
    "```\n",
    "\n",
    "Wait! That didn't seem to work! Let's focus on the last two lines of the error message:\n",
    "\n",
    "```\n",
    "Do you want to continue? [Y/n] Abort.\n",
    "The command '/bin/sh -c apt-get install r-base r-base-dev' returned a non-zero code: 1\n",
    "```\n",
    "\n",
    "Ohhhh, right! As we were interactively installing this, we were prompted to press \"Y\" on our keyboard to continue the installation. We need to include this in our Dockerfile so that we don't get this error. To do this we append the `-y` flag to the end of the line contianing `RUN apt-get install r-base r-base-dev`. Let's try building again!\n",
    "\n",
    "Great! Success! Now we can play with installing R packages! \n",
    "\n",
    "Let's start now with the test image we have built from our `Dockerfile`:\n",
    "\n",
    "```\n",
    "$ docker run -it --rm testr1\n",
    "```\n",
    "\n",
    "Now while we are in the container interactively, we can try to install the R package via:\n",
    "\n",
    "```\n",
    "root@51f56d653892:/# Rscript -e \"install.packages('cowsay')\"\n",
    "```\n",
    "\n",
    "And it looks like it worked! Let's confirm by trying to call a function from the `cowsay` package in R:\n",
    "\n",
    "```\n",
    "root@51f56d653892:/# R\n",
    "\n",
    "> cowsay::say(\"Smart for using Docker are you\", \"yoda\")\n",
    "```\n",
    "\n",
    "\n",
    "\n",
    "Great, let's exit the container, and add this command to our `Dockerfile` and try to build it again!\n",
    "\n",
    "```\n",
    "root@51f56d653892:/# exit\n",
    "```\n",
    "\n",
    "Our `Dockerfile` now:\n",
    "```\n",
    "FROM debian:stable\n",
    "\n",
    "RUN apt-get update\n",
    "\n",
    "RUN apt-get install r-base r-base-dev -y \n",
    "\n",
    "RUN Rscript -e \"install.packages('cowsay')\"\n",
    "```\n",
    "\n",
    "Build the `Dockerfile` into an image:\n",
    "\n",
    "```\n",
    "$ docker build --tag testr1 src\n",
    "\n",
    "$ docker run -it --rm testr1\n",
    "```\n",
    "\n",
    "Looks like a success, let's be sure we can use the `cowsay` package:\n",
    "\n",
    "```\n",
    "root@861487da5d00:/# R\n",
    "\n",
    "> cowsay::say(\"why did the chicken cross the road\", \"chicken\")\n",
    "\n",
    "```\n",
    "\n",
    "Hurray! We did it! Now we can automate this build on Docker Hub and share this Docker image with the world!\n",
    "\n",
    "<img src=\"https://media.giphy.com/media/ZcKASxMYMKA9SQnhIl/giphy-downsized.gif\">\n",
    "Source: https://giphy.com/gifs/memecandy-ZcKASxMYMKA9SQnhIl"
   ]
  },
  {
   "cell_type": "markdown",
   "metadata": {
    "slideshow": {
     "slide_type": "slide"
    }
   },
   "source": [
    "## Dockerfile command summary\n",
    "\n",
    "#### Most common ones you will use\n",
    "\n",
    "| Command | Description |\n",
    "|---------|-------------|\n",
    "| FROM    | States which base image the new Docker image should be built on top of |\n",
    "| RUN     | Specifies that a command should be run in a shell |\n",
    "\n",
    "#### Others you may see and have to encounter\n",
    "\n",
    "| Command | Description |\n",
    "|---------|-------------|\n",
    "| ENV | Sets environment variables |\n",
    "| EXPOSE | Specifies the port the container should listen to at runtime |\n",
    "| COPY or ADD | adds files (or URL's in the case of ADD) to a container's filesystem |\n",
    "| CMD | Specifies a command to run (this provides the default for executing a container) |\n",
    "\n",
    "And more here in the [Dockerfile reference](https://docs.docker.com/engine/reference/builder/)."
   ]
  },
  {
   "cell_type": "markdown",
   "metadata": {
    "slideshow": {
     "slide_type": "slide"
    }
   },
   "source": [
    "## Choosing a base image for your Dockerfile\n",
    "\n",
    "<img src=\"https://themuslimtimesdotinfodotcom.files.wordpress.com/2018/10/newton-quotes-2.jpg?w=1334\" width=700>\n",
    "\n",
    "Source: https://themuslimtimes.info/2018/10/25/if-i-have-seen-further-it-is-by-standing-on-the-shoulders-of-giants/"
   ]
  },
  {
   "cell_type": "markdown",
   "metadata": {
    "slideshow": {
     "slide_type": "slide"
    }
   },
   "source": [
    "## Good base images to work from for R or Python projects!\n",
    "\n",
    "| Image | Software installed | \n",
    "|-------|--------------------|\n",
    "| [rocker/tidyverse](https://hub.docker.com/r/rocker/tidyverse/) | R, R packages (including the tidyverse), RStudio, make |\n",
    "| [continuumio/anaconda3](https://hub.docker.com/r/continuumio/anaconda3/) | Python 3.7.4, Ananconda base package distribution, Jupyter notebook |\n",
    "| [jupyter/scipy-notebook](https://hub.docker.com/r/jupyter/scipy-notebook) | Includes popular packages from the scientific Python ecosystem. |\n",
    "\n",
    "For mixed language projects, I would recommend using the `rocker/tidyverse` image as the base and then installing Anaconda or miniconda as I have done here: https://github.com/UBC-DSCI/introduction-to-datascience/blob/b0f86fc4d6172cd043a0eb831b5d5a8743f29c81/Dockerfile#L19\n",
    "\n",
    "This is also a nice tour de Docker images from the Jupyter core team: https://jupyter-docker-stacks.readthedocs.io/en/latest/using/selecting.html#selecting-an-image"
   ]
  },
  {
   "cell_type": "markdown",
   "metadata": {
    "slideshow": {
     "slide_type": "slide"
    }
   },
   "source": [
    "## Dockerfile FAQ:"
   ]
  },
  {
   "cell_type": "markdown",
   "metadata": {
    "slideshow": {
     "slide_type": "slide"
    }
   },
   "source": [
    "### Where does the Dockerfile live?\n",
    "\n",
    "The Dockerfile should live in the root directory of your project."
   ]
  },
  {
   "cell_type": "markdown",
   "metadata": {
    "slideshow": {
     "slide_type": "slide"
    }
   },
   "source": [
    "### How do I make a Docker image from a Dockerfile?\n",
    "\n",
    "There are 2 ways to do this! I use the first when developing my Dockerfile (to test quickly that it works), and then the second I use when I think I am \"done\" and want to have it archived on [Docker Hub](https://hub.docker.com/). \n",
    "\n",
    "1. Build a Docker image locally on your laptop\n",
    "\n",
    "2. Build a Docker image using trusted [Automated builds](https://docs.docker.com/docker-cloud/builds/automated-build/) on GitHub Actions"
   ]
  },
  {
   "cell_type": "markdown",
   "metadata": {
    "slideshow": {
     "slide_type": "slide"
    }
   },
   "source": [
    "### How do I build a Docker image locally on my laptop  \n",
    " \n",
    "From the directory that contains your Dockerfile (usually your project root):\n",
    "\n",
    "```\n",
    "docker build --tag IMAGE_NAME:VERSION .\n",
    "```\n",
    "    \n",
    "*note: `--tag` let's you name and version the Docker image. You can call this anything you want. The version number/name comes after the colon*\n",
    "    \n",
    "After I build, I think try to `docker run ...` to test the image locally. If I don't like it, or it doesn't work, I delete the image with `docker rmi {IMAGE_NAME}`, edit my Dockerfile and try to build and run it again."
   ]
  },
  {
   "cell_type": "markdown",
   "metadata": {
    "slideshow": {
     "slide_type": "slide"
    }
   },
   "source": [
    "### How do I know what commands to use to install things on Linux?\n",
    "\n",
    "1. Look at the MDS Linux install instructions: [https://ubc-mds.github.io/resources_pages/install_ds_stack_ubuntu/](https://ubc-mds.github.io/resources_pages/install_ds_stack_ubuntu/)\n",
    "\n",
    "2. Look at other Dockerfiles"
   ]
  },
  {
   "cell_type": "markdown",
   "metadata": {
    "slideshow": {
     "slide_type": "slide"
    }
   },
   "source": [
    "## What's next?\n",
    "\n",
    "- best practices for package and container versioning\n",
    "- running scripts (including Makefiles) non-interactively via the command line\n",
    "- reproducibility & data analysis project wrap-up"
   ]
  }
 ],
 "metadata": {
  "anaconda-cloud": {},
  "celltoolbar": "Slideshow",
  "kernelspec": {
   "display_name": "Python 3",
   "language": "python",
   "name": "python3"
  },
  "language_info": {
   "codemirror_mode": {
    "name": "ipython",
    "version": 3
   },
   "file_extension": ".py",
   "mimetype": "text/x-python",
   "name": "python",
   "nbconvert_exporter": "python",
   "pygments_lexer": "ipython3",
   "version": "3.8.3"
  }
 },
 "nbformat": 4,
 "nbformat_minor": 1
}