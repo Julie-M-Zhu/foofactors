{
 "cells": [
  {
   "cell_type": "markdown",
   "metadata": {
    "slideshow": {
     "slide_type": "slide"
    }
   },
   "source": [
    "# Lecture 1 - Intro to Data Science Workflows\n"
   ]
  },
  {
   "cell_type": "markdown",
   "metadata": {
    "slideshow": {
     "slide_type": "slide"
    }
   },
   "source": [
    "## Lecture learning objectives\n",
    "\n",
    "By the end of the lecture, students should be able to:\n",
    "\n",
    "1. List three useful tools for facilitating organization and collaboration in complex data analysis projects\n",
    "1. Describe the data analysis cycle\n",
    "2. Explain how to mechanistically start a data analysis project\n",
    "2. State and refine a data analysis question"
   ]
  },
  {
   "cell_type": "markdown",
   "metadata": {
    "slideshow": {
     "slide_type": "slide"
    }
   },
   "source": [
    "## Why worry about workflows?"
   ]
  },
  {
   "cell_type": "markdown",
   "metadata": {
    "slideshow": {
     "slide_type": "slide"
    }
   },
   "source": [
    "#### Reason 1:\n",
    "\n",
    "It makes it easier to collaborate with your most imporant collaborator - YOU in 6 months!"
   ]
  },
  {
   "cell_type": "markdown",
   "metadata": {
    "slideshow": {
     "slide_type": "fragment"
    }
   },
   "source": [
    "```{figure} img/2011.11.15_life_of_a_swe.png\n",
    "---\n",
    "width: 500px\n",
    "name: 2011.11.15_life_of_a_swe\n",
    "align: left\n",
    "---\n",
    "```"
   ]
  },
  {
   "cell_type": "markdown",
   "metadata": {
    "slideshow": {
     "slide_type": "skip"
    }
   },
   "source": [
    "*Source: http://www.bonkersworld.net/building-software/*"
   ]
  },
  {
   "cell_type": "markdown",
   "metadata": {
    "slideshow": {
     "slide_type": "slide"
    }
   },
   "source": [
    "#### Reason 2:\n",
    "\n",
    "It makes others think you know what you are doing..."
   ]
  },
  {
   "cell_type": "markdown",
   "metadata": {
    "slideshow": {
     "slide_type": "fragment"
    }
   },
   "source": [
    "```{figure} img/business_suit.gif\n",
    "---\n",
    "width: 400px\n",
    "name: business_suit\n",
    "align: left\n",
    "---\n",
    "```"
   ]
  },
  {
   "cell_type": "markdown",
   "metadata": {
    "slideshow": {
     "slide_type": "notes"
    }
   },
   "source": [
    "*Source: https://giphy.com/*"
   ]
  },
  {
   "cell_type": "markdown",
   "metadata": {
    "slideshow": {
     "slide_type": "slide"
    }
   },
   "source": [
    "## Workflows & complex projects"
   ]
  },
  {
   "cell_type": "markdown",
   "metadata": {
    "slideshow": {
     "slide_type": "slide"
    }
   },
   "source": [
    "### What are complex projects?\n",
    "\n",
    "I define complex projects as one that has __*at least one*__ of the following:"
   ]
  },
  {
   "cell_type": "markdown",
   "metadata": {
    "slideshow": {
     "slide_type": "fragment"
    }
   },
   "source": [
    "- two, or more, people directly working on the analysis"
   ]
  },
  {
   "cell_type": "markdown",
   "metadata": {
    "slideshow": {
     "slide_type": "fragment"
    }
   },
   "source": [
    "- projects that involve two or more coding documents"
   ]
  },
  {
   "cell_type": "markdown",
   "metadata": {
    "slideshow": {
     "slide_type": "fragment"
    }
   },
   "source": [
    "- projects that involve analysis of medium/large data "
   ]
  },
  {
   "cell_type": "markdown",
   "metadata": {
    "slideshow": {
     "slide_type": "fragment"
    }
   },
   "source": [
    "- projects where you are working on a remote machine"
   ]
  },
  {
   "cell_type": "markdown",
   "metadata": {
    "slideshow": {
     "slide_type": "fragment"
    }
   },
   "source": [
    "- projects that have many software or environment dependencies, or ones that are difficult or take a long time to install"
   ]
  },
  {
   "cell_type": "markdown",
   "metadata": {
    "slideshow": {
     "slide_type": "fragment"
    }
   },
   "source": [
    "*As a project accumulates more of these features it grows further in complexity.*"
   ]
  },
  {
   "cell_type": "markdown",
   "metadata": {
    "slideshow": {
     "slide_type": "slide"
    }
   },
   "source": [
    "#### Complex projects without intentional Data Science workflows...\n",
    "\n",
    "<img src =\"https://upload.wikimedia.org/wikipedia/en/a/a3/Escher%27s_Relativity.jpg\" width =\"450\">\n",
    "\n",
    "-- *Relativity by Maurits Cornelis Escher*"
   ]
  },
  {
   "cell_type": "markdown",
   "metadata": {
    "slideshow": {
     "slide_type": "slide"
    }
   },
   "source": [
    "#### Concrete examples of problems that can occur in complex analyses"
   ]
  },
  {
   "cell_type": "markdown",
   "metadata": {
    "slideshow": {
     "slide_type": "fragment"
    }
   },
   "source": [
    "- An interesting result that you cannot recreate 😞"
   ]
  },
  {
   "cell_type": "markdown",
   "metadata": {
    "slideshow": {
     "slide_type": "fragment"
    }
   },
   "source": [
    "- Your email inbox is full of information related to the project that only you have access too 😫"
   ]
  },
  {
   "cell_type": "markdown",
   "metadata": {
    "slideshow": {
     "slide_type": "fragment"
    }
   },
   "source": [
    "- A small change to the analysis code requires re-running the entire thing, *and takes hours...* 😧"
   ]
  },
  {
   "cell_type": "markdown",
   "metadata": {
    "slideshow": {
     "slide_type": "fragment"
    }
   },
   "source": [
    "- Activation time to becoming productive after taking a break from the project is hours to days 😴"
   ]
  },
  {
   "cell_type": "markdown",
   "metadata": {
    "slideshow": {
     "slide_type": "fragment"
    }
   },
   "source": [
    "- Code that can only be run on one machine, *and you don't know why...* 😵"
   ]
  },
  {
   "cell_type": "markdown",
   "metadata": {
    "slideshow": {
     "slide_type": "slide"
    }
   },
   "source": [
    "### How can we avoid such problems and chaos?"
   ]
  },
  {
   "cell_type": "markdown",
   "metadata": {
    "slideshow": {
     "slide_type": "slide"
    }
   },
   "source": [
    "## Workflow features to mitigate chaos\n",
    "\n",
    "1. Version Control (*Git & GitHub*)\n",
    "\n",
    "2. Executable analysis scripts & pipelines (*Python/R scripts & Make*)\n",
    "\n",
    "3. Defined & shippable dependencies (*Docker*)\n",
    "\n",
    "*All of these features are a subset of those recommended by Hilary Parker in her 2016 [Opinionated Analysis Development](https://peerj.com/preprints/3210/) paper*\n"
   ]
  },
  {
   "cell_type": "markdown",
   "metadata": {
    "slideshow": {
     "slide_type": "slide"
    }
   },
   "source": [
    "### 1. Version Control \n",
    "\n",
    "- Version control is a tool which archives changes to file(s) over time. \n",
    "\n",
    "- These changes are archived in a way that you can later revisit different time points in the project.\n",
    "\n",
    "<img src=\"http://swcarpentry.github.io/git-novice/fig/play-changes.svg\">\n",
    "\n",
    "*source: http://swcarpentry.github.io/git-novice/*\n"
   ]
  },
  {
   "cell_type": "markdown",
   "metadata": {
    "slideshow": {
     "slide_type": "slide"
    }
   },
   "source": [
    "- Many version control tools also have features that facilitate collaboration.\n",
    "\n",
    "- Git + GitHub are two of the most common softwares for version control (*and so this is where I draw my examples from*)\n",
    "\n",
    "\n",
    "```{figure} http://faisalweb.com/wp-content/uploads/2017/07/git.jpg\n",
    "---\n",
    "width: 600px\n",
    "name: git\n",
    "align: left\n",
    "---\n",
    "```"
   ]
  },
  {
   "cell_type": "markdown",
   "metadata": {
    "slideshow": {
     "slide_type": "slide"
    }
   },
   "source": [
    "#### Example problem solved by version control\n",
    "\n",
    "**Problem:** An extremely interesting result that you cannot recreate 😞\n",
    "\n",
    "\n",
    "**Solution**: Version the code **and** the output of the analysis \n"
   ]
  },
  {
   "cell_type": "markdown",
   "metadata": {
    "slideshow": {
     "slide_type": "slide"
    }
   },
   "source": [
    "#### Going back in time via commits\n",
    "\n",
    "```{figure} img/releases.png\n",
    "---\n",
    "width: 800px\n",
    "name: releases\n",
    "align: left\n",
    "---\n",
    "```"
   ]
  },
  {
   "cell_type": "markdown",
   "metadata": {
    "slideshow": {
     "slide_type": "slide"
    }
   },
   "source": [
    "#### Going back in time via commits\n",
    "\n",
    "```{figure} img/commits_eg.png\n",
    "---\n",
    "width: 800px\n",
    "name: commits_eg\n",
    "align: left\n",
    "---\n",
    "```"
   ]
  },
  {
   "cell_type": "markdown",
   "metadata": {
    "slideshow": {
     "slide_type": "slide"
    }
   },
   "source": [
    "#### Going back in time via commits\n",
    "\n",
    "```{figure} img/commit-visit.png\n",
    "---\n",
    "width: 800px\n",
    "name: commit-visit\n",
    "align: left\n",
    "---\n",
    "```"
   ]
  },
  {
   "cell_type": "markdown",
   "metadata": {
    "slideshow": {
     "slide_type": "slide"
    }
   },
   "source": [
    "#### Going back in time via releases\n",
    "\n",
    "```{figure} img/commits.png\n",
    "---\n",
    "width: 800px\n",
    "name: commits\n",
    "align: left\n",
    "---\n",
    "```"
   ]
  },
  {
   "cell_type": "markdown",
   "metadata": {
    "slideshow": {
     "slide_type": "slide"
    }
   },
   "source": [
    "#### Going back in time via releases\n",
    "\n",
    "```{figure} img/release_eg.png\n",
    "---\n",
    "width: 800px\n",
    "name: release_eg\n",
    "align: left\n",
    "---\n",
    "```"
   ]
  },
  {
   "cell_type": "markdown",
   "metadata": {
    "slideshow": {
     "slide_type": "slide"
    }
   },
   "source": [
    "#### Going back in time via releases\n",
    "\n",
    "```{figure} img/release-visit.png\n",
    "---\n",
    "width: 800px\n",
    "name: release-visit\n",
    "align: left\n",
    "---\n",
    "```"
   ]
  },
  {
   "cell_type": "markdown",
   "metadata": {
    "slideshow": {
     "slide_type": "slide"
    }
   },
   "source": [
    "#### Example problem solved by version control\n",
    "\n",
    "\n",
    "**Problem:** Your email inbox is full of information related to the project that only you have access too 😫\n",
    "\n",
    "\n",
    "**Solution**: Use GitHub Issues for communications related to the project"
   ]
  },
  {
   "cell_type": "markdown",
   "metadata": {
    "slideshow": {
     "slide_type": "slide"
    }
   },
   "source": [
    "#### GitHub Issues for project-related communications\n",
    "\n",
    "```{figure} img/issue_thread.png\n",
    "---\n",
    "width: 800px\n",
    "name: releases\n",
    "align: left\n",
    "---\n",
    "```"
   ]
  },
  {
   "cell_type": "markdown",
   "metadata": {
    "slideshow": {
     "slide_type": "slide"
    }
   },
   "source": [
    "#### GitHub Issues for project-related communications\n",
    "\n",
    "```{figure} img/inbox-notification.png\n",
    "---\n",
    "width: 800px\n",
    "name: inbox-notification\n",
    "align: left\n",
    "---\n",
    "```"
   ]
  },
  {
   "cell_type": "markdown",
   "metadata": {
    "slideshow": {
     "slide_type": "slide"
    }
   },
   "source": [
    "#### GitHub Issues for project-related communications\n",
    "<img src=\"img/open_issues.png\" >\n",
    "\n",
    "\n",
    "```{figure} img/open_issues.png\n",
    "---\n",
    "width: 800px\n",
    "name: open_issues\n",
    "align: left\n",
    "---\n",
    "```"
   ]
  },
  {
   "cell_type": "markdown",
   "metadata": {
    "slideshow": {
     "slide_type": "slide"
    }
   },
   "source": [
    "#### GitHub Issues for project-related communications\n",
    "\n",
    "```{figure} img/releases.png\n",
    "---\n",
    "width: 800px\n",
    "name: releases\n",
    "align: left\n",
    "---\n",
    "```\n",
    "\n",
    "source: https://github.com/LerouxLab/Celegans_wild_isolate_behaviour/issues"
   ]
  },
  {
   "cell_type": "markdown",
   "metadata": {
    "slideshow": {
     "slide_type": "slide"
    }
   },
   "source": [
    "#### Version control contributes to better communication & team work\n",
    "\n",
    "- All collaborators/team members know where to find the latest (or earlier) version of the analysis (code and output)\n",
    "\n",
    "- All collaborators/team members have access to all communications associated with the analysis"
   ]
  },
  {
   "cell_type": "markdown",
   "metadata": {
    "slideshow": {
     "slide_type": "slide"
    }
   },
   "source": [
    "### 2. Executable analysis scripts & pipelines\n",
    "\n",
    "- As analysis grows in length and complexity, one literate code document generally is not enough\n",
    "\n",
    "- To improve code report readability (and code reproducibility and modularity) it is better to abstract at least parts of the code away (e.g, to scripts)\n",
    "\n",
    "- These scripts save figures and tables that will be imported into the final report\n",
    "\n",
    "```{figure} img/scripts.png\n",
    "---\n",
    "width: 800px\n",
    "name: scripts\n",
    "align: left\n",
    "---\n",
    "```"
   ]
  },
  {
   "cell_type": "markdown",
   "metadata": {
    "slideshow": {
     "slide_type": "slide"
    }
   },
   "source": [
    "#### Example problem solved by executable analysis scripts & pipelines\n",
    "\n",
    "**Problem:** Activation time to becoming productive after taking a break from the project is hours to days 😴\n",
    "\n",
    "**Solution:** Record the order scripts need to be run in, and their arguments in one \"driver\" script/pipeline file."
   ]
  },
  {
   "cell_type": "markdown",
   "metadata": {
    "slideshow": {
     "slide_type": "slide"
    }
   },
   "source": [
    "#### Create a recipe for your analysis\n",
    "\n",
    "```{figure} img/pipeline.png\n",
    "---\n",
    "width: 800px\n",
    "name: pipeline\n",
    "align: left\n",
    "---\n",
    "```"
   ]
  },
  {
   "cell_type": "markdown",
   "metadata": {
    "slideshow": {
     "slide_type": "slide"
    }
   },
   "source": [
    "#### Example problem solved by executable analysis scripts & pipelines\n",
    "**Problem:** A small change to the analysis code requires re-running the entire thing, *and takes hours...* 😧\n",
    "\n",
    "**Solution:** Use a smart dependency tree tool to only re-run the parts that needs to be updated."
   ]
  },
  {
   "cell_type": "markdown",
   "metadata": {
    "slideshow": {
     "slide_type": "slide"
    }
   },
   "source": [
    "#### Make - one possible smart dependency tree tool"
   ]
  },
  {
   "cell_type": "markdown",
   "metadata": {
    "slideshow": {
     "slide_type": "fragment"
    }
   },
   "source": [
    "- special file called a Makefile that contains the recipe for your analysis\n"
   ]
  },
  {
   "cell_type": "markdown",
   "metadata": {
    "slideshow": {
     "slide_type": "fragment"
    }
   },
   "source": [
    "- Makefiles are \"smart\" and after changes, only run the parts of the analysis that has changed (as well as the parts that depend on the parts that changed)"
   ]
  },
  {
   "cell_type": "markdown",
   "metadata": {
    "slideshow": {
     "slide_type": "slide"
    }
   },
   "source": [
    "- Each block of code in a Makefile is called a rule, it looks something like this:\n",
    "```\n",
    "file_to_create.png : data_it_depends_on.dat script_it_depends_on.py\n",
    "\tpython script_it_depends_on.py data_it_depends_on.dat file_to_create.png\n",
    "```"
   ]
  },
  {
   "cell_type": "markdown",
   "metadata": {
    "slideshow": {
     "slide_type": "fragment"
    }
   },
   "source": [
    "- Makefiles are made of many rules, typically one rule for each time you run an analysis script"
   ]
  },
  {
   "cell_type": "markdown",
   "metadata": {
    "slideshow": {
     "slide_type": "fragment"
    }
   },
   "source": [
    "*Make is not the only smart dependency tree tool - Apache Airflow, `snakemake`, Nextflow & `drake` are also great options!*"
   ]
  },
  {
   "cell_type": "markdown",
   "metadata": {
    "slideshow": {
     "slide_type": "slide"
    }
   },
   "source": [
    "#### Example Makefile:\n",
    "```\n",
    "# run all analysis\n",
    "all: doc/count_report.md\n",
    "\n",
    "# make dat files\n",
    "results/isles.dat: data/isles.txt src/wordcount.py\n",
    "\tpython src/wordcount.py data/isles.txt results/isles.dat\n",
    "results/abyss.dat: data/abyss.txt src/wordcount.py\n",
    "\tpython src/wordcount.py data/abyss.txt results/abyss.dat\n",
    "\n",
    "#create figures\n",
    "results/figure/isles.png: results/isles.dat src/plotcount.py\n",
    "\tpython src/plotcount.py results/isles.dat results/figure/isles.png\n",
    "results/figure/abyss.png: results/abyss.dat src/plotcount.py\n",
    "\tpython src/plotcount.py results/abyss.dat results/figure/abyss.png\n",
    "\n",
    "# render report\n",
    "doc/count_report.md: doc/count_report.Rmd results/figure/isles.png results/figure/abyss.png results/figure/last.png results/figure/sierra.png\n",
    "\tRscript -e \"rmarkdown::render('doc/count_report.Rmd')\"\n",
    "```"
   ]
  },
  {
   "cell_type": "markdown",
   "metadata": {
    "slideshow": {
     "slide_type": "slide"
    }
   },
   "source": [
    "### Makefile dependency tree\n",
    "\n",
    "```{figure} img/Makefile.png\n",
    "---\n",
    "width: 800px\n",
    "name: Makefile\n",
    "align: left\n",
    "---\n",
    "```"
   ]
  },
  {
   "cell_type": "markdown",
   "metadata": {
    "slideshow": {
     "slide_type": "slide"
    }
   },
   "source": [
    "#### Executable analysis scripts & pipelines contribute to better collaboration\n",
    "\n",
    "- Can be used by others to run/replicate the analysis\n",
    "- Makes it easier to understand the landscape of the project and for others to contribute \n",
    "- Reduces *some* of the challenges/frustrations of working with larger data sets"
   ]
  },
  {
   "cell_type": "markdown",
   "metadata": {
    "slideshow": {
     "slide_type": "slide"
    }
   },
   "source": [
    "### 3. Defined & shippable dependencies\n",
    "Dependencies are other things one need to install to run your code, and includes:\n",
    "- programming languages (e.g., R, Python, Julia, etc)\n",
    "- packages from programming languates (e.g., tidyverse, scikit-learn)\n",
    "- other tools you rely on (e.g., Make)\n",
    "- legacy code (e.g., perl scripts, fortran, etc)\n",
    "\n",
    "***Dependencies include versions as well as names!***"
   ]
  },
  {
   "cell_type": "markdown",
   "metadata": {
    "slideshow": {
     "slide_type": "slide"
    }
   },
   "source": [
    "#### Example problem solved by defined & shippable dependencies\n",
    "**Problem:** Code that can only be run on one machine, *you don't know why...* 😵\n",
    "\n",
    "**Problem:** Long install times when setting up a remote machine for analysis 🙄\n",
    " \n",
    "**One possible solution:** Containerizing your software and environmental dependencies"
   ]
  },
  {
   "cell_type": "markdown",
   "metadata": {
    "slideshow": {
     "slide_type": "slide"
    }
   },
   "source": [
    "#### What are containers?\n",
    "- Containers are *like* a light-weight virtual machine, they allow you to share:\n",
    " - Python/R versions\n",
    " - package versions\n",
    " - other tools you rely on (e.g., Make)\n",
    " - legacy code (e.g., perl scripts, fortran, etc)\n",
    "- The most popular tool for this is Docker\n",
    "- Containers can be shared on [DockerHub](https://hub.docker.com/) (similar to how code can be shared on GitHub)"
   ]
  },
  {
   "cell_type": "markdown",
   "metadata": {
    "slideshow": {
     "slide_type": "slide"
    }
   },
   "source": [
    "#### What are containers?\n",
    "\n",
    "<img src=\"https://media.springernature.com/full/springer-static/image/art%3A10.1186%2Fs13742-016-0135-4/MediaObjects/13742_2016_135_Fig7_HTML.gif?as=webp\" width=300>\n",
    "\n",
    "\n",
    "source: [Tools and techniques for computational reproducibility](https://gigascience.biomedcentral.com/articles/10.1186/s13742-016-0135-4) by Stephen R. Piccolo & Michael B. Frampton "
   ]
  },
  {
   "cell_type": "markdown",
   "metadata": {
    "slideshow": {
     "slide_type": "slide"
    }
   },
   "source": [
    "```{figure} img/dockerfile.png\n",
    "---\n",
    "width: 800px\n",
    "name: dockerfile\n",
    "align: left\n",
    "---\n",
    "```"
   ]
  },
  {
   "cell_type": "markdown",
   "metadata": {
    "slideshow": {
     "slide_type": "slide"
    }
   },
   "source": [
    "```{figure} img/docker-hub-eg.png\n",
    "---\n",
    "width: 800px\n",
    "name: docker-hub-eg\n",
    "align: left\n",
    "---\n",
    "```"
   ]
  },
  {
   "cell_type": "markdown",
   "metadata": {
    "slideshow": {
     "slide_type": "slide"
    }
   },
   "source": [
    "#### Instructions needed to run analysis on *almost* any machine:\n",
    "1. Install [Docker](https://docs.docker.com/v17.12/install/) \n",
    "2. Clone or download [this GitHub repository](https://github.com/ttimbers/data_analysis_pipeline_eg)\n",
    "3. From the root of the cloned repository, type: \n",
    "```\n",
    "docker run --rm -v $(pwd):/home/rstudio/data_analysis_eg \\\n",
    "ttimbers/data_analysis_pipeline_eg make -C /home/rstudio/data_analysis_eg all\n",
    "```"
   ]
  },
  {
   "cell_type": "markdown",
   "metadata": {
    "slideshow": {
     "slide_type": "slide"
    }
   },
   "source": [
    "#### Defined & shippable dependencies contribute to democratization of Data Science\n",
    "If you take care of packaging dependencies in a Docker container and distribute the container on DockerHub, you can add one line to your run instructions to your analysis to take away any installation pain your collaborators may face.\n"
   ]
  },
  {
   "cell_type": "markdown",
   "metadata": {
    "slideshow": {
     "slide_type": "slide"
    }
   },
   "source": [
    "### When to add these workflow features:\n",
    "1. Version Control  \n",
    " - **ALWAYS**\n",
    "2. Executable analysis scripts & pipelines \n",
    " - **When you start hiding code chunks/cells in your Rmd/Jupter notebook**\n",
    "3. Defined & shippable dependencies \n",
    " - **When doing remote computing or when you have tricky dependencies**"
   ]
  },
  {
   "cell_type": "markdown",
   "metadata": {
    "slideshow": {
     "slide_type": "slide"
    }
   },
   "source": [
    "```{figure} img/2011.11.15_life_of_a_swe.png\n",
    "---\n",
    "width: 600px\n",
    "name: 2011.11.15_life_of_a_swe\n",
    "align: left\n",
    "---\n",
    "```"
   ]
  },
  {
   "cell_type": "markdown",
   "metadata": {
    "slideshow": {
     "slide_type": "slide"
    }
   },
   "source": [
    "```{figure} img/imp_life_ds.png\n",
    "---\n",
    "width: 600px\n",
    "name: imp_life_ds\n",
    "align: left\n",
    "---\n",
    "```"
   ]
  },
  {
   "cell_type": "markdown",
   "metadata": {
    "slideshow": {
     "slide_type": "slide"
    }
   },
   "source": [
    "## Life cycle of a data analysis project"
   ]
  },
  {
   "cell_type": "markdown",
   "metadata": {
    "slideshow": {
     "slide_type": "slide"
    }
   },
   "source": [
    "![alt tag](img/data-science-workflow.png)\n",
    "*Source: [R for Data Science](http://r4ds.had.co.nz/introduction.html) by Grolemund & Wickham*"
   ]
  },
  {
   "cell_type": "markdown",
   "metadata": {
    "slideshow": {
     "slide_type": "slide"
    }
   },
   "source": [
    "```{figure} img/art_of_ds_cycle.png\n",
    "---\n",
    "width: 400px\n",
    "name: art_of_ds_cycle\n",
    "align: left\n",
    "---\n",
    "```"
   ]
  },
  {
   "cell_type": "markdown",
   "metadata": {
    "slideshow": {
     "slide_type": "notes"
    }
   },
   "source": [
    "*Source: [Art of Data Science](https://leanpub.com/artofdatascience) by Peng & Matsui*"
   ]
  },
  {
   "cell_type": "markdown",
   "metadata": {
    "slideshow": {
     "slide_type": "slide"
    }
   },
   "source": [
    "### What's next?\n",
    "\n",
    "- why you should make your code flexible and modular\n",
    "- how to writing flexible scripts in R & Python that have command line arguments"
   ]
  }
 ],
 "metadata": {
  "anaconda-cloud": {},
  "celltoolbar": "Slideshow",
  "kernelspec": {
   "display_name": "Python 3",
   "language": "python",
   "name": "python3"
  },
  "language_info": {
   "codemirror_mode": {
    "name": "ipython",
    "version": 3
   },
   "file_extension": ".py",
   "mimetype": "text/x-python",
   "name": "python",
   "nbconvert_exporter": "python",
   "pygments_lexer": "ipython3",
   "version": "3.7.6"
  }
 },
 "nbformat": 4,
 "nbformat_minor": 4
}