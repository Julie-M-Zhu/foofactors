{
 "cells": [
  {
   "cell_type": "markdown",
   "metadata": {
    "slideshow": {
     "slide_type": "slide"
    }
   },
   "source": [
    "# Lecture 2 - Scaling up: read-eval-print-loop (REPL) processes versus non-interactive scripts"
   ]
  },
  {
   "cell_type": "markdown",
   "metadata": {
    "slideshow": {
     "slide_type": "slide"
    }
   },
   "source": [
    "## Learning Objectives:\n",
    "\n",
    "By the end of the lecture, students should be able to:\n",
    "\n",
    "- Explain when it is optimal to work in a read-eval-print-loop (REPL) framework and when it is optimal to shift to using non-interactive scripts\n",
    "- Be able to create simple scripts in Python and R that can take input and be executed from the command line"
   ]
  },
  {
   "cell_type": "markdown",
   "metadata": {
    "slideshow": {
     "slide_type": "slide"
    }
   },
   "source": [
    "#### Read-eval-print-loop (REPL) framework (*i.e.,* interactive mode) versus Scripts\n",
    "\n",
    "- Up until now, we have primarily been using R and Python in an Read-eval-print-loop (REPL) framework (*i.e.,* interactive mode)\n",
    "- Read-eval-print-loop (REPL) framework (*i.e.,* interactive mode) is when we run our code in the console in R/Python, or in cells/chunks in the RStudio/Juptyer notebooks\n",
    "- A Read-eval-print-loop (REPL) framework (*i.e.,* interactive mode) is very useful for:\n",
    "    - solving small problems\n",
    "    - developing code that will be knit to an analytic report\n",
    "    - developing code that will be run as a script (i.e., in \"batch\" mode)"
   ]
  },
  {
   "cell_type": "markdown",
   "metadata": {
    "slideshow": {
     "slide_type": "slide"
    }
   },
   "source": [
    "## What is a script?\n",
    "\n",
    "An R/Python script is simply a plain text file containing (almost) the same commands that you would enter into R/Python's console or in cells/chunks in the RStudio/Juptyer notebooks. We often run these from top to bottom from the command line/unix shell."
   ]
  },
  {
   "cell_type": "markdown",
   "metadata": {
    "slideshow": {
     "slide_type": "slide"
    }
   },
   "source": [
    "#### Why write scripts?\n",
    "\n",
    "- Efficiency!\n",
    "- Automation!\n",
    "- Reusable!\n",
    "- Record of what you have done!"
   ]
  },
  {
   "cell_type": "markdown",
   "metadata": {
    "slideshow": {
     "slide_type": "slide"
    }
   },
   "source": [
    "### Scripts in R"
   ]
  },
  {
   "cell_type": "markdown",
   "metadata": {
    "slideshow": {
     "slide_type": "fragment"
    }
   },
   "source": [
    "Let's start with a small, simple example to demonstrate how we write and run scripts in R (it is very similar in Python and we will get to this later in the lesson).\n",
    "\n",
    "Our script will be called `print_mean_hp.R`, and it will calculate the mean horsepower of the cars from the built-in R data frame `mtcars`. \n",
    "\n",
    "We will develop this script inside RStudio, make sure it works, and then run it from the command line/terminal/Git bash.\n",
    "\n",
    "##### Our first R script:\n",
    "\n",
    "```\n",
    "# author: Tiffany Timbers\n",
    "# date: 2020-01-15\n",
    "#\n",
    "# This script calculates the mean horsepower of the cars from the built-in \n",
    "# R data frame `mtcars`. This script takes no arguments.\n",
    "#\n",
    "# Usage: Rscript print_mean_hp.R\n",
    "\n",
    "mean_hp <- mean(mtcars$hp)\n",
    "print(mean_hp)\n",
    "```\n"
   ]
  },
  {
   "cell_type": "markdown",
   "metadata": {
    "slideshow": {
     "slide_type": "slide"
    }
   },
   "source": [
    "##### Running our first R script\n",
    "\n",
    "To run our R script, we need to open the command line/terminal/Git bash, and either navigate to the directory that houses the script OR point to it when we call it. We will do the former.\n",
    "\n",
    "Then to run the R script, we use the `Rscript` command, followed by the name/path to the file:\n",
    "\n",
    "```\n",
    "Rscript print_mean_hp.R\n",
    "```\n",
    "\n",
    "The output should be:\n",
    "\n",
    "```\n",
    "[1] 146.6875\n",
    "```"
   ]
  },
  {
   "cell_type": "markdown",
   "metadata": {},
   "source": [
    "#### A couple notes about scripts\n",
    "\n",
    "- If you want something to be output to the command line/terminal/Git bash, you **should** explicitly ask for it to be print. *This is not an absolute requirement in R, but it is in Python!*\n",
    "- Similar with figures, they need to be saved! You will never see a figure created in a script unless you write it to a file.\n",
    "- From a reproducibility perspective, if we want input from the user, usually we will design the scripts to take command line arguments, and not use keyboard/user prompts.\n"
   ]
  },
  {
   "cell_type": "markdown",
   "metadata": {
    "slideshow": {
     "slide_type": "slide"
    }
   },
   "source": [
    "### Script structure and organization\n",
    "\n",
    "Although not necessary in R or Python, it is still good practice and advised to organize the code in your script into a main function and other functions. This practice keeps your code readable and organized, this has some additional benefits we will discuss later.\n",
    "\n",
    "##### Example R script organization:\n",
    "```\n",
    "# documentation comments\n",
    "\n",
    "# import libraries/packages\n",
    "\n",
    "# parse/define command line arguments here\n",
    "\n",
    "# define main function\n",
    "main <- function(){\n",
    "    # code for \"guts\" of script goes here\n",
    "}\n",
    "\n",
    "# code for other functions & tests goes here\n",
    "\n",
    "# call main function\n",
    "main()\n",
    "```\n",
    "\n",
    "\n",
    "\n"
   ]
  },
  {
   "cell_type": "markdown",
   "metadata": {
    "slideshow": {
     "slide_type": "slide"
    }
   },
   "source": [
    "##### Example Python script organization:\n",
    "```\n",
    "# documentation comments\n",
    "\n",
    "# import libraries/packages\n",
    "\n",
    "# parse/define command line arguments here\n",
    "\n",
    "# define main function\n",
    "def main():\n",
    "    # code for \"guts\" of script goes here\n",
    "\n",
    "# code for other functions & tests goes here\n",
    "\n",
    "# call main function\n",
    "if __name__ == \"__main__\":\n",
    "    main()\n",
    "```"
   ]
  },
  {
   "cell_type": "markdown",
   "metadata": {
    "slideshow": {
     "slide_type": "skip"
    }
   },
   "source": [
    "*You can see that R and Python scripts should have roughly the same style. There is the difference of `if __name__ == \"__main__\":` in Python scripts, and R does not really have an equivalent. The benefit of some control flow around `main`, as is done in Python, is so that you could import or source the other functions in the script without running the `main` function.* \n",
    "\n",
    "*You can do something like this in R (although I am not sure how commonly it is done - I more often see folks instead typically abstract the other functions into another script and source that, or create an R package):*\n",
    "\n",
    "```\n",
    "if (getOption('run.main', default = FALSE)) {\n",
    "  main()\n",
    "}\n",
    "```\n",
    "\n",
    "*I made a demo and you can find it here: [https://github.com/ttimbers/if_name_equals_main](https://github.com/ttimbers/if_name_equals_main)*"
   ]
  },
  {
   "cell_type": "markdown",
   "metadata": {
    "slideshow": {
     "slide_type": "slide"
    }
   },
   "source": [
    "## Scripts in R:"
   ]
  },
  {
   "cell_type": "markdown",
   "metadata": {
    "slideshow": {
     "slide_type": "fragment"
    }
   },
   "source": [
    "Here we write a script called `quick_titanic_fare_se.R` which reads in the [titanic dataset](https://github.ubc.ca/ubc-mds-2016/datasets/raw/master/data/titanic.csv) and calculates the standard error for the fare (ticket price) variable.\n",
    "\n",
    "Our script has two functions, a function we defined to calculate the standard error of the mean (such a function does not exist in R) and a `main` function which runs the \"body\" of our code.\n",
    "\n",
    "```\n",
    "# author: Tiffany Timbers\n",
    "# date: 2020-01-15\n",
    "#\n",
    "# This script calculates the standard error for the fare (ticket price)\n",
    "# from titanic.csv. This script takes no arguments.\n",
    "#\n",
    "# Usage: quick_titanic_fare_se.R\n",
    "\n",
    "library(tidyverse)\n",
    "library(testthat)\n",
    "\n",
    "main <- function() {\n",
    "\n",
    "  # read in data\n",
    "  data <- read_csv('data/titanic.csv')\n",
    "\n",
    "  # print out statistic of variable of interest\n",
    "  out <- data %>%\n",
    "    pull(fare) %>%\n",
    "    sterror()\n",
    "  print(out)\n",
    "}\n",
    "\n",
    "#' calculate standard error\n",
    "#'\n",
    "#' @param x a vector of numeric values\n",
    "#' @return the standard error of x as a numeric vector of length one\n",
    "#' @examples\n",
    "#' sterror(mtcars$hp)\n",
    "sterror <- function(x) {\n",
    "  sd(x, na.rm = TRUE) / sqrt(length(x))\n",
    "}\n",
    "\n",
    "test_that(\"sterror should return 0 if vector values are all the same\", {\n",
    "    expect_equal(sterror(c(1, 1, 1)), 0)\n",
    "})\n",
    "\n",
    "main()\n",
    "```"
   ]
  },
  {
   "cell_type": "markdown",
   "metadata": {},
   "source": [
    "#### Note on functions and tests in scripts\n",
    "\n",
    "There are different levels of abstraction, that also scale with project complexity and importance. For now, its OK to put our functions and tests inside the scripts we call to \"run\" our analysis. However, as these grow in size and complexity we will want to abstract these to their own `.R` and `.py` files and take advantage of testing software that can automate the running of tests. This can also be paired with version control so that the tests are run everytime code is pushed to GitHub (we call this continuous integration). We will learn more about this later in this and follow-on courses."
   ]
  },
  {
   "cell_type": "markdown",
   "metadata": {},
   "source": [
    "### Using command line arguments in R\n",
    "Let's make our script more flexible, and let us specify when we call the script, what variable we want to calculate the standard error for.\n",
    "\n",
    "To do this, we use the `docopt` R package. This will allow us to collect the text we enter at the command line when we call the script, and make it available to us when we run the script. \n",
    "\n",
    "When we run `docopt` it takes the text we entered at the command line and gives it to us as a named list of the text provided after the script name. The names of the items in the list come from the documentation. Whitespace at the command line is what is used to parse the text into separate items in the vector.\n",
    "\n",
    "```\n",
    "# author: Tiffany Timbers\n",
    "# date: 2020-01-15\n",
    "\n",
    "\"This script calculates the standard error for the fare (ticket price)\n",
    "from titanic.csv. This script takes no arguments.\n",
    "\n",
    "Usage: quick_titanic_fare_se.R <var>\n",
    "\" -> doc\n",
    "\n",
    "library(tidyverse)\n",
    "library(testthat)\n",
    "library(docopt)\n",
    "\n",
    "opt <- docopt(doc)\n",
    "\n",
    "main <- function(var) {\n",
    "\n",
    "  # read in data\n",
    "  data <- read_csv('data/titanic.csv')\n",
    "\n",
    "  # print out statistic of variable of interest\n",
    "  out <- data %>%\n",
    "    pull({{var}}) %>%\n",
    "    sterror()\n",
    "  print(out)\n",
    "}\n",
    "\n",
    "#' calculate standard error\n",
    "#'\n",
    "#' @param x a vector of numeric values\n",
    "#' @return the standard error of x as a numeric vector of length one\n",
    "#' @examples\n",
    "#' sterror(mtcars$hp)\n",
    "sterror <- function(x) {\n",
    "  sd(x, na.rm = TRUE) / sqrt(length(x))\n",
    "}\n",
    "\n",
    "test_that(\"sterror should return 0 if vector values are all the same\", {\n",
    "    expect_equal(sterror(c(1, 1, 1)), 0)\n",
    "})\n",
    "\n",
    "main(opt$var)\n",
    "```\n",
    "\n",
    "And we would run a script like this from the command line as follows: \n",
    "\n",
    "```\n",
    "Rscript src/quick_csv_stat.R fare\n",
    "```"
   ]
  },
  {
   "cell_type": "markdown",
   "metadata": {},
   "source": [
    "Let's make our script even more flexible, and let us specify that dataset as well (we could then use it more generally on other files, such as the Gapminder `.csv`'s we saw in Block 1).\n",
    "\n",
    "\n",
    "```\n",
    "# author: Tiffany Timbers\n",
    "# date: 2020-01-15\n",
    "\n",
    "\"This script calculates the standard error for any numerical vector\n",
    "from a csv file. This script takes an unquoted column name and a data file path.\n",
    "\n",
    "Usage: quick_titanic_fare_se.R <file_path> <var>\n",
    "\" -> doc\n",
    "\n",
    "library(tidyverse)\n",
    "library(testthat)\n",
    "library(docopt)\n",
    "\n",
    "opt <- docopt(doc)\n",
    "\n",
    "main <- function(file_path, var) {\n",
    "\n",
    "  # read in data\n",
    "  data <- read_csv(file_path)\n",
    "\n",
    "  # print out statistic of variable of interest\n",
    "  out <- data %>%\n",
    "    pull({{var}}) %>%\n",
    "    sterror()\n",
    "  print(out)\n",
    "}\n",
    "\n",
    "#' calculate standard error\n",
    "#'\n",
    "#' @param x a vector of numeric values\n",
    "#' @return the standard error of x as a numeric vector of length one\n",
    "#' @examples\n",
    "#' sterror(mtcars$hp)\n",
    "sterror <- function(x) {\n",
    "  sd(x, na.rm = TRUE) / sqrt(length(x))\n",
    "}\n",
    "\n",
    "test_that(\"sterror should return 0 if vector values are all the same\", {\n",
    "    expect_equal(sterror(c(1, 1, 1)), 0)\n",
    "})\n",
    "\n",
    "main(opt$file_path, opt$var)\n",
    "\n",
    "```"
   ]
  },
  {
   "cell_type": "markdown",
   "metadata": {
    "slideshow": {
     "slide_type": "slide"
    }
   },
   "source": [
    "### Positional arguments vs options\n",
    "\n",
    "In the examples above, we used `docopt` to specify positional arguments. This means that the order matters! If we change the order of the values of the arguments at the command line, our script will likely throw an error, because it will try to perform the wrong operations on the wrong values. \n",
    "\n",
    "Another downside to positional arguments, is that without good documentation, they can be less readable. And certainly the call to the script to is less readable. We can instead give the arguments names using `--ARGUMENT_NAME` syntax. We call these \"options\". Below is the same script but specified using options as opposed to positional arguments:\n",
    "\n",
    "```\n",
    "# author: Tiffany Timbers\n",
    "# date: 2020-01-15\n",
    "\n",
    "\"This script calculates the standard error for any numerical vector\n",
    "from a csv file. This script takes an unquoted column name and a data file path.\n",
    "\n",
    "Usage: quick_titanic_fare_se.R --file_path=<file_path> --var=<var>\n",
    "\n",
    "Options:\n",
    "--file_path=<file_path>   Path to the data file\n",
    "--var=<var>               Unquoted column name of the numerical vector for which to calculate the se\n",
    "\" -> doc\n",
    "\n",
    "library(tidyverse)\n",
    "library(testthat)\n",
    "library(docopt)\n",
    "\n",
    "opt <- docopt(doc)\n",
    "\n",
    "main <- function(file_path, var) {\n",
    "\n",
    "  # read in data\n",
    "  data <- read_csv(file_path)\n",
    "\n",
    "  # print out statistic of variable of interest\n",
    "  out <- data %>%\n",
    "    pull({{var}}) %>%\n",
    "    sterror()\n",
    "  print(out)\n",
    "}\n",
    "\n",
    "#' calculate standard error\n",
    "#'\n",
    "#' @param x a vector of numeric values\n",
    "#' @return the standard error of x as a numeric vector of length one\n",
    "#' @examples\n",
    "#' sterror(mtcars$hp)\n",
    "sterror <- function(x) {\n",
    "  sd(x, na.rm = TRUE) / sqrt(length(x))\n",
    "}\n",
    "\n",
    "test_that(\"sterror should return 0 if vector values are all the same\", {\n",
    "    expect_equal(sterror(c(1, 1, 1)), 0)\n",
    "})\n",
    "\n",
    "main(opt$file_path, opt$var)\n",
    "\n",
    "```"
   ]
  },
  {
   "cell_type": "markdown",
   "metadata": {},
   "source": [
    "And we would run a script like this that uses options like this: \n",
    "\n",
    "```\n",
    "Rscript src/quick_csv_stat.R --file_path=data/titanic.csv --var=fare\n",
    "```\n",
    "\n",
    "or like this: \n",
    "\n",
    "```\n",
    "Rscript src/quick_csv_stat.R --var=fare --file_path=data/titanic.csv\n",
    "```\n",
    "\n",
    "because we gave the arguments names, and thus their position no longer matters!"
   ]
  },
  {
   "cell_type": "markdown",
   "metadata": {},
   "source": [
    "### Optional elements (arguments or options)\n",
    "\n",
    "If you would like an argument or option to be \"optional\" (i.e., not required!) enclose them with the square brackets \"[ ]\"  in the documentation."
   ]
  },
  {
   "cell_type": "markdown",
   "metadata": {},
   "source": [
    "#### Improving our docs\n",
    "\n",
    "We can improve our docs further by adding an \"Options\" section with {docopt}:\n",
    "\n",
    "```\n",
    "# author: Tiffany Timbers\n",
    "# date: 2020-01-15\n",
    "\n",
    "\"This script calculates the standard error for any numerical vector\n",
    "from a csv file. This script takes an unquoted column name and a data file path.\n",
    "\n",
    "Usage: quick_titanic_fare_se.R --file_path=<file_path> --var=<var>\n",
    "\n",
    "Options:\n",
    "--file_path=<file_path>   Path to the data file\n",
    "--var=<var>               Unquoted column name of the numerical vector for which to calculate the se\n",
    "\" -> doc\n",
    "\n",
    "library(tidyverse)\n",
    "library(testthat)\n",
    "library(docopt)\n",
    "\n",
    "opt <- docopt(doc)\n",
    "\n",
    "main <- function(file_path, var) {\n",
    "\n",
    "  # read in data\n",
    "  data <- read_csv(file_path)\n",
    "\n",
    "  # print out statistic of variable of interest\n",
    "  out <- data %>%\n",
    "    pull({{var}}) %>%\n",
    "    sterror()\n",
    "  print(out)\n",
    "}\n",
    "\n",
    "#' calculate standard error\n",
    "#'\n",
    "#' @param x a vector of numeric values\n",
    "#' @return the standard error of x as a numeric vector of length one\n",
    "#' @examples\n",
    "#' sterror(mtcars$hp)\n",
    "sterror <- function(x) {\n",
    "  sd(x, na.rm = TRUE) / sqrt(length(x))\n",
    "}\n",
    "\n",
    "test_that(\"sterror should return 0 if vector values are all the same\", {\n",
    "    expect_equal(sterror(c(1, 1, 1)), 0)\n",
    "})\n",
    "\n",
    "main(opt$file_path, opt$var)\n",
    "\n",
    "```"
   ]
  },
  {
   "cell_type": "markdown",
   "metadata": {},
   "source": [
    "And then the user can see these docs by calling the script from the command line and using the `--help` to get this information:\n",
    "\n",
    "```\n",
    "This script calculates the standard error for any numerical vector\n",
    "from a csv file. This script takes an unquoted column name and a data file path.\n",
    "\n",
    "Usage: quick_titanic_fare_se.R --file_path=<file_path> --var=<var>\n",
    "\n",
    "Options:\n",
    "--file_path=<file_path>   Path to the data file\n",
    "--var=<var>               Unquoted column name of the numerical vector for which to calculate the se \n",
    "```"
   ]
  },
  {
   "cell_type": "markdown",
   "metadata": {},
   "source": [
    "## Scripts in Python\n",
    "\n",
    "Reminder of what they typically look like:\n",
    "\n",
    "```\n",
    "# documentation comments\n",
    "\n",
    "# import libraries/packages\n",
    "\n",
    "# parse/define command line arguments here\n",
    "\n",
    "# define main function\n",
    "def main():\n",
    "    # code for \"guts\" of script goes here\n",
    "\n",
    "# code for other functions & tests goes here\n",
    "\n",
    "# call main function\n",
    "if __name__ == \"__main__\":\n",
    "    main()\n",
    "```"
   ]
  },
  {
   "cell_type": "markdown",
   "metadata": {
    "slideshow": {
     "slide_type": "slide"
    }
   },
   "source": [
    "### Where to develop scripts in Python\n",
    "\n",
    "#### In a integrated development environment (IDE):\n",
    "\n",
    "Or use an IDE, such as:\n",
    "- RStudio (gasp! 😱) via [`reticulate`](https://rstudio.github.io/reticulate/)\n",
    "- VS Code\n",
    "- [Spyder](https://www.spyder-ide.org/) (I think this comes with Anaconda, so you should have it installed)\n",
    "- Atom text editor + [`hydrogen`](https://atom.io/packages/hydrogen) (highly recommended by Mike Yuan, an MDS Alumni)\n",
    "- [PyCharm](https://www.jetbrains.com/pycharm/)\n",
    "\n",
    "#### In a Jupyter notebook:\n",
    "\n",
    "Jupyter + [`nbconvert`](https://nbconvert.readthedocs.io/en/latest/) (install via `conda install nbconvert`):\n",
    "\n",
    "Convert a notebook to a script at the command line via:\n",
    "```jupyter nbconvert --to script <input notebook>```\n",
    "\n",
    "#### TLDR;\n",
    "\n",
    "I recommend using an IDE over Jupyter. True, you may want to abstract code the originally was developed in a Jupyter notebook, but as soon as you switch the filename from `.ipynb` to `.py` you should change developing environments."
   ]
  },
  {
   "cell_type": "markdown",
   "metadata": {
    "slideshow": {
     "slide_type": "slide"
    }
   },
   "source": [
    "### Command line arguments in Python explained\n",
    "\n",
    "`docopt` was originally written in and for Python! There are other packages you can use, but `docopt` is extremely elegant and powerful. I've used `sys` and `argparse` previously, and now that I've tried `docopt`, there's no turning back for me. Key features I like are:\n",
    "- writing the code for the command line arguments in docopt forces you to write the documentation (because it parses the documentation!)\n",
    "- it gives you the command line arguments as simple dictionary\n",
    "- you have to write very few lines of code to parse a complicated command line input\n",
    "- it provides a consistent framework between R and Python"
   ]
  },
  {
   "cell_type": "markdown",
   "metadata": {
    "slideshow": {
     "slide_type": "slide"
    }
   },
   "source": [
    "Here we rewrite the script above in Python using `docopt`:\n",
    "\n",
    "\n",
    "```\n",
    "# author: Tiffany Timbers\n",
    "# date: 2020-01-15\n",
    "\n",
    "'''This script calculates the standard error for any numerical vector\n",
    "from a csv file. This script takes an unquoted column name and a data file path.\n",
    "\n",
    "Usage: quick_titanic_fare_se.py --file_path=<file_path> --var=<var>\n",
    "\n",
    "Options:\n",
    "--file_path=<file_path>   Path to the data file\n",
    "--var=<var>               Unquoted column name of the numerical vector for which to calculate the se\n",
    "'''\n",
    "\n",
    "import pandas as pd\n",
    "import numpy as np\n",
    "from docopt import docopt\n",
    "\n",
    "opt = docopt(__doc__)\n",
    "\n",
    "def main(file_path, var):\n",
    "  # read in data\n",
    "  data = pd.read_csv(file_path)\n",
    "\n",
    "  # print out statistic of variable of interest\n",
    "  out = sterror(data[var])\n",
    "  print(out)\n",
    "\n",
    "# standard error function\n",
    "\n",
    "def sterror(x):\n",
    "  \"\"\"\n",
    "  calculate standard error\n",
    "    \n",
    "  Parameters\n",
    "  ----------\n",
    "  numpy.ndarray : x\n",
    "    A numpy array of numeric values.\n",
    "        \n",
    "  Returns\n",
    "  -------\n",
    "  se\n",
    "    The standard error of x. \n",
    "        \n",
    "  Examples\n",
    "  --------\n",
    "  >>> sterror(numpy.array([2, 2, 2]))\n",
    "  0\n",
    "  \"\"\"\n",
    "  se = x.std()/np.sqrt(x.size)\n",
    "  return se\n",
    "  \n",
    "def test_sterror():\n",
    "  assert sterror(np.array([1, 1, 1])) == 0, \"sterror should return 0 if vector values are all the same\"\n",
    "\n",
    "test_sterror()\n",
    "  \n",
    "if __name__ == \"__main__\":\n",
    "    main(opt[\"--file_path\"], opt[\"--var\"])\n",
    "\n",
    "```"
   ]
  },
  {
   "cell_type": "markdown",
   "metadata": {
    "slideshow": {
     "slide_type": "skip"
    }
   },
   "source": [
    "## Some tips for RStudio IDE:\n",
    "\n",
    "- To indent a block of text, highlight and use tab\n",
    "- To fix indenting in general to R code standards, use Command/Cntrl + I \n",
    "- To get multiple cursors, hold alt/option and highlight lines using cursor\n",
    "- To get multiple cursors to the beginning of the line, use control A\n",
    "- To get multiple cursors to the end of the line, use control E"
   ]
  },
  {
   "cell_type": "markdown",
   "metadata": {
    "slideshow": {
     "slide_type": "slide"
    }
   },
   "source": [
    "## What we covered:\n",
    "\n",
    "- When to work in a read-eval-print-loop (REPL) framework versus when to use scripts\n",
    "- Scripts in R\n",
    "- Scripts in Python\n",
    "- Command line arguments in R & Python"
   ]
  },
  {
   "cell_type": "markdown",
   "metadata": {
    "slideshow": {
     "slide_type": "slide"
    }
   },
   "source": [
    "## What's next?\n",
    "\n",
    "- running literate code documents interactively\n",
    "- more advanced R Markdown (figure and table formatting, citation)\n",
    "- flexible R Markdown reports with parameterization"
   ]
  }
 ],
 "metadata": {
  "anaconda-cloud": {},
  "celltoolbar": "Slideshow",
  "kernelspec": {
   "display_name": "Python 3",
   "language": "python",
   "name": "python3"
  },
  "language_info": {
   "codemirror_mode": {
    "name": "ipython",
    "version": 3
   },
   "file_extension": ".py",
   "mimetype": "text/x-python",
   "name": "python",
   "nbconvert_exporter": "python",
   "pygments_lexer": "ipython3",
   "version": "3.8.3"
  }
 },
 "nbformat": 4,
 "nbformat_minor": 1
}